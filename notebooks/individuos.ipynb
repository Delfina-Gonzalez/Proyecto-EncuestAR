{
 "cells": [
  {
   "cell_type": "markdown",
   "id": "1bf139ee",
   "metadata": {},
   "source": [
    "#EPH - Individuos\n"
   ]
  },
  {
   "cell_type": "code",
   "execution_count": 1,
   "id": "dea3f3a3",
   "metadata": {},
   "outputs": [],
   "source": [
    "import sys\n",
    "import os\n",
    "import csv\n",
    "from pathlib import Path"
   ]
  },
  {
   "cell_type": "markdown",
   "id": "4905b49e",
   "metadata": {},
   "source": [
    "Antes de comenzar, se establece la ruta a la fuente para no tener problemas en la importación de módulos.\n"
   ]
  },
  {
   "cell_type": "code",
   "execution_count": 2,
   "id": "c3996967",
   "metadata": {},
   "outputs": [
    {
     "name": "stdout",
     "output_type": "stream",
     "text": [
      "Ruta de 'src': c:\\Users\\PC\\Documents\\1) Estudios y Programacion\\EncuestAR\\src\n"
     ]
    }
   ],
   "source": [
    "# Ajustar la ruta para que Python reconozca la carpeta \"src\"\n",
    "project_path = os.path.abspath(os.path.join(\"..\"))  \n",
    "sys.path.append(project_path) \n",
    "# Verificación (debe mostrar la ruta a \"src/\")\n",
    "print(\"Ruta de 'src':\", os.path.join(project_path, \"src\"))"
   ]
  },
  {
   "cell_type": "markdown",
   "id": "1e575df5",
   "metadata": {},
   "source": [
    "## Unificación del archivo"
   ]
  },
  {
   "cell_type": "code",
   "execution_count": 3,
   "id": "1a9de7e2",
   "metadata": {},
   "outputs": [
    {
     "name": "stdout",
     "output_type": "stream",
     "text": [
      "✅ Archivo TXT guardado en: ../data/clean\\individuos_unificado.txt\n"
     ]
    }
   ],
   "source": [
    "from src.utils.helpers import  process_file, save_to_txt\n",
    "# Ruta los archivos \n",
    "source_path = \"../data/raw\"\n",
    "destination_path = \"../data/clean\"\n",
    "\n",
    "# Procesar y guardar individuos\n",
    "individual=process_file(source_path, category=\"individual\")\n",
    "save_to_txt(individual, destination_path, \"individuos_unificado.txt\")"
   ]
  },
  {
   "cell_type": "markdown",
   "id": "50665c3c",
   "metadata": {},
   "source": [
    "## CONSULTAS"
   ]
  },
  {
   "cell_type": "code",
   "execution_count": null,
   "id": "376e4a29",
   "metadata": {},
   "outputs": [],
   "source": [
    "# Ruta original del archivo limpio\n",
    "ruta = \"../data/clean\"\n",
    "archivo = \"individuos_procesado.txt\"\n",
    "ruta_archivo = Path(ruta) / archivo"
   ]
  },
  {
   "cell_type": "code",
   "execution_count": null,
   "id": "f653c547",
   "metadata": {},
   "outputs": [],
   "source": []
  }
 ],
 "metadata": {
  "kernelspec": {
   "display_name": "Python 3",
   "language": "python",
   "name": "python3"
  },
  "language_info": {
   "codemirror_mode": {
    "name": "ipython",
    "version": 3
   },
   "file_extension": ".py",
   "mimetype": "text/x-python",
   "name": "python",
   "nbconvert_exporter": "python",
   "pygments_lexer": "ipython3",
   "version": "3.12.9"
  }
 },
 "nbformat": 4,
 "nbformat_minor": 5
}
