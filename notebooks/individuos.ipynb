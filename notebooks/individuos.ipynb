{
 "cells": [
  {
   "cell_type": "markdown",
   "id": "1bf139ee",
   "metadata": {},
   "source": [
    "#EPH - Individuos\n"
   ]
  },
  {
   "cell_type": "code",
   "execution_count": null,
   "id": "dea3f3a3",
   "metadata": {},
   "outputs": [],
   "source": [
    "import sys\n",
    "import os\n",
    "import csv\n",
    "from pathlib import Path"
   ]
  },
  {
   "cell_type": "markdown",
   "id": "4905b49e",
   "metadata": {},
   "source": [
    "Antes de comenzar, se establece la ruta a la fuente para no tener problemas en la importación de módulos.\n"
   ]
  },
  {
   "cell_type": "code",
   "execution_count": null,
   "id": "c3996967",
   "metadata": {},
   "outputs": [],
   "source": [
    "# Ajustar la ruta para que Python reconozca la carpeta \"src\"\n",
    "ruta_proyecto = os.path.abspath(os.path.join(\"..\"))  \n",
    "sys.path.append(ruta_proyecto) \n",
    "# Verificación (debe mostrar la ruta a \"src/\")\n",
    "print(\"Ruta de 'src':\", os.path.join(ruta_proyecto, \"src\"))"
   ]
  },
  {
   "cell_type": "markdown",
   "id": "1e575df5",
   "metadata": {},
   "source": [
    "## Unificación del archivo"
   ]
  },
  {
   "cell_type": "code",
   "execution_count": null,
   "id": "1a9de7e2",
   "metadata": {},
   "outputs": [],
   "source": [
    "from src.utils.helpers import procesar_archivos,guardar_en_txt\n",
    "# Ruta los archivos \n",
    "ruta = \"../data/raw\"\n",
    "ruta_destino = \"../data/clean\"\n",
    "\n",
    "# Procesar y guardar individuos\n",
    "individual = procesar_archivos(ruta, tipo=\"individual\")\n",
    "guardar_en_txt(individual, ruta_destino, \"individuos_unificado.txt\")"
   ]
  }
 ],
 "metadata": {
  "language_info": {
   "name": "python"
  }
 },
 "nbformat": 4,
 "nbformat_minor": 5
}
