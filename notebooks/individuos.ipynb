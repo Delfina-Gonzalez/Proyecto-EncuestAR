{
 "cells": [
  {
   "cell_type": "markdown",
   "id": "1bf139ee",
   "metadata": {},
   "source": [
    "# EPH - Individuos\n"
   ]
  },
  {
   "cell_type": "markdown",
   "id": "eff6a592-fa22-4d9e-bdac-15b21d379230",
   "metadata": {},
   "source": [
    "## Ajuste de ruta del proyecto en Notebook"
   ]
  },
  {
   "cell_type": "code",
   "execution_count": 1,
   "id": "c3996967",
   "metadata": {},
   "outputs": [],
   "source": [
    "import sys\n",
    "sys.path.append(\"..\") "
   ]
  },
  {
   "cell_type": "markdown",
   "id": "1e575df5",
   "metadata": {},
   "source": [
    "## Unificación de los archivos de Individuos"
   ]
  },
  {
   "cell_type": "code",
   "execution_count": 2,
   "id": "1a9de7e2",
   "metadata": {},
   "outputs": [
    {
     "name": "stdout",
     "output_type": "stream",
     "text": [
      "✅ Archivo TXT guardado en: C:\\Users\\pc\\Documents\\UNLP\\repo-comun\\EncuestAR\\data\\clean\\individuos_unificado.txt\n"
     ]
    }
   ],
   "source": [
    "from src.utils.helpers import  process_file, save_to_txt\n",
    "from src.utils.constants import DATA_SOURCE_DIR,DATA_CLEAN_DIR,FILENAME_INDIVIDUOS_UNIFIED\n",
    "\n",
    "# Proceso todos los archivos de individuos\n",
    "individual=process_file(DATA_SOURCE_DIR, \"individual\")\n",
    "\n",
    "# Guardo contenido en un archivo txt\n",
    "save_to_txt(individual, DATA_CLEAN_DIR, FILENAME_INDIVIDUOS_UNIFIED)"
   ]
  },
  {
   "cell_type": "markdown",
   "id": "e18ac8cc-fc8f-4deb-8061-c10538ec8c57",
   "metadata": {},
   "source": [
    "## Procesamiento de los archivos"
   ]
  },
  {
   "cell_type": "markdown",
   "id": "0f316949-058b-41dc-85e5-1f9e741669f0",
   "metadata": {},
   "source": [
    "Abro el archivo unificado"
   ]
  },
  {
   "cell_type": "code",
   "execution_count": 3,
   "id": "57d63c2b-e64d-4615-a09e-dc3c825f7232",
   "metadata": {},
   "outputs": [],
   "source": [
    "from src.utils.constants import INDIVIDUOS_UNIFIED_DIR\n",
    "from src.utils.helpers import read_file_dic\n",
    "import csv\n",
    "\n",
    "header,data=read_file_dic(INDIVIDUOS_UNIFIED_DIR)"
   ]
  },
  {
   "cell_type": "markdown",
   "id": "43e974bb",
   "metadata": {},
   "source": [
    "Proceso el archivo"
   ]
  },
  {
   "cell_type": "code",
   "execution_count": 4,
   "id": "06c3318d-1836-4b5d-b4de-89de2df3a2d4",
   "metadata": {},
   "outputs": [],
   "source": [
    "import src.procesamientos.individuos as indiv\n",
    "\n",
    "# Agrego las nuevas columnas al header\n",
    "header.extend([\"CH04_str\",\"NIVEL_ED_str\",\"CONDICION_LABORAL\",\"UNIVERSITARIO\"])\n",
    "\n",
    "# Proceso las nuevas columnas por cada fila\n",
    "for row in data:\n",
    "    indiv.add_data_ch04str(row)\n",
    "    indiv.add_data_nivel_ed_str(row)\n",
    "    indiv.add_data_cond_lab(row)\n",
    "    indiv.add_data_universitario(row)"
   ]
  },
  {
   "cell_type": "markdown",
   "id": "143ea7f1-056b-4ff3-a46c-43d2f5e367aa",
   "metadata": {},
   "source": [
    "Guardo los datos procesados a un archivo"
   ]
  },
  {
   "cell_type": "code",
   "execution_count": 5,
   "id": "0e040eb3-620f-4e9a-945c-d0a18fcac8ff",
   "metadata": {},
   "outputs": [],
   "source": [
    "from src.utils.constants import INDIVIDUOS_PROCESSED_DIR\n",
    "\n",
    "with open (INDIVIDUOS_PROCESSED_DIR,\"w\",encoding=\"UTF-8\",newline='') as file_individuos_processed:\n",
    "    csv_writer= csv.DictWriter(file_individuos_processed, delimiter=\";\",fieldnames=header)\n",
    "    csv_writer.writeheader()\n",
    "    csv_writer.writerows(data)"
   ]
  },
  {
   "cell_type": "markdown",
   "id": "50665c3c",
   "metadata": {},
   "source": [
    "## Análisis de Individuos"
   ]
  },
  {
   "cell_type": "markdown",
   "id": "f57439e4-2f63-4edc-b3fc-4b44c1fd76bc",
   "metadata": {},
   "source": [
    "Abro el archivo de individuos procesado:"
   ]
  },
  {
   "cell_type": "code",
   "execution_count": 6,
   "id": "376e4a29",
   "metadata": {},
   "outputs": [],
   "source": [
    "header,data=read_file_dic(INDIVIDUOS_PROCESSED_DIR)"
   ]
  },
  {
   "cell_type": "markdown",
   "id": "d68f1157-b886-4856-adbd-117abb6d65df",
   "metadata": {},
   "source": [
    "### 1- A partir de la información de cada año contenida en el dataset se debe informar, año tras año, el porcentaje de personas mayores a 2 años capaces e incapaces de leer y escribir."
   ]
  },
  {
   "cell_type": "code",
   "execution_count": 7,
   "id": "0c05b2d4-74a3-496e-b4ff-640072ffbe39",
   "metadata": {},
   "outputs": [
    {
     "name": "stdout",
     "output_type": "stream",
     "text": [
      "Año\tAlfabetizados\tNo alfabetizados\n",
      "2024\t27519850\t\t1647765\n"
     ]
    }
   ],
   "source": [
    "indiv.cant_personas_alfabetizadas(data)"
   ]
  },
  {
   "cell_type": "markdown",
   "id": "bd69e082-19ed-474f-b5ad-23704e43483b",
   "metadata": {},
   "source": [
    "### 2- A partir de un año y trimestre elegido por el usuario informar el porcentaje de personas no nacidas en Argentina que hayan cursado un nivel universitario o superior"
   ]
  },
  {
   "cell_type": "code",
   "execution_count": 9,
   "id": "0a76eda1-b686-4425-9220-766fa224652c",
   "metadata": {},
   "outputs": [
    {
     "name": "stdin",
     "output_type": "stream",
     "text": [
      "Ingrese el año:  2024\n",
      "Ingrese el trimestre [1 a 4]:  3\n"
     ]
    },
    {
     "name": "stdout",
     "output_type": "stream",
     "text": [
      "El % de personas extranjeras que han cursado el nivel superior o universitario en el trimestre 3 del año 2024 es del: 5.92%\n"
     ]
    }
   ],
   "source": [
    "#Ingreso de datos por el usuario\n",
    "ano=input(\"Ingrese el año: \")\n",
    "trim=input(\"Ingrese el trimestre [1 a 4]: \")\n",
    "\n",
    "indiv.porc_extranjero_universitario(ano,trim,data)"
   ]
  },
  {
   "cell_type": "markdown",
   "id": "40eb538c-c1d5-4dfc-863d-dabb0110b6bd",
   "metadata": {},
   "source": [
    "### 3- A partir de la información contenida en el dataset informar el año y trimestre donde hubo menor desocupación."
   ]
  },
  {
   "cell_type": "code",
   "execution_count": 10,
   "id": "79addb52-852f-4d74-a635-908c81ab514c",
   "metadata": {},
   "outputs": [
    {
     "name": "stdout",
     "output_type": "stream",
     "text": [
      "Valor mínimo de desocupación: 994334 en los siguientes años y trimestres:\n",
      "Año: 2024, Trimestre: 3\n"
     ]
    }
   ],
   "source": [
    "indiv.info_menor_desocupacion(data)"
   ]
  },
  {
   "cell_type": "code",
   "execution_count": null,
   "id": "08faad8b-34f8-41f6-8c7d-ee0fe84718cb",
   "metadata": {},
   "outputs": [],
   "source": []
  }
 ],
 "metadata": {
  "kernelspec": {
   "display_name": "Python 3 (ipykernel)",
   "language": "python",
   "name": "python3"
  },
  "language_info": {
   "codemirror_mode": {
    "name": "ipython",
    "version": 3
   },
   "file_extension": ".py",
   "mimetype": "text/x-python",
   "name": "python",
   "nbconvert_exporter": "python",
   "pygments_lexer": "ipython3",
   "version": "3.12.9"
  }
 },
 "nbformat": 4,
 "nbformat_minor": 5
}
