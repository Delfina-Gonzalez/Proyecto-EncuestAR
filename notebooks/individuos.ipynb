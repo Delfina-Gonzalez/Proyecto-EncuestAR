{
 "cells": [
  {
   "cell_type": "markdown",
   "id": "1bf139ee",
   "metadata": {},
   "source": [
    "# EPH - Individuos\n"
   ]
  },
  {
   "cell_type": "markdown",
   "id": "eff6a592-fa22-4d9e-bdac-15b21d379230",
   "metadata": {},
   "source": [
    "## Ajuste de ruta del proyecto en Notebook"
   ]
  },
  {
   "cell_type": "code",
   "execution_count": 1,
   "id": "ec9f785f",
   "metadata": {},
   "outputs": [],
   "source": [
    "import sys\n",
    "\n",
    "# Ajusto para que la reconozca la ruta del proyecto\n",
    "sys.path.append(\"..\") "
   ]
  },
  {
   "cell_type": "markdown",
   "id": "1e575df5",
   "metadata": {},
   "source": [
    "## Unificación de los archivos de Individuos"
   ]
  },
  {
   "cell_type": "code",
   "execution_count": 2,
   "id": "1a9de7e2",
   "metadata": {},
   "outputs": [
    {
     "name": "stdout",
     "output_type": "stream",
     "text": [
      "✅ Archivo TXT guardado en: C:\\Users\\galle\\OneDrive\\Escritorio\\Python-Estudio\\code\\data\\clean\\individuos_unificado.txt\n"
     ]
    }
   ],
   "source": [
    "from src.utils.constants import DATA_SOURCE_DIR,DATA_CLEAN_DIR,FILENAME_INDIVIDUOS_UNIFIED\n",
    "from src.utils.helpers import  process_file, save_to_txt\n",
    "\n",
    "# Procesar y guardar individuos\n",
    "encabezados,individual = process_file(DATA_SOURCE_DIR, category=\"individual\")\n",
    "save_to_txt(encabezados,individual, DATA_CLEAN_DIR , FILENAME_INDIVIDUOS_UNIFIED)\n"
   ]
  },
  {
   "cell_type": "markdown",
   "id": "e18ac8cc-fc8f-4deb-8061-c10538ec8c57",
   "metadata": {},
   "source": [
    "## Procesamiento de los archivos"
   ]
  },
  {
   "cell_type": "markdown",
   "id": "0f316949-058b-41dc-85e5-1f9e741669f0",
   "metadata": {},
   "source": [
    "Abro el archivo unificado"
   ]
  },
  {
   "cell_type": "code",
   "execution_count": 3,
   "id": "57d63c2b-e64d-4615-a09e-dc3c825f7232",
   "metadata": {},
   "outputs": [],
   "source": [
    "from src.utils.constants import INDIVIDUOS_UNIFIED_DIR\n",
    "from src.utils.helpers import read_file_dic\n",
    "\n",
    "header,data=read_file_dic(INDIVIDUOS_UNIFIED_DIR)"
   ]
  },
  {
   "cell_type": "markdown",
   "id": "43e974bb",
   "metadata": {},
   "source": [
    "Proceso el archivo"
   ]
  },
  {
   "cell_type": "code",
   "execution_count": 4,
   "id": "06c3318d-1836-4b5d-b4de-89de2df3a2d4",
   "metadata": {},
   "outputs": [],
   "source": [
    "import src.procesamientos.individuos as indiv\n",
    "\n",
    "indiv.add_extra_data(header,data)"
   ]
  },
  {
   "cell_type": "markdown",
   "id": "143ea7f1-056b-4ff3-a46c-43d2f5e367aa",
   "metadata": {},
   "source": [
    "Guardo los datos procesados a un archivo"
   ]
  },
  {
   "cell_type": "code",
   "execution_count": 5,
   "id": "0e040eb3-620f-4e9a-945c-d0a18fcac8ff",
   "metadata": {},
   "outputs": [],
   "source": [
    "from src.utils.constants import INDIVIDUOS_PROCESSED_DIR\n",
    "from src.utils.helpers import save_to_csv\n",
    "\n",
    "save_to_csv(INDIVIDUOS_PROCESSED_DIR,header,data, delimiter=\";\")"
   ]
  },
  {
   "cell_type": "markdown",
   "id": "50665c3c",
   "metadata": {},
   "source": [
    "## Análisis de Individuos"
   ]
  },
  {
   "cell_type": "markdown",
   "id": "f57439e4-2f63-4edc-b3fc-4b44c1fd76bc",
   "metadata": {},
   "source": [
    "Abro el archivo de individuos procesado:"
   ]
  },
  {
   "cell_type": "code",
   "execution_count": 6,
   "id": "376e4a29",
   "metadata": {},
   "outputs": [],
   "source": [
    "from src.utils.helpers import read_file_dic\n",
    "\n",
    "header,data=read_file_dic(INDIVIDUOS_PROCESSED_DIR)"
   ]
  },
  {
   "cell_type": "markdown",
   "id": "c7091637",
   "metadata": {},
   "source": [
    "Importo las funciones para realizar las consultas"
   ]
  },
  {
   "cell_type": "code",
   "execution_count": 15,
   "id": "52fd72b7",
   "metadata": {},
   "outputs": [],
   "source": [
    "import src.consultas.consultas as cs"
   ]
  },
  {
   "cell_type": "code",
   "execution_count": 18,
   "id": "709bbe41",
   "metadata": {},
   "outputs": [
    {
     "data": {
      "text/plain": [
       "<module 'src.consultas.consultas' from 'c:\\\\Users\\\\galle\\\\OneDrive\\\\Escritorio\\\\Python-Estudio\\\\code\\\\notebooks\\\\..\\\\src\\\\consultas\\\\consultas.py'>"
      ]
     },
     "execution_count": 18,
     "metadata": {},
     "output_type": "execute_result"
    }
   ],
   "source": [
    "import importlib\n",
    "\n",
    "importlib.reload(cs)"
   ]
  },
  {
   "cell_type": "markdown",
   "id": "d68f1157-b886-4856-adbd-117abb6d65df",
   "metadata": {},
   "source": [
    "### 1- A partir de la información de cada año contenida en el dataset se debe informar, año tras año, el porcentaje de personas mayores a 6 años capaces e incapaces de leer y escribir."
   ]
  },
  {
   "cell_type": "code",
   "execution_count": 22,
   "id": "0c05b2d4-74a3-496e-b4ff-640072ffbe39",
   "metadata": {},
   "outputs": [
    {
     "name": "stdout",
     "output_type": "stream",
     "text": [
      "Año           % Alfabetos      % No Alfabetos\n",
      "---------------------------------------------\n",
      "2024                98.28                1.72\n",
      "2023                98.33                1.67\n"
     ]
    }
   ],
   "source": [
    "cs.cant_personas_alfabetizadas(data)"
   ]
  },
  {
   "cell_type": "markdown",
   "id": "bd69e082-19ed-474f-b5ad-23704e43483b",
   "metadata": {},
   "source": [
    "### 2- A partir de un año y trimestre elegido por el usuario informar el porcentaje de personas no nacidas en Argentina que hayan cursado un nivel universitario o superior"
   ]
  },
  {
   "cell_type": "code",
   "execution_count": null,
   "id": "0a76eda1-b686-4425-9220-766fa224652c",
   "metadata": {},
   "outputs": [],
   "source": [
    "#Ingreso de datos por el usuario\n",
    "ano=input(\"Ingrese el año: \")\n",
    "trim=input(\"Ingrese el trimestre [1 a 4]: \")\n",
    "\n",
    "cs.porc_extranjero_universitario(ano,trim,data)"
   ]
  },
  {
   "cell_type": "markdown",
   "id": "40eb538c-c1d5-4dfc-863d-dabb0110b6bd",
   "metadata": {},
   "source": [
    "### 3- A partir de la información contenida en el dataset informar el año y trimestre donde hubo menor desocupación."
   ]
  },
  {
   "cell_type": "code",
   "execution_count": null,
   "id": "79addb52-852f-4d74-a635-908c81ab514c",
   "metadata": {},
   "outputs": [],
   "source": [
    "cs.info_menor_desocupacion(data)"
   ]
  },
  {
   "cell_type": "markdown",
   "id": "5a534895",
   "metadata": {},
   "source": [
    "### 4- Ranking de los 5 aglomerados con mayor porcentaje de hogares con dos o más ocupantes con estudios universitarios o superiores finalizados. Información obtenida a partir del par de archivos más recientes. "
   ]
  },
  {
   "cell_type": "code",
   "execution_count": null,
   "id": "b64665b4",
   "metadata": {},
   "outputs": [],
   "source": [
    "# 1. Cuento cuántos universitarios hay por hogar y guardar pondera\n",
    "\n",
    "universitarios_por_hogar, pondera_por_hogar = cs.contar_universitarios_y_pondera_por_hogar(data)\n",
    "\n",
    "# 2. Filtro hogares con al menos 2 universitarios\n",
    "\n",
    "hogares_filtrados = cs.filtrar_hogares_con_min_universitarios(universitarios_por_hogar,pondera_por_hogar,min_universitarios=2)"
   ]
  },
  {
   "cell_type": "code",
   "execution_count": null,
   "id": "a1d9781b",
   "metadata": {},
   "outputs": [],
   "source": [
    "# 3. Suma ponderada de todos los hogares\n",
    "\n",
    "total_hogares = cs.contar_hogares(pondera_por_hogar)\n",
    "\n",
    "# 4. Suma poderada de hogares con 2+ universitarios por aglomerado\n",
    "\n",
    "hogares_con_universitarios_min = cs.contar_hogares(hogares_filtrados)"
   ]
  },
  {
   "cell_type": "code",
   "execution_count": null,
   "id": "0d21fb70",
   "metadata": {},
   "outputs": [],
   "source": [
    "# 5. Calculo porcentajes  y ordeno por porcentajes\n",
    "# También se imprime el nombre del aglomerado, el total de hogares y el total de hogares con al \n",
    "# menos 2 universitarios\n",
    "\n",
    "top_5_aglomerados =cs.obtener_top_n_porcentaje_hogares_universitarios(total_hogares, hogares_con_universitarios_min )"
   ]
  },
  {
   "cell_type": "code",
   "execution_count": null,
   "id": "fe6d17f8",
   "metadata": {},
   "outputs": [],
   "source": [
    "# 7. Impresión del ranking de 5 aglomerados con mayor porcentaje de hogares con 2 o más universitarios\n",
    "cs.imprimir_ranking_aglomerados(top_5_aglomerados, cantidad=5)"
   ]
  },
  {
   "cell_type": "markdown",
   "id": "23685bbd",
   "metadata": {},
   "source": [
    "### 7- Informar para cada aglomerado el porcentaje de personas mayores que hayan cursado al menos en nivel universitario o superior.\n",
    "\n",
    "Consideramos como muestra total para el cálculo porcentual sólo a las personas mayores de edad, que son las que tienen la posibilidad real de poder alcanzarlo.\n"
   ]
  },
  {
   "cell_type": "code",
   "execution_count": null,
   "id": "72e009ac",
   "metadata": {},
   "outputs": [],
   "source": [
    "cs.info_porcentual_educacionsuperior_aglomerado(data)"
   ]
  },
  {
   "cell_type": "markdown",
   "id": "c468b8a1",
   "metadata": {},
   "source": [
    "### 9- Pedir al usuario que seleccione un aglomerado y a partir de la información contenida retornar una tabla que contenga la cantidad de personas mayores de edad según su nivel de estudios alcanzados.\n"
   ]
  },
  {
   "cell_type": "code",
   "execution_count": 19,
   "id": "bd32ba41",
   "metadata": {},
   "outputs": [
    {
     "name": "stdout",
     "output_type": "stream",
     "text": [
      "==============================================================================================================================================================================================================================================================================================================================================================\n",
      "Aglomerado     32 - Ciudad Autónoma de Buenos Aires\n",
      "**************************************************************************************************************************************************************************************************************************************************************************************************************************************************************\n",
      "Año     Trimestre   Primario incompleto / Ed. especial      Primario completo                       Secundario incompleto                   Secundario completo                     Superior universitario incompleto       Superior universitario completo         Sin instrucción                         \n",
      "**************************************************************************************************************************************************************************************************************************************************************************************************************************************************************\n",
      "2023    3           39308                                   124801                                  199845                                  507091                                  512094                                  928132                                  8982                                    \n",
      "2024    4           36149                                   108283                                  168272                                  508479                                  505410                                  993818                                  6254                                    \n"
     ]
    }
   ],
   "source": [
    "aglomerado = input(\"Ingrese el aglomerado: \")\n",
    "\n",
    "cs.tabla_nivel_educativo(data, aglomerado)"
   ]
  },
  {
   "cell_type": "markdown",
   "id": "0212403d",
   "metadata": {},
   "source": [
    "### 10- Pedir al usuario que seleccione dos aglomerados y a partir de la información contenida retornar una tabla que contenga el porcentaje de personas mayores de edad con secundario incompleto."
   ]
  },
  {
   "cell_type": "code",
   "execution_count": 10,
   "id": "313aa9e2",
   "metadata": {},
   "outputs": [
    {
     "name": "stdout",
     "output_type": "stream",
     "text": [
      "  Año    Trimestre     Aglomerado A         Aglomerado B    \n",
      "------------------------------------------------------------\n",
      "  2023      3            8.61 %              17.09 %       \n",
      "  2024      4            7.23 %              17.03 %       \n"
     ]
    }
   ],
   "source": [
    "\n",
    "aglo_input1 = int(input(\"Ingrese un aglomerado: \"))\n",
    "aglo_input2 = int(input(\"Ingrese otro aglomerado: \"))\n",
    "\n",
    "tabla_porcentaje = cs.personas_secundario_incompleto_anio_trimestre(aglo_input1, aglo_input2, data)\n",
    "\n",
    "cs.imprimir_porcentaje_secundario_incompleto(tabla_porcentaje)"
   ]
  }
 ],
 "metadata": {
  "kernelspec": {
   "display_name": "Python 3",
   "language": "python",
   "name": "python3"
  },
  "language_info": {
   "codemirror_mode": {
    "name": "ipython",
    "version": 3
   },
   "file_extension": ".py",
   "mimetype": "text/x-python",
   "name": "python",
   "nbconvert_exporter": "python",
   "pygments_lexer": "ipython3",
   "version": "3.12.9"
  }
 },
 "nbformat": 4,
 "nbformat_minor": 5
}
