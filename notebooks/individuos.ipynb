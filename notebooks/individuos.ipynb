{
 "cells": [
  {
   "cell_type": "markdown",
   "id": "1bf139ee",
   "metadata": {},
   "source": [
    "# EPH - Individuos\n"
   ]
  },
  {
   "cell_type": "markdown",
   "id": "eff6a592-fa22-4d9e-bdac-15b21d379230",
   "metadata": {},
   "source": [
    "## Ajuste de ruta del proyecto en Notebook"
   ]
  },
  {
   "cell_type": "code",
   "execution_count": 1,
   "id": "ec9f785f",
   "metadata": {},
   "outputs": [],
   "source": [
    "import sys\n",
    "\n",
    "# Ajusto para que la reconozca la ruta del proyecto\n",
    "sys.path.append(\"..\") "
   ]
  },
  {
   "cell_type": "markdown",
   "id": "1e575df5",
   "metadata": {},
   "source": [
    "## Unificación de los archivos de Individuos"
   ]
  },
  {
   "cell_type": "code",
   "execution_count": 2,
   "id": "1a9de7e2",
   "metadata": {},
   "outputs": [
    {
     "name": "stdout",
     "output_type": "stream",
     "text": [
      "✅ Archivo guardado en: C:\\Users\\MONSO\\code\\data\\processed\\individuos_procesados.txt\n"
     ]
    }
   ],
   "source": [
    "from src.utils.constants import DATA_SOURCE_DIR,DATA_PROCESSED_DIR,FILENAME_INDIVIDUOS_PROCESSED\n",
    "from src.utils.helpers import  process_file, save_to_file\n",
    "\n",
    "# Procesar y guardar individuos\n",
    "encabezados,individual = process_file(DATA_SOURCE_DIR, category=\"individual\")\n",
    "save_to_file(DATA_PROCESSED_DIR,FILENAME_INDIVIDUOS_PROCESSED,encabezados,individual)"
   ]
  },
  {
   "cell_type": "markdown",
   "id": "e18ac8cc-fc8f-4deb-8061-c10538ec8c57",
   "metadata": {},
   "source": [
    "## Procesamiento de los archivos"
   ]
  },
  {
   "cell_type": "markdown",
   "id": "0f316949-058b-41dc-85e5-1f9e741669f0",
   "metadata": {},
   "source": [
    "Abro el archivos procesados"
   ]
  },
  {
   "cell_type": "code",
   "execution_count": 3,
   "id": "57d63c2b-e64d-4615-a09e-dc3c825f7232",
   "metadata": {},
   "outputs": [],
   "source": [
    "from src.utils.constants import INDIVIDUOS_PROCESSED_DIR\n",
    "from src.utils.helpers import read_file_dic\n",
    "\n",
    "header,data=read_file_dic(INDIVIDUOS_PROCESSED_DIR)"
   ]
  },
  {
   "cell_type": "markdown",
   "id": "43e974bb",
   "metadata": {},
   "source": [
    "Proceso el archivo"
   ]
  },
  {
   "cell_type": "code",
   "execution_count": 4,
   "id": "06c3318d-1836-4b5d-b4de-89de2df3a2d4",
   "metadata": {},
   "outputs": [
    {
     "name": "stdout",
     "output_type": "stream",
     "text": [
      "📅 Período procesado: desde 4/2022 hasta 3/2024\n"
     ]
    }
   ],
   "source": [
    "import src.procesamientos.individuos as indiv\n",
    "\n",
    "fechamin,fechamax=indiv.add_extra_data(header,data)\n",
    "\n",
    "if fechamin is not None and fechamax is not None:\n",
    "    print(f\"📅 Período procesado: desde {fechamin[1]}/{fechamin[0]} hasta {fechamax[1]}/{fechamax[0]}\")\n",
    "else:   \n",
    "    print(\"No hay datos para procesar.\")\n"
   ]
  },
  {
   "cell_type": "markdown",
   "id": "143ea7f1-056b-4ff3-a46c-43d2f5e367aa",
   "metadata": {},
   "source": [
    "Sobrescribo los datos procesados en el mismo archivo"
   ]
  },
  {
   "cell_type": "code",
   "execution_count": 5,
   "id": "0e040eb3-620f-4e9a-945c-d0a18fcac8ff",
   "metadata": {},
   "outputs": [
    {
     "name": "stdout",
     "output_type": "stream",
     "text": [
      "✅ Archivo guardado en: C:\\Users\\MONSO\\code\\data\\processed\\individuos_procesados.txt\n"
     ]
    }
   ],
   "source": [
    "save_to_file(DATA_PROCESSED_DIR,FILENAME_INDIVIDUOS_PROCESSED,header,data)"
   ]
  },
  {
   "cell_type": "markdown",
   "id": "50665c3c",
   "metadata": {},
   "source": [
    "## Análisis de Individuos"
   ]
  },
  {
   "cell_type": "markdown",
   "id": "f57439e4-2f63-4edc-b3fc-4b44c1fd76bc",
   "metadata": {},
   "source": [
    "Abro el archivo de individuos procesado:"
   ]
  },
  {
   "cell_type": "code",
   "execution_count": 6,
   "id": "376e4a29",
   "metadata": {},
   "outputs": [],
   "source": [
    "header,data=read_file_dic(INDIVIDUOS_PROCESSED_DIR)"
   ]
  },
  {
   "cell_type": "markdown",
   "id": "c7091637",
   "metadata": {},
   "source": [
    "Importo las funciones para realizar las consultas"
   ]
  },
  {
   "cell_type": "code",
   "execution_count": 7,
   "id": "52fd72b7",
   "metadata": {},
   "outputs": [],
   "source": [
    "import src.consultas.consultas as cs"
   ]
  },
  {
   "cell_type": "markdown",
   "id": "d68f1157-b886-4856-adbd-117abb6d65df",
   "metadata": {},
   "source": [
    "### 1- A partir de la información de cada año contenida en el dataset se debe informar, año tras año, el porcentaje de personas mayores a 6 años capaces e incapaces de leer y escribir."
   ]
  },
  {
   "cell_type": "code",
   "execution_count": 8,
   "id": "0c05b2d4-74a3-496e-b4ff-640072ffbe39",
   "metadata": {},
   "outputs": [
    {
     "name": "stdout",
     "output_type": "stream",
     "text": [
      "Año           % Alfabetos      % No Alfabetos\n",
      "---------------------------------------------\n",
      "2024                98.45                1.55\n",
      "2023                97.84                2.16\n",
      "2022                98.17                1.83\n"
     ]
    }
   ],
   "source": [
    "alfabetizadas=cs.cantidad_alfabetizadas(data)\n",
    "cs.imprimir_alfabetizadas(alfabetizadas)"
   ]
  },
  {
   "cell_type": "markdown",
   "id": "bd69e082-19ed-474f-b5ad-23704e43483b",
   "metadata": {},
   "source": [
    "### 2- A partir de un año y trimestre elegido por el usuario informar el porcentaje de personas no nacidas en Argentina que hayan cursado un nivel universitario o superior"
   ]
  },
  {
   "cell_type": "code",
   "execution_count": 9,
   "id": "0a76eda1-b686-4425-9220-766fa224652c",
   "metadata": {},
   "outputs": [
    {
     "name": "stdout",
     "output_type": "stream",
     "text": [
      "No hay datos para el trimestre 3 del año 2020\n"
     ]
    }
   ],
   "source": [
    "anio=input(\"Ingrese el año: \")\n",
    "trim=input(\"Ingrese el trimestre [1 a 4]: \")\n",
    "\n",
    "porcentaje=cs.porc_extranjero_universitario(anio,trim,data)\n",
    "if porcentaje:\n",
    "    print(f\"El % de personas extranjeras que han cursado el nivel superior o universitario en el trimestre {trim} del año {anio} es del: {porcentaje:.2f}%\")\n",
    "else:\n",
    "    print(f\"No hay datos para el trimestre {trim} del año {anio}\")"
   ]
  },
  {
   "cell_type": "markdown",
   "id": "40eb538c-c1d5-4dfc-863d-dabb0110b6bd",
   "metadata": {},
   "source": [
    "### 3- A partir de la información contenida en el dataset informar el año y trimestre donde hubo menor desocupación."
   ]
  },
  {
   "cell_type": "code",
   "execution_count": 10,
   "id": "79addb52-852f-4d74-a635-908c81ab514c",
   "metadata": {},
   "outputs": [
    {
     "name": "stdout",
     "output_type": "stream",
     "text": [
      "Año       Trimestre       Desocupados       \n",
      "----------------------------------------\n",
      "2023      4               822050            \n"
     ]
    }
   ],
   "source": [
    "resultado=cs.info_menor_desocupacion(data)\n",
    "if resultado:\n",
    "    cs.imprimir_info_menor_desocupacion(resultado)"
   ]
  },
  {
   "cell_type": "markdown",
   "id": "5a534895",
   "metadata": {},
   "source": [
    "### 4- Ranking de los 5 aglomerados con mayor porcentaje de hogares con dos o más ocupantes con estudios universitarios o superiores finalizados. Información obtenida a partir del par de archivos más recientes. "
   ]
  },
  {
   "cell_type": "code",
   "execution_count": 11,
   "id": "fe6d17f8",
   "metadata": {},
   "outputs": [
    {
     "name": "stdout",
     "output_type": "stream",
     "text": [
      "Puesto  Código  Aglomerado                              % Porcentaje\n",
      "--------------------------------------------------------------------\n",
      "1       32      Ciudad Autónoma de Buenos Aires               13.66%\n",
      "2       2       Gran La Plata                                  7.75%\n",
      "3       10      Gran Mendoza                                   6.61%\n",
      "4       36      Río Cuarto                                     6.56%\n",
      "5       26      Gran San Luis                                  6.08%\n"
     ]
    }
   ],
   "source": [
    "ranking = cs.generar_ranking_hogares_universitarios(data)\n",
    "\n",
    "cs.imprimir_tabla_ranking(ranking)\n"
   ]
  },
  {
   "cell_type": "markdown",
   "id": "23685bbd",
   "metadata": {},
   "source": [
    "### 7- Informar para cada aglomerado el porcentaje de personas mayores que hayan cursado al menos en nivel universitario o superior.\n",
    "\n",
    "Consideramos como muestra total para el cálculo porcentual sólo a las personas mayores de edad, que son las que tienen la posibilidad real de poder alcanzarlo.\n"
   ]
  },
  {
   "cell_type": "code",
   "execution_count": 13,
   "id": "72e009ac",
   "metadata": {},
   "outputs": [
    {
     "name": "stdout",
     "output_type": "stream",
     "text": [
      "Aglomerado                               Porcentaje (%)\n",
      "-------------------------------------------------------\n",
      "32 - Ciudad Autónoma de Buenos Aires              62.19%\n",
      "2 - Gran La Plata                                 44.09%\n",
      "3 - Bahía Blanca - Cerri                          41.25%\n",
      "13 - Gran Córdoba                                 40.93%\n",
      "7 - Posadas                                       38.84%\n",
      "4 - Gran Rosario                                  38.81%\n",
      "19 - Jujuy - Palpalá                              38.72%\n",
      "6 - Gran Paraná                                   38.68%\n",
      "12 - Corrientes                                   38.15%\n",
      "36 - Río Cuarto                                   37.93%\n",
      "34 - Mar del Plata                                36.99%\n",
      "23 - Gran Salta                                   36.87%\n",
      "10 - Gran Mendoza                                 36.84%\n",
      "17 - Neuquén - Plottier                           35.47%\n",
      "25 - La Rioja                                     35.05%\n",
      "29 - Gran Tucumán - Tafí Viejo                    34.32%\n",
      "93 - Viedma - Carmen de Patagones                 33.60%\n",
      "5 - Gran Santa Fe                                 33.58%\n",
      "26 - Gran San Luis                                32.63%\n",
      "22 - Gran Catamarca                               32.57%\n",
      "20 - Río Gallegos                                 32.22%\n",
      "18 - Santiago del Estero - La Banda               32.03%\n",
      "30 - Santa Rosa - Toay                            31.62%\n",
      "31 - Ushuaia - Río Grande                         31.33%\n",
      "27 - Gran San Juan                                30.85%\n",
      "9 - Comodoro Rivadavia - Rada Tilly               30.33%\n",
      "38 - San Nicolás - Villa Constitución             30.16%\n",
      "33 - Partidos del GBA                             29.95%\n",
      "8 - Gran Resistencia                              29.15%\n",
      "91 - Rawson - Trelew                              26.09%\n",
      "15 - Formosa                                      25.56%\n",
      "14 - Concordia                                    24.46%\n"
     ]
    }
   ],
   "source": [
    "info_filtrada = cs.info_porcentual_educacionsuperior_aglomerado(data)\n",
    "\n",
    "cs.imprimir_info_porcentual_educacionsuperior_aglomerado(info_filtrada)"
   ]
  },
  {
   "cell_type": "markdown",
   "id": "c468b8a1",
   "metadata": {},
   "source": [
    "### 9- Pedir al usuario que seleccione un aglomerado y a partir de la información contenida retornar una tabla que contenga la cantidad de personas mayores de edad según su nivel de estudios alcanzados.\n"
   ]
  },
  {
   "cell_type": "code",
   "execution_count": null,
   "id": "bd32ba41",
   "metadata": {},
   "outputs": [
    {
     "name": "stdout",
     "output_type": "stream",
     "text": [
      "==============================================================================================================================================================================================================================================================================================================================================================\n",
      "Aglomerado     5 - Gran Santa Fe\n",
      "**************************************************************************************************************************************************************************************************************************************************************************************************************************************************************\n",
      "Año     Trimestre   Primario incompleto / Ed. especial      Primario completo                       Secundario incompleto                   Secundario completo                     Superior universitario incompleto       Superior universitario completo         Sin instrucción                         \n",
      "**************************************************************************************************************************************************************************************************************************************************************************************************************************************************************\n",
      "2024    3           14021                                   62784                                   71410                                   122634                                  60263                                   71629                                   1035                                    \n"
     ]
    }
   ],
   "source": [
    "if data:\n",
    "    aglomerado = input(\"Ingrese el NÚMERO o NOMBRE COMPLETO de aglomerado: \")\n",
    "\n",
    "    cs.tabla_nivel_educativo(data, aglomerado)\n",
    "else:\n",
    "    print(\"No hay data a procesar\")"
   ]
  },
  {
   "cell_type": "markdown",
   "id": "0212403d",
   "metadata": {},
   "source": [
    "### 10- Pedir al usuario que seleccione dos aglomerados y a partir de la información contenida retornar una tabla que contenga el porcentaje de personas mayores de edad con secundario incompleto."
   ]
  },
  {
   "cell_type": "code",
   "execution_count": null,
   "id": "313aa9e2",
   "metadata": {},
   "outputs": [
    {
     "name": "stdout",
     "output_type": "stream",
     "text": [
      "  Año    Trimestre     Aglomerado 3         Aglomerado 3    \n",
      "------------------------------------------------------------\n",
      "  2024      3           13.63 %               0.00 %       \n"
     ]
    }
   ],
   "source": [
    "if data:\n",
    "    try:\n",
    "        aglo_input1 = int(input(\"Ingrese un aglomerado: \"))\n",
    "        aglo_input2 = int(input(\"Ingrese otro aglomerado: \"))\n",
    "    except ValueError:\n",
    "        print(\"Por favor, ingrese un número válido.\")\n",
    "        exit() \n",
    "\n",
    "    tabla_porcentaje = cs.personas_secundario_incompleto_anio_trimestre(aglo_input1, aglo_input2, data)\n",
    "\n",
    "    cs.imprimir_porcentaje_secundario_incompleto(tabla_porcentaje, aglo_input1, aglo_input2)\n",
    "else:\n",
    "    print(\"No hay datos a procesar\")"
   ]
  }
 ],
 "metadata": {
  "kernelspec": {
   "display_name": "Python 3",
   "language": "python",
   "name": "python3"
  },
  "language_info": {
   "codemirror_mode": {
    "name": "ipython",
    "version": 3
   },
   "file_extension": ".py",
   "mimetype": "text/x-python",
   "name": "python",
   "nbconvert_exporter": "python",
   "pygments_lexer": "ipython3",
   "version": "3.12.9"
  }
 },
 "nbformat": 4,
 "nbformat_minor": 5
}
