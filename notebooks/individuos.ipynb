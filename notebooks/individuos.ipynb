{
 "cells": [
  {
   "cell_type": "markdown",
   "id": "1bf139ee",
   "metadata": {},
   "source": [
    "# EPH - Individuos\n"
   ]
  },
  {
   "cell_type": "markdown",
   "id": "eff6a592-fa22-4d9e-bdac-15b21d379230",
   "metadata": {},
   "source": [
    "## Ajuste de ruta del proyecto en Notebook"
   ]
  },
  {
   "cell_type": "code",
   "execution_count": 2,
   "id": "ec9f785f",
   "metadata": {},
   "outputs": [
    {
     "name": "stdout",
     "output_type": "stream",
     "text": [
      "C:\\Users\\PC\\Desktop\\TP INTEGRADOR\\code\n"
     ]
    }
   ],
   "source": [
    "import sys\n",
    "import csv\n",
    "from pathlib import Path\n",
    "\n",
    "# Ajusto para que la reconozca la ruta del proyecto\n",
    "sys.path.append(\"..\") \n",
    "\n",
    "#CONSTANTS\n",
    "from src.utils.constants import PROJECT_ROOT, DATA_SOURCE_DIR,DATA_CLEAN_DIR,FILENAME_INDIVIDUOS_UNIFIED\n",
    "print(PROJECT_ROOT)"
   ]
  },
  {
   "cell_type": "markdown",
   "id": "1e575df5",
   "metadata": {},
   "source": [
    "## Unificación de los archivos de Individuos"
   ]
  },
  {
   "cell_type": "code",
   "execution_count": 5,
   "id": "1a9de7e2",
   "metadata": {},
   "outputs": [
    {
     "name": "stdout",
     "output_type": "stream",
     "text": [
      "✅ Archivo TXT guardado en: C:\\Users\\PC\\Desktop\\TP INTEGRADOR\\code\\data\\clean\\individuos_unificado.txt\n"
     ]
    }
   ],
   "source": [
    "from src.utils.helpers import  process_file, save_to_txt\n",
    "\n",
    "# Procesar y guardar individuos\n",
    "encabezados,individual = process_file(DATA_SOURCE_DIR, category=\"individual\")\n",
    "save_to_txt(encabezados,individual, DATA_CLEAN_DIR , FILENAME_INDIVIDUOS_UNIFIED)\n"
   ]
  },
  {
   "cell_type": "markdown",
   "id": "e18ac8cc-fc8f-4deb-8061-c10538ec8c57",
   "metadata": {},
   "source": [
    "## Procesamiento de los archivos"
   ]
  },
  {
   "cell_type": "markdown",
   "id": "0f316949-058b-41dc-85e5-1f9e741669f0",
   "metadata": {},
   "source": [
    "Abro el archivo unificado"
   ]
  },
  {
   "cell_type": "code",
   "execution_count": 6,
   "id": "57d63c2b-e64d-4615-a09e-dc3c825f7232",
   "metadata": {},
   "outputs": [],
   "source": [
    "from src.utils.constants import INDIVIDUOS_UNIFIED_DIR\n",
    "from src.utils.helpers import read_file_dic\n",
    "import csv\n",
    "\n",
    "header,data=read_file_dic(INDIVIDUOS_UNIFIED_DIR)"
   ]
  },
  {
   "cell_type": "markdown",
   "id": "43e974bb",
   "metadata": {},
   "source": [
    "Proceso el archivo"
   ]
  },
  {
   "cell_type": "code",
   "execution_count": 7,
   "id": "06c3318d-1836-4b5d-b4de-89de2df3a2d4",
   "metadata": {},
   "outputs": [],
   "source": [
    "import src.procesamientos.individuos as indiv\n",
    "\n",
    "# Agrego las nuevas columnas al header\n",
    "header.extend([\"CH04_str\",\"NIVEL_ED_str\",\"CONDICION_LABORAL\",\"UNIVERSITARIO\"])\n",
    "\n",
    "# Proceso las nuevas columnas por cada fila\n",
    "for row in data:\n",
    "    indiv.add_data_ch04str(row)\n",
    "    indiv.add_data_nivel_ed_str(row)\n",
    "    indiv.add_data_cond_lab(row)\n",
    "    indiv.add_data_universitario(row)"
   ]
  },
  {
   "cell_type": "markdown",
   "id": "143ea7f1-056b-4ff3-a46c-43d2f5e367aa",
   "metadata": {},
   "source": [
    "Guardo los datos procesados a un archivo"
   ]
  },
  {
   "cell_type": "code",
   "execution_count": 8,
   "id": "0e040eb3-620f-4e9a-945c-d0a18fcac8ff",
   "metadata": {},
   "outputs": [],
   "source": [
    "from src.utils.constants import INDIVIDUOS_PROCESSED_DIR\n",
    "from src.utils.helpers import save_to_csv\n",
    "\n",
    "save_to_csv(INDIVIDUOS_PROCESSED_DIR,header,data, delimiter=\";\")"
   ]
  },
  {
   "cell_type": "markdown",
   "id": "50665c3c",
   "metadata": {},
   "source": [
    "## Análisis de Individuos"
   ]
  },
  {
   "cell_type": "markdown",
   "id": "f57439e4-2f63-4edc-b3fc-4b44c1fd76bc",
   "metadata": {},
   "source": [
    "Abro el archivo de individuos procesado:"
   ]
  },
  {
   "cell_type": "code",
   "execution_count": 9,
   "id": "376e4a29",
   "metadata": {},
   "outputs": [],
   "source": [
    "header,data=read_file_dic(INDIVIDUOS_PROCESSED_DIR)"
   ]
  },
  {
   "cell_type": "markdown",
   "id": "d68f1157-b886-4856-adbd-117abb6d65df",
   "metadata": {},
   "source": [
    "### 1- A partir de la información de cada año contenida en el dataset se debe informar, año tras año, el porcentaje de personas mayores a 6 años capaces e incapaces de leer y escribir."
   ]
  },
  {
   "cell_type": "code",
   "execution_count": null,
   "id": "0c05b2d4-74a3-496e-b4ff-640072ffbe39",
   "metadata": {},
   "outputs": [
    {
     "name": "stdout",
     "output_type": "stream",
     "text": [
      "Año\tAlfabetizados\tNo alfabetizados\n",
      "2024\t13004244\t\t216478\n"
     ]
    }
   ],
   "source": [
    "indiv.cant_personas_alfabetizadas(data)"
   ]
  },
  {
   "cell_type": "markdown",
   "id": "bd69e082-19ed-474f-b5ad-23704e43483b",
   "metadata": {},
   "source": [
    "### 2- A partir de un año y trimestre elegido por el usuario informar el porcentaje de personas no nacidas en Argentina que hayan cursado un nivel universitario o superior"
   ]
  },
  {
   "cell_type": "code",
   "execution_count": null,
   "id": "0a76eda1-b686-4425-9220-766fa224652c",
   "metadata": {},
   "outputs": [
    {
     "name": "stdout",
     "output_type": "stream",
     "text": [
      "El % de personas extranjeras que han cursado el nivel superior o universitario en el trimestre 3 del año 2024 es del: 5.92%\n"
     ]
    }
   ],
   "source": [
    "#Ingreso de datos por el usuario\n",
    "ano=input(\"Ingrese el año: \")\n",
    "trim=input(\"Ingrese el trimestre [1 a 4]: \")\n",
    "\n",
    "indiv.porc_extranjero_universitario(ano,trim,data)"
   ]
  },
  {
   "cell_type": "markdown",
   "id": "40eb538c-c1d5-4dfc-863d-dabb0110b6bd",
   "metadata": {},
   "source": [
    "### 3- A partir de la información contenida en el dataset informar el año y trimestre donde hubo menor desocupación."
   ]
  },
  {
   "cell_type": "code",
   "execution_count": null,
   "id": "79addb52-852f-4d74-a635-908c81ab514c",
   "metadata": {},
   "outputs": [
    {
     "name": "stdout",
     "output_type": "stream",
     "text": [
      "Valor mínimo de desocupación: 994334 en los siguientes años y trimestres:\n",
      "Año: 2024, Trimestre: 3\n"
     ]
    }
   ],
   "source": [
    "indiv.info_menor_desocupacion(data)"
   ]
  },
  {
   "cell_type": "markdown",
   "id": "5a534895",
   "metadata": {},
   "source": [
    "### 4- Ranking de los 5 aglomerados con mayor porcentaje de hogares con dos o más ocupantes con estudios universitarios o superiores finalizados. Información obtenida a partir del par de archivos más recientes. "
   ]
  },
  {
   "cell_type": "code",
   "execution_count": 4,
   "id": "08faad8b-34f8-41f6-8c7d-ee0fe84718cb",
   "metadata": {},
   "outputs": [
    {
     "ename": "NameError",
     "evalue": "name 'read_file_dic' is not defined",
     "output_type": "error",
     "traceback": [
      "\u001b[1;31m---------------------------------------------------------------------------\u001b[0m",
      "\u001b[1;31mNameError\u001b[0m                                 Traceback (most recent call last)",
      "Cell \u001b[1;32mIn[4], line 3\u001b[0m\n\u001b[0;32m      1\u001b[0m \u001b[38;5;66;03m# 1. Leo archivo procesado \u001b[39;00m\n\u001b[1;32m----> 3\u001b[0m header_individuos, individuos \u001b[38;5;241m=\u001b[39m \u001b[43mread_file_dic\u001b[49m(INDIVIDUOS_PROCESSED_DIR)\n",
      "\u001b[1;31mNameError\u001b[0m: name 'read_file_dic' is not defined"
     ]
    }
   ],
   "source": [
    "# 1. Leo archivo procesado \n",
    "\n",
    "header_individuos, individuos = read_file_dic(INDIVIDUOS_PROCESSED_DIR)"
   ]
  },
  {
   "cell_type": "code",
   "execution_count": null,
   "id": "b64665b4",
   "metadata": {},
   "outputs": [],
   "source": [
    "# 2. Cuento cuántos universitarios hay por hogar y guardar pondera\n",
    "\n",
    "universitarios_por_hogar, pondera_por_hogar = indiv.contar_universitarios_y_pondera_por_hogar(individuos)\n",
    "\n",
    "# 3. Filtro hogares con al menos 2 universitarios\n",
    "\n",
    "hogares_filtrados = indiv.filtrar_hogares_con_min_universitarios(universitarios_por_hogar,pondera_por_hogar,min_universitarios=2)"
   ]
  },
  {
   "cell_type": "code",
   "execution_count": null,
   "id": "a1d9781b",
   "metadata": {},
   "outputs": [],
   "source": [
    "# 4. Suma ponderada de todos los hogares\n",
    "\n",
    "total_hogares = indiv.contar_hogares(pondera_por_hogar)\n",
    "\n",
    "# 5. Suma poderada de hogares con 2+ universitarios por aglomerado\n",
    "\n",
    "hogares_con_universitarios_min = indiv.contar_hogares(hogares_filtrados)"
   ]
  },
  {
   "cell_type": "code",
   "execution_count": null,
   "id": "0d21fb70",
   "metadata": {},
   "outputs": [
    {
     "name": "stdout",
     "output_type": "stream",
     "text": [
      "Procesando aglomerado: 32, Total: 2553606.0, Universitarios: 325386.0\n",
      "Procesando aglomerado: 33, Total: 8325060.0, Universitarios: 316519.0\n",
      "Procesando aglomerado: 22, Total: 136860.0, Universitarios: 4894.0\n",
      "Procesando aglomerado: 19, Total: 222230.0, Universitarios: 5684.0\n",
      "Procesando aglomerado: 13, Total: 1213389.0, Universitarios: 49044.0\n",
      "Procesando aglomerado: 36, Total: 145361.0, Universitarios: 8218.0\n",
      "Procesando aglomerado: 14, Total: 103390.0, Universitarios: 1769.0\n",
      "Procesando aglomerado: 15, Total: 167588.0, Universitarios: 4591.0\n",
      "Procesando aglomerado: 8, Total: 286244.0, Universitarios: 10044.0\n",
      "Procesando aglomerado: 9, Total: 169476.0, Universitarios: 4642.0\n",
      "Procesando aglomerado: 25, Total: 142664.0, Universitarios: 3021.0\n",
      "Procesando aglomerado: 91, Total: 114479.0, Universitarios: 2552.0\n",
      "Procesando aglomerado: 93, Total: 64497.0, Universitarios: 1877.0\n",
      "Procesando aglomerado: 34, Total: 517778.0, Universitarios: 21264.0\n",
      "Procesando aglomerado: 38, Total: 143868.0, Universitarios: 3432.0\n",
      "Procesando aglomerado: 6, Total: 199177.0, Universitarios: 13365.0\n",
      "Procesando aglomerado: 30, Total: 104399.0, Universitarios: 4991.0\n",
      "Procesando aglomerado: 3, Total: 268218.0, Universitarios: 11446.0\n",
      "Procesando aglomerado: 12, Total: 257562.0, Universitarios: 12686.0\n",
      "Procesando aglomerado: 10, Total: 718142.0, Universitarios: 46741.0\n",
      "Procesando aglomerado: 7, Total: 278606.0, Universitarios: 9204.0\n",
      "Procesando aglomerado: 17, Total: 226595.0, Universitarios: 14122.0\n",
      "Procesando aglomerado: 23, Total: 385913.0, Universitarios: 13553.0\n",
      "Procesando aglomerado: 5, Total: 389644.0, Universitarios: 12948.0\n",
      "Procesando aglomerado: 27, Total: 339143.0, Universitarios: 15265.0\n",
      "Procesando aglomerado: 29, Total: 552782.0, Universitarios: 21109.0\n",
      "Procesando aglomerado: 4, Total: 1023914.0, Universitarios: 47646.0\n",
      "Procesando aglomerado: 31, Total: 133458.0, Universitarios: 3425.0\n",
      "Procesando aglomerado: 26, Total: 161577.0, Universitarios: 8339.0\n",
      "Procesando aglomerado: 20, Total: 92718.0, Universitarios: 2271.0\n",
      "Procesando aglomerado: 18, Total: 247194.0, Universitarios: 11983.0\n",
      "Procesando aglomerado: 2, Total: 688401.0, Universitarios: 53119.0\n"
     ]
    }
   ],
   "source": [
    "# 6. Calculo porcentajes  y ordeno por porcentajes\n",
    "# También se imprime el nombre del aglomerado, el total de hogares y el total de hogares con al \n",
    "# menos 2 universitarios\n",
    "\n",
    "top_5_aglomerados =indiv.obtener_top_n_porcentaje_hogares_universitarios(total_hogares, hogares_con_universitarios_min )"
   ]
  },
  {
   "cell_type": "code",
   "execution_count": null,
   "id": "fe6d17f8",
   "metadata": {},
   "outputs": [
    {
     "name": "stdout",
     "output_type": "stream",
     "text": [
      "Ranking de los 5 aglomerados con mayor porcentaje de hogares con 2 o más universitarios:\n",
      "1. Aglomerado 32 - Ciudad Autónoma de Buenos Aires: 12.74%\n",
      "2. Aglomerado 2 - Gran La Plata: 7.72%\n",
      "3. Aglomerado 6 - Gran Paraná: 6.71%\n",
      "4. Aglomerado 10 - Gran Mendoza: 6.51%\n",
      "5. Aglomerado 17 - Neuquén - Plottier: 6.23%\n"
     ]
    }
   ],
   "source": [
    "# 7. Impresión del ranking de 5 aglomerados con mayor porcentaje de hogares con 2 o más universitarios\n",
    "indiv.imprimir_ranking_aglomerados(top_5_aglomerados, cantidad=5)"
   ]
  },
  {
   "cell_type": "markdown",
   "id": "23685bbd",
   "metadata": {},
   "source": [
    "### 7- Informar para cada aglomerado el porcentaje de personas mayores que hayan cursado al menos en nivel universitario o superior.\n",
    "\n",
    "Consideramos como muestra total para el cálculo porcentual sólo a las personas mayores de edad, que son las que tienen la posibilidad real de poder alcanzarlo.\n"
   ]
  },
  {
   "cell_type": "code",
   "execution_count": null,
   "id": "72e009ac",
   "metadata": {},
   "outputs": [
    {
     "name": "stdout",
     "output_type": "stream",
     "text": [
      "Aglomerado                               Porcentaje (%)\n",
      "-------------------------------------------------------\n",
      "32 - Ciudad Autónoma de Buenos Aires              63.64%\n",
      "2 - Gran La Plata                                 44.70%\n",
      "13 - Gran Córdoba                                 41.98%\n",
      "3 - Bahía Blanca - Cerri                          41.59%\n",
      "6 - Gran Paraná                                   40.92%\n",
      "36 - Río Cuarto                                   40.39%\n",
      "12 - Corrientes                                   39.82%\n",
      "34 - Mar del Plata                                39.28%\n",
      "4 - Gran Rosario                                  38.90%\n",
      "10 - Gran Mendoza                                 38.64%\n",
      "23 - Gran Salta                                   37.93%\n",
      "19 - Jujuy - Palpalá                              37.26%\n",
      "7 - Posadas                                       37.26%\n",
      "29 - Gran Tucumán - Tafí Viejo                    36.64%\n",
      "30 - Santa Rosa - Toay                            34.90%\n",
      "17 - Neuquén - Plottier                           34.81%\n",
      "93 - Viedma - Carmen de Patagones                 34.35%\n",
      "31 - Ushuaia - Río Grande                         33.66%\n",
      "25 - La Rioja                                     33.50%\n",
      "26 - Gran San Luis                                33.50%\n",
      "5 - Gran Santa Fe                                 33.18%\n",
      "9 - Comodoro Rivadavia - Rada Tilly               32.82%\n",
      "20 - Río Gallegos                                 31.80%\n",
      "27 - Gran San Juan                                31.58%\n",
      "22 - Gran Catamarca                               31.54%\n",
      "18 - Santiago del Estero - La Banda               30.59%\n",
      "8 - Gran Resistencia                              30.22%\n",
      "33 - Partidos del GBA                             30.04%\n",
      "38 - San Nicolás - Villa Constitución             30.00%\n",
      "15 - Formosa                                      29.61%\n",
      "91 - Rawson - Trelew                              26.66%\n",
      "14 - Concordia                                    24.97%\n"
     ]
    }
   ],
   "source": [
    "indiv.info_porcentual_educacionsuperior_aglomerado(data)"
   ]
  },
  {
   "cell_type": "markdown",
   "id": "c468b8a1",
   "metadata": {},
   "source": [
    "### 9- Pedir al usuario que seleccione un aglomerado y a partir de la información contenida retornar una tabla que contenga la cantidad de personas mayores de edad según su nivel de estudios alcanzados.\n"
   ]
  },
  {
   "cell_type": "code",
   "execution_count": null,
   "id": "bd32ba41",
   "metadata": {},
   "outputs": [
    {
     "ename": "ValueError",
     "evalue": "invalid literal for int() with base 10: 'Buenos Aires'",
     "output_type": "error",
     "traceback": [
      "\u001b[1;31m---------------------------------------------------------------------------\u001b[0m",
      "\u001b[1;31mValueError\u001b[0m                                Traceback (most recent call last)",
      "Cell \u001b[1;32mIn[16], line 3\u001b[0m\n\u001b[0;32m      1\u001b[0m aglomerado \u001b[38;5;241m=\u001b[39m \u001b[38;5;28minput\u001b[39m(\u001b[38;5;124m\"\u001b[39m\u001b[38;5;124mIngrese el aglomerado: \u001b[39m\u001b[38;5;124m\"\u001b[39m)\n\u001b[1;32m----> 3\u001b[0m \u001b[43mindiv\u001b[49m\u001b[38;5;241;43m.\u001b[39;49m\u001b[43mtabla_nivel_educativo\u001b[49m\u001b[43m(\u001b[49m\u001b[43mdata\u001b[49m\u001b[43m,\u001b[49m\u001b[43m \u001b[49m\u001b[43maglomerado\u001b[49m\u001b[43m)\u001b[49m\n",
      "File \u001b[1;32mc:\\Users\\PC\\Desktop\\TP INTEGRADOR\\code\\notebooks\\..\\src\\procesamientos\\individuos.py:526\u001b[0m, in \u001b[0;36mtabla_nivel_educativo\u001b[1;34m(data, aglomerado)\u001b[0m\n\u001b[0;32m    523\u001b[0m     \u001b[38;5;28;01mcontinue\u001b[39;00m  \u001b[38;5;66;03m# Ignorar filas con valores erróneos o incompletos\u001b[39;00m\n\u001b[0;32m    525\u001b[0m \u001b[38;5;66;03m# Verificamos condiciones\u001b[39;00m\n\u001b[1;32m--> 526\u001b[0m \u001b[38;5;28;01mif\u001b[39;00m edad \u001b[38;5;241m>\u001b[39m\u001b[38;5;241m=\u001b[39m \u001b[38;5;241m18\u001b[39m \u001b[38;5;129;01mand\u001b[39;00m nivel_ed \u001b[38;5;129;01min\u001b[39;00m \u001b[38;5;28mrange\u001b[39m(\u001b[38;5;241m1\u001b[39m, \u001b[38;5;241m8\u001b[39m) \u001b[38;5;129;01mand\u001b[39;00m aglo \u001b[38;5;241m==\u001b[39m \u001b[38;5;28;43mint\u001b[39;49m\u001b[43m(\u001b[49m\u001b[43maglomerado\u001b[49m\u001b[43m)\u001b[49m:\n\u001b[0;32m    527\u001b[0m     aglomerado_encontrado \u001b[38;5;241m=\u001b[39m \u001b[38;5;28;01mTrue\u001b[39;00m\n\u001b[0;32m    528\u001b[0m     \u001b[38;5;28;01mif\u001b[39;00m aglo \u001b[38;5;129;01mnot\u001b[39;00m \u001b[38;5;129;01min\u001b[39;00m conteo:\n",
      "\u001b[1;31mValueError\u001b[0m: invalid literal for int() with base 10: 'Buenos Aires'"
     ]
    }
   ],
   "source": [
    "aglomerado = input(\"Ingrese el aglomerado: \")\n",
    "\n",
    "indiv.tabla_nivel_educativo(data, aglomerado)"
   ]
  }
 ],
 "metadata": {
  "kernelspec": {
   "display_name": "Python 3",
   "language": "python",
   "name": "python3"
  },
  "language_info": {
   "codemirror_mode": {
    "name": "ipython",
    "version": 3
   },
   "file_extension": ".py",
   "mimetype": "text/x-python",
   "name": "python",
   "nbconvert_exporter": "python",
   "pygments_lexer": "ipython3",
   "version": "3.12.9"
  }
 },
 "nbformat": 4,
 "nbformat_minor": 5
}
