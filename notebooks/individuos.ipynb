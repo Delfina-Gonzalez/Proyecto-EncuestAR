{
 "cells": [
  {
   "cell_type": "markdown",
   "id": "1bf139ee",
   "metadata": {},
   "source": [
    "# EPH - Individuos\n"
   ]
  },
  {
   "cell_type": "markdown",
   "id": "eff6a592-fa22-4d9e-bdac-15b21d379230",
   "metadata": {},
   "source": [
    "## Ajuste de ruta del proyecto en Notebook"
   ]
  },
  {
   "cell_type": "code",
   "execution_count": null,
   "id": "ec9f785f",
   "metadata": {},
   "outputs": [
    {
     "name": "stdout",
     "output_type": "stream",
     "text": [
      "C:\\Users\\PC\\Desktop\\TP INTEGRADOR\\code\n"
     ]
    }
   ],
   "source": [
    "import sys\n",
    "\n",
    "# Ajusto para que la reconozca la ruta del proyecto\n",
    "sys.path.append(\"..\") "
   ]
  },
  {
   "cell_type": "markdown",
   "id": "1e575df5",
   "metadata": {},
   "source": [
    "## Unificación de los archivos de Individuos"
   ]
  },
  {
   "cell_type": "code",
   "execution_count": null,
   "id": "1a9de7e2",
   "metadata": {},
   "outputs": [
    {
     "name": "stdout",
     "output_type": "stream",
     "text": [
      "✅ Archivo TXT guardado en: C:\\Users\\PC\\Desktop\\TP INTEGRADOR\\code\\data\\clean\\individuos_unificado.txt\n"
     ]
    }
   ],
   "source": [
    "from src.utils.constants import DATA_SOURCE_DIR,DATA_CLEAN_DIR,FILENAME_INDIVIDUOS_UNIFIED\n",
    "from src.utils.helpers import  process_file, save_to_txt\n",
    "\n",
    "# Procesar y guardar individuos\n",
    "encabezados,individual = process_file(DATA_SOURCE_DIR, category=\"individual\")\n",
    "save_to_txt(encabezados,individual, DATA_CLEAN_DIR , FILENAME_INDIVIDUOS_UNIFIED)\n"
   ]
  },
  {
   "cell_type": "markdown",
   "id": "e18ac8cc-fc8f-4deb-8061-c10538ec8c57",
   "metadata": {},
   "source": [
    "## Procesamiento de los archivos"
   ]
  },
  {
   "cell_type": "markdown",
   "id": "0f316949-058b-41dc-85e5-1f9e741669f0",
   "metadata": {},
   "source": [
    "Abro el archivo unificado"
   ]
  },
  {
   "cell_type": "code",
   "execution_count": null,
   "id": "57d63c2b-e64d-4615-a09e-dc3c825f7232",
   "metadata": {},
   "outputs": [],
   "source": [
    "from src.utils.constants import INDIVIDUOS_UNIFIED_DIR\n",
    "from src.utils.helpers import read_file_dic\n",
    "\n",
    "header,data=read_file_dic(INDIVIDUOS_UNIFIED_DIR)"
   ]
  },
  {
   "cell_type": "markdown",
   "id": "43e974bb",
   "metadata": {},
   "source": [
    "Proceso el archivo"
   ]
  },
  {
   "cell_type": "code",
   "execution_count": 13,
   "id": "06c3318d-1836-4b5d-b4de-89de2df3a2d4",
   "metadata": {},
   "outputs": [],
   "source": [
    "import src.procesamientos.individuos as indiv\n",
    "\n",
    "# Agrego las nuevas columnas al header\n",
    "header.extend([\"CH04_str\",\"NIVEL_ED_str\",\"CONDICION_LABORAL\",\"UNIVERSITARIO\"])\n",
    "\n",
    "# Proceso las nuevas columnas por cada fila\n",
    "for row in data:\n",
    "    indiv.add_data_ch04str(row)\n",
    "    indiv.add_data_nivel_ed_str(row)\n",
    "    indiv.add_data_cond_lab(row)\n",
    "    indiv.add_data_universitario(row)"
   ]
  },
  {
   "cell_type": "markdown",
   "id": "143ea7f1-056b-4ff3-a46c-43d2f5e367aa",
   "metadata": {},
   "source": [
    "Guardo los datos procesados a un archivo"
   ]
  },
  {
   "cell_type": "code",
   "execution_count": 14,
   "id": "0e040eb3-620f-4e9a-945c-d0a18fcac8ff",
   "metadata": {},
   "outputs": [],
   "source": [
    "from src.utils.constants import INDIVIDUOS_PROCESSED_DIR\n",
    "from src.utils.helpers import save_to_csv\n",
    "\n",
    "save_to_csv(INDIVIDUOS_PROCESSED_DIR,header,data, delimiter=\";\")"
   ]
  },
  {
   "cell_type": "markdown",
   "id": "50665c3c",
   "metadata": {},
   "source": [
    "## Análisis de Individuos"
   ]
  },
  {
   "cell_type": "markdown",
   "id": "f57439e4-2f63-4edc-b3fc-4b44c1fd76bc",
   "metadata": {},
   "source": [
    "Abro el archivo de individuos procesado:"
   ]
  },
  {
   "cell_type": "code",
   "execution_count": 15,
   "id": "376e4a29",
   "metadata": {},
   "outputs": [],
   "source": [
    "from src.utils.helpers import read_file_dic\n",
    "\n",
    "header,data=read_file_dic(INDIVIDUOS_PROCESSED_DIR)"
   ]
  },
  {
   "cell_type": "markdown",
   "id": "c7091637",
   "metadata": {},
   "source": [
    "Importo las funciones para realizar las consultas"
   ]
  },
  {
   "cell_type": "code",
   "execution_count": 16,
   "id": "52fd72b7",
   "metadata": {},
   "outputs": [],
   "source": [
    "import src.consultas.consultas as cs"
   ]
  },
  {
   "cell_type": "markdown",
   "id": "d68f1157-b886-4856-adbd-117abb6d65df",
   "metadata": {},
   "source": [
    "### 1- A partir de la información de cada año contenida en el dataset se debe informar, año tras año, el porcentaje de personas mayores a 6 años capaces e incapaces de leer y escribir."
   ]
  },
  {
   "cell_type": "code",
   "execution_count": 17,
   "id": "0c05b2d4-74a3-496e-b4ff-640072ffbe39",
   "metadata": {},
   "outputs": [
    {
     "name": "stdout",
     "output_type": "stream",
     "text": [
      "Año           % Alfabetos      % No Alfabetos\n",
      "---------------------------------------------\n",
      "2020                97.76%                2.24%\n",
      "2021                98.17%                1.83%\n",
      "2022                97.95%                2.05%\n",
      "2023                97.96%                2.04%\n",
      "2024                98.25%                1.75%\n"
     ]
    }
   ],
   "source": [
    "cs.cant_personas_alfabetizadas(data)"
   ]
  },
  {
   "cell_type": "markdown",
   "id": "bd69e082-19ed-474f-b5ad-23704e43483b",
   "metadata": {},
   "source": [
    "### 2- A partir de un año y trimestre elegido por el usuario informar el porcentaje de personas no nacidas en Argentina que hayan cursado un nivel universitario o superior"
   ]
  },
  {
   "cell_type": "code",
   "execution_count": 18,
   "id": "0a76eda1-b686-4425-9220-766fa224652c",
   "metadata": {},
   "outputs": [
    {
     "name": "stdout",
     "output_type": "stream",
     "text": [
      "El % de personas extranjeras que han cursado el nivel superior o universitario en el trimestre 2 del año 2020 es del: 0.00%\n"
     ]
    }
   ],
   "source": [
    "#Ingreso de datos por el usuario\n",
    "ano=input(\"Ingrese el año: \")\n",
    "trim=input(\"Ingrese el trimestre [1 a 4]: \")\n",
    "\n",
    "cs.porc_extranjero_universitario(ano,trim,data)"
   ]
  },
  {
   "cell_type": "markdown",
   "id": "40eb538c-c1d5-4dfc-863d-dabb0110b6bd",
   "metadata": {},
   "source": [
    "### 3- A partir de la información contenida en el dataset informar el año y trimestre donde hubo menor desocupación."
   ]
  },
  {
   "cell_type": "code",
   "execution_count": 19,
   "id": "79addb52-852f-4d74-a635-908c81ab514c",
   "metadata": {},
   "outputs": [
    {
     "name": "stdout",
     "output_type": "stream",
     "text": [
      "Valor mínimo de desocupación: 813661 en los siguientes años y trimestres:\n",
      "Año: 2023, Trimestre: 3\n"
     ]
    }
   ],
   "source": [
    "cs.info_menor_desocupacion(data)"
   ]
  },
  {
   "cell_type": "markdown",
   "id": "5a534895",
   "metadata": {},
   "source": [
    "### 4- Ranking de los 5 aglomerados con mayor porcentaje de hogares con dos o más ocupantes con estudios universitarios o superiores finalizados. Información obtenida a partir del par de archivos más recientes. "
   ]
  },
  {
   "cell_type": "code",
   "execution_count": 20,
   "id": "b64665b4",
   "metadata": {},
   "outputs": [],
   "source": [
    "# 1. Cuento cuántos universitarios hay por hogar y guardar pondera\n",
    "\n",
    "universitarios_por_hogar, pondera_por_hogar = indiv.contar_universitarios_y_pondera_por_hogar(data)\n",
    "\n",
    "# 2. Filtro hogares con al menos 2 universitarios\n",
    "\n",
    "hogares_filtrados = indiv.filtrar_hogares_con_min_universitarios(universitarios_por_hogar,pondera_por_hogar,min_universitarios=2)"
   ]
  },
  {
   "cell_type": "code",
   "execution_count": 21,
   "id": "a1d9781b",
   "metadata": {},
   "outputs": [],
   "source": [
    "# 3. Suma ponderada de todos los hogares\n",
    "\n",
    "total_hogares = indiv.contar_hogares(pondera_por_hogar)\n",
    "\n",
    "# 4. Suma poderada de hogares con 2+ universitarios por aglomerado\n",
    "\n",
    "hogares_con_universitarios_min = indiv.contar_hogares(hogares_filtrados)"
   ]
  },
  {
   "cell_type": "code",
   "execution_count": 22,
   "id": "0d21fb70",
   "metadata": {},
   "outputs": [
    {
     "name": "stdout",
     "output_type": "stream",
     "text": [
      "Procesando aglomerado: 18, Total: 2145582.0, Universitarios: 78392.0\n",
      "Procesando aglomerado: 15, Total: 1415131.0, Universitarios: 38835.0\n",
      "Procesando aglomerado: 17, Total: 1961696.0, Universitarios: 97454.0\n",
      "Procesando aglomerado: 2, Total: 6017112.0, Universitarios: 419010.0\n",
      "Procesando aglomerado: 3, Total: 2319333.0, Universitarios: 117294.0\n",
      "Procesando aglomerado: 4, Total: 8960202.0, Universitarios: 431780.0\n",
      "Procesando aglomerado: 5, Total: 3349063.0, Universitarios: 150624.0\n",
      "Procesando aglomerado: 6, Total: 1909085.0, Universitarios: 108249.0\n",
      "Procesando aglomerado: 7, Total: 2377316.0, Universitarios: 89604.0\n",
      "Procesando aglomerado: 8, Total: 2385935.0, Universitarios: 82418.0\n",
      "Procesando aglomerado: 9, Total: 1446684.0, Universitarios: 40073.0\n",
      "Procesando aglomerado: 10, Total: 6150591.0, Universitarios: 407311.0\n",
      "Procesando aglomerado: 12, Total: 2176640.0, Universitarios: 120633.0\n",
      "Procesando aglomerado: 13, Total: 10244904.0, Universitarios: 489212.0\n",
      "Procesando aglomerado: 14, Total: 931089.0, Universitarios: 19416.0\n",
      "Procesando aglomerado: 19, Total: 1904994.0, Universitarios: 49776.0\n",
      "Procesando aglomerado: 20, Total: 805301.0, Universitarios: 23222.0\n",
      "Procesando aglomerado: 22, Total: 1194436.0, Universitarios: 44997.0\n",
      "Procesando aglomerado: 23, Total: 3344695.0, Universitarios: 133584.0\n",
      "Procesando aglomerado: 25, Total: 1225770.0, Universitarios: 39437.0\n",
      "Procesando aglomerado: 26, Total: 1424859.0, Universitarios: 66431.0\n",
      "Procesando aglomerado: 27, Total: 2927630.0, Universitarios: 126155.0\n",
      "Procesando aglomerado: 29, Total: 4861991.0, Universitarios: 184817.0\n",
      "Procesando aglomerado: 30, Total: 889179.0, Universitarios: 36721.0\n",
      "Procesando aglomerado: 31, Total: 1061853.0, Universitarios: 26138.0\n",
      "Procesando aglomerado: 32, Total: 22600886.0, Universitarios: 2852733.0\n",
      "Procesando aglomerado: 33, Total: 71800941.0, Universitarios: 2335581.0\n",
      "Procesando aglomerado: 34, Total: 4409531.0, Universitarios: 195458.0\n",
      "Procesando aglomerado: 36, Total: 1251988.0, Universitarios: 75362.0\n",
      "Procesando aglomerado: 38, Total: 1239836.0, Universitarios: 32203.0\n",
      "Procesando aglomerado: 91, Total: 994690.0, Universitarios: 23181.0\n",
      "Procesando aglomerado: 93, Total: 553863.0, Universitarios: 20293.0\n"
     ]
    }
   ],
   "source": [
    "# 5. Calculo porcentajes  y ordeno por porcentajes\n",
    "# También se imprime el nombre del aglomerado, el total de hogares y el total de hogares con al \n",
    "# menos 2 universitarios\n",
    "\n",
    "top_5_aglomerados =indiv.obtener_top_n_porcentaje_hogares_universitarios(total_hogares, hogares_con_universitarios_min )"
   ]
  },
  {
   "cell_type": "code",
   "execution_count": 23,
   "id": "fe6d17f8",
   "metadata": {},
   "outputs": [
    {
     "name": "stdout",
     "output_type": "stream",
     "text": [
      "Ranking de los 5 aglomerados con mayor porcentaje de hogares con 2 o más universitarios:\n",
      "1. Aglomerado 32 - Ciudad Autónoma de Buenos Aires: 12.62%\n",
      "2. Aglomerado 2 - Gran La Plata: 6.96%\n",
      "3. Aglomerado 10 - Gran Mendoza: 6.62%\n",
      "4. Aglomerado 36 - Río Cuarto: 6.02%\n",
      "5. Aglomerado 6 - Gran Paraná: 5.67%\n"
     ]
    }
   ],
   "source": [
    "# 7. Impresión del ranking de 5 aglomerados con mayor porcentaje de hogares con 2 o más universitarios\n",
    "cs.imprimir_ranking_aglomerados(top_5_aglomerados, cantidad=5)"
   ]
  },
  {
   "cell_type": "markdown",
   "id": "23685bbd",
   "metadata": {},
   "source": [
    "### 7- Informar para cada aglomerado el porcentaje de personas mayores que hayan cursado al menos en nivel universitario o superior.\n",
    "\n",
    "Consideramos como muestra total para el cálculo porcentual sólo a las personas mayores de edad, que son las que tienen la posibilidad real de poder alcanzarlo.\n"
   ]
  },
  {
   "cell_type": "code",
   "execution_count": 24,
   "id": "72e009ac",
   "metadata": {},
   "outputs": [
    {
     "name": "stdout",
     "output_type": "stream",
     "text": [
      "Aglomerado                               Porcentaje (%)\n",
      "-------------------------------------------------------\n",
      "32 - Ciudad Autónoma de Buenos Aires              61.91%\n",
      "2 - Gran La Plata                                 45.02%\n",
      "6 - Gran Paraná                                   41.03%\n",
      "3 - Bahía Blanca - Cerri                          40.12%\n",
      "13 - Gran Córdoba                                 39.52%\n",
      "12 - Corrientes                                   38.77%\n",
      "36 - Río Cuarto                                   38.34%\n",
      "4 - Gran Rosario                                  37.77%\n",
      "19 - Jujuy - Palpalá                              37.67%\n",
      "23 - Gran Salta                                   37.63%\n",
      "10 - Gran Mendoza                                 37.43%\n",
      "34 - Mar del Plata                                37.22%\n",
      "7 - Posadas                                       36.91%\n",
      "25 - La Rioja                                     35.89%\n",
      "22 - Gran Catamarca                               35.07%\n",
      "5 - Gran Santa Fe                                 35.06%\n",
      "29 - Gran Tucumán - Tafí Viejo                    34.39%\n",
      "30 - Santa Rosa - Toay                            33.63%\n",
      "93 - Viedma - Carmen de Patagones                 33.16%\n",
      "17 - Neuquén - Plottier                           33.11%\n",
      "26 - Gran San Luis                                32.04%\n",
      "18 - Santiago del Estero - La Banda               31.31%\n",
      "20 - Río Gallegos                                 31.23%\n",
      "31 - Ushuaia - Río Grande                         31.04%\n",
      "9 - Comodoro Rivadavia - Rada Tilly               30.95%\n",
      "27 - Gran San Juan                                30.30%\n",
      "33 - Partidos del GBA                             29.61%\n",
      "91 - Rawson - Trelew                              28.70%\n",
      "8 - Gran Resistencia                              27.93%\n",
      "38 - San Nicolás - Villa Constitución             27.89%\n",
      "15 - Formosa                                      26.74%\n",
      "14 - Concordia                                    24.76%\n"
     ]
    }
   ],
   "source": [
    "cs.info_porcentual_educacionsuperior_aglomerado(data)"
   ]
  },
  {
   "cell_type": "markdown",
   "id": "c468b8a1",
   "metadata": {},
   "source": [
    "### 9- Pedir al usuario que seleccione un aglomerado y a partir de la información contenida retornar una tabla que contenga la cantidad de personas mayores de edad según su nivel de estudios alcanzados.\n"
   ]
  },
  {
   "cell_type": "code",
   "execution_count": 26,
   "id": "bd32ba41",
   "metadata": {},
   "outputs": [
    {
     "name": "stdout",
     "output_type": "stream",
     "text": [
      "==============================================================================================================================================================================================================================================================================================================================================================\n",
      "Aglomerado     2 - Gran La Plata\n",
      "**************************************************************************************************************************************************************************************************************************************************************************************************************************************************************\n",
      "Año     Trimestre   Primario incompleto / Ed. especial      Primario completo                       Secundario incompleto                   Secundario completo                     Superior universitario incompleto       Superior universitario completo         Sin instrucción                         \n",
      "**************************************************************************************************************************************************************************************************************************************************************************************************************************************************************\n",
      "2020    1           31390                                   111011                                  87929                                   133451                                  142554                                  138148                                  2396                                    \n",
      "2021    1           31068                                   94446                                   84454                                   136950                                  152047                                  152549                                  2489                                    \n",
      "2022    1           29283                                   82750                                   111331                                  143993                                  128992                                  170713                                  2628                                    \n",
      "2023    1           42789                                   74226                                   114422                                  142683                                  137907                                  161443                                  4827                                    \n",
      "2024    1           36646                                   66595                                   122598                                  151395                                  138946                                  168762                                  8249                                    \n",
      "2021    2           30280                                   85010                                   95923                                   137845                                  123452                                  180702                                  6055                                    \n",
      "2022    2           39625                                   81142                                   105630                                  124559                                  138032                                  167421                                  10160                                   \n",
      "2023    2           35015                                   74677                                   101939                                  140372                                  161001                                  162414                                  9683                                    \n",
      "2024    2           30598                                   90199                                   89779                                   151156                                  152132                                  164455                                  6299                                    \n",
      "2020    3           26582                                   103492                                  94432                                   165163                                  146234                                  115956                                  6572                                    \n",
      "2021    3           24842                                   88333                                   101243                                  132755                                  130448                                  183659                                  5605                                    \n",
      "2022    3           42735                                   56836                                   109453                                  145701                                  151578                                  156758                                  7150                                    \n",
      "2023    3           36029                                   78213                                   99943                                   163747                                  134666                                  169847                                  3406                                    \n",
      "2024    3           32173                                   91074                                   79500                                   187241                                  137758                                  158791                                  586                                     \n",
      "2021    4           23373                                   89199                                   100079                                  155819                                  134227                                  163764                                  2091                                    \n",
      "2022    4           40470                                   62128                                   111629                                  164466                                  127991                                  162769                                  6167                                    \n",
      "2023    4           29398                                   79266                                   109675                                  142572                                  144374                                  167254                                  3807                                    \n",
      "2024    4           27064                                   68499                                   100200                                  167764                                  145816                                  183946                                  3495                                    \n"
     ]
    }
   ],
   "source": [
    "aglomerado = input(\"Ingrese el aglomerado: \")\n",
    "\n",
    "cs.tabla_nivel_educativo(data, aglomerado)"
   ]
  }
 ],
 "metadata": {
  "kernelspec": {
   "display_name": "env",
   "language": "python",
   "name": "python3"
  },
  "language_info": {
   "codemirror_mode": {
    "name": "ipython",
    "version": 3
   },
   "file_extension": ".py",
   "mimetype": "text/x-python",
   "name": "python",
   "nbconvert_exporter": "python",
   "pygments_lexer": "ipython3",
   "version": "3.12.9"
  }
 },
 "nbformat": 4,
 "nbformat_minor": 5
}
