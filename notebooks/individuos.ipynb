{
 "cells": [
  {
   "cell_type": "markdown",
   "id": "1bf139ee",
   "metadata": {},
   "source": [
    "#EPH - Individuos\n"
   ]
  },
  {
   "cell_type": "code",
   "execution_count": null,
   "id": "dea3f3a3",
   "metadata": {},
   "outputs": [],
   "source": [
    "import sys\n",
    "import os\n",
    "import csv\n",
    "from pathlib import Path"
   ]
  },
  {
   "cell_type": "markdown",
   "id": "4905b49e",
   "metadata": {},
   "source": [
    "Antes de comenzar, se establece la ruta a la fuente para no tener problemas en la importación de módulos.\n"
   ]
  },
  {
   "cell_type": "code",
   "execution_count": null,
   "id": "c3996967",
   "metadata": {},
   "outputs": [],
   "source": [
    "# Ajustar la ruta para que Python reconozca la carpeta \"src\"\n",
    "project_path = os.path.abspath(os.path.join(\"..\"))  \n",
    "sys.path.append(project_path) \n",
    "# Verificación (debe mostrar la ruta a \"src/\")\n",
    "print(\"Ruta de 'src':\", os.path.join(project_path, \"src\"))"
   ]
  },
  {
   "cell_type": "markdown",
   "id": "1e575df5",
   "metadata": {},
   "source": [
    "## Unificación del archivo"
   ]
  },
  {
   "cell_type": "code",
   "execution_count": null,
   "id": "1a9de7e2",
   "metadata": {},
   "outputs": [],
   "source": [
    "from src.utils.helpers import  process_file, save_to_txt\n",
    "# Ruta los archivos \n",
    "source_path = \"../data/raw\"\n",
    "destination_path = \"../data/clean\"\n",
    "\n",
    "# Procesar y guardar individuos\n",
    "individual=process_file(source_path, category=\"individual\")\n",
    "save_to_txt(individual, destination_path, \"individuos_unificado.txt\")"
   ]
  }
 ],
 "metadata": {
  "language_info": {
   "name": "python"
  }
 },
 "nbformat": 4,
 "nbformat_minor": 5
}
