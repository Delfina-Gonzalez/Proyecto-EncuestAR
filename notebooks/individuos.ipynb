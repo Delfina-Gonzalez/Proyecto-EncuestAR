{
 "cells": [
  {
   "cell_type": "markdown",
   "id": "1bf139ee",
   "metadata": {},
   "source": [
    "# EPH - Individuos\n"
   ]
  },
  {
   "cell_type": "markdown",
   "id": "eff6a592-fa22-4d9e-bdac-15b21d379230",
   "metadata": {},
   "source": [
    "## Ajuste de ruta del proyecto en Notebook"
   ]
  },
  {
   "cell_type": "code",
   "execution_count": 1,
   "id": "ec9f785f",
   "metadata": {},
   "outputs": [],
   "source": [
    "import sys\n",
    "\n",
    "# Ajusto para que la reconozca la ruta del proyecto\n",
    "sys.path.append(\"..\") "
   ]
  },
  {
   "cell_type": "markdown",
   "id": "1e575df5",
   "metadata": {},
   "source": [
    "## Unificación de los archivos de Individuos"
   ]
  },
  {
   "cell_type": "code",
   "execution_count": 2,
   "id": "1a9de7e2",
   "metadata": {},
   "outputs": [
    {
     "name": "stdout",
     "output_type": "stream",
     "text": [
      "✅ Archivo TXT guardado en: C:\\Users\\MONSO\\code\\data\\clean\\individuos_unificado.txt\n"
     ]
    }
   ],
   "source": [
    "from src.utils.constants import DATA_SOURCE_DIR,DATA_CLEAN_DIR,FILENAME_INDIVIDUOS_UNIFIED\n",
    "from src.utils.helpers import  process_file, save_to_txt\n",
    "\n",
    "# Procesar y guardar individuos\n",
    "encabezados,individual = process_file(DATA_SOURCE_DIR, category=\"individual\")\n",
    "save_to_txt(encabezados,individual, DATA_CLEAN_DIR , FILENAME_INDIVIDUOS_UNIFIED)\n"
   ]
  },
  {
   "cell_type": "markdown",
   "id": "e18ac8cc-fc8f-4deb-8061-c10538ec8c57",
   "metadata": {},
   "source": [
    "## Procesamiento de los archivos"
   ]
  },
  {
   "cell_type": "markdown",
   "id": "0f316949-058b-41dc-85e5-1f9e741669f0",
   "metadata": {},
   "source": [
    "Abro el archivo unificado"
   ]
  },
  {
   "cell_type": "code",
   "execution_count": 3,
   "id": "57d63c2b-e64d-4615-a09e-dc3c825f7232",
   "metadata": {},
   "outputs": [],
   "source": [
    "from src.utils.constants import INDIVIDUOS_UNIFIED_DIR\n",
    "from src.utils.helpers import read_file_dic\n",
    "\n",
    "header,data=read_file_dic(INDIVIDUOS_UNIFIED_DIR)"
   ]
  },
  {
   "cell_type": "markdown",
   "id": "43e974bb",
   "metadata": {},
   "source": [
    "Proceso el archivo"
   ]
  },
  {
   "cell_type": "code",
   "execution_count": 4,
   "id": "06c3318d-1836-4b5d-b4de-89de2df3a2d4",
   "metadata": {},
   "outputs": [],
   "source": [
    "import src.procesamientos.individuos as indiv\n",
    "\n",
    "indiv.add_extra_data(header,data)"
   ]
  },
  {
   "cell_type": "markdown",
   "id": "143ea7f1-056b-4ff3-a46c-43d2f5e367aa",
   "metadata": {},
   "source": [
    "Guardo los datos procesados a un archivo"
   ]
  },
  {
   "cell_type": "code",
   "execution_count": 5,
   "id": "0e040eb3-620f-4e9a-945c-d0a18fcac8ff",
   "metadata": {},
   "outputs": [],
   "source": [
    "from src.utils.constants import INDIVIDUOS_PROCESSED_DIR\n",
    "from src.utils.helpers import save_to_csv\n",
    "\n",
    "save_to_csv(INDIVIDUOS_PROCESSED_DIR,header,data, delimiter=\";\")"
   ]
  },
  {
   "cell_type": "markdown",
   "id": "50665c3c",
   "metadata": {},
   "source": [
    "## Análisis de Individuos"
   ]
  },
  {
   "cell_type": "markdown",
   "id": "f57439e4-2f63-4edc-b3fc-4b44c1fd76bc",
   "metadata": {},
   "source": [
    "Abro el archivo de individuos procesado:"
   ]
  },
  {
   "cell_type": "code",
   "execution_count": 6,
   "id": "376e4a29",
   "metadata": {},
   "outputs": [],
   "source": [
    "from src.utils.helpers import read_file_dic\n",
    "\n",
    "header,data=read_file_dic(INDIVIDUOS_PROCESSED_DIR)"
   ]
  },
  {
   "cell_type": "markdown",
   "id": "c7091637",
   "metadata": {},
   "source": [
    "Importo las funciones para realizar las consultas"
   ]
  },
  {
   "cell_type": "code",
   "execution_count": 7,
   "id": "52fd72b7",
   "metadata": {},
   "outputs": [],
   "source": [
    "import src.consultas.consultas as cs"
   ]
  },
  {
   "cell_type": "code",
   "execution_count": 8,
   "id": "709bbe41",
   "metadata": {},
   "outputs": [
    {
     "data": {
      "text/plain": [
       "<module 'src.consultas.consultas' from 'c:\\\\Users\\\\MONSO\\\\code\\\\notebooks\\\\..\\\\src\\\\consultas\\\\consultas.py'>"
      ]
     },
     "execution_count": 8,
     "metadata": {},
     "output_type": "execute_result"
    }
   ],
   "source": [
    "import importlib\n",
    "\n",
    "importlib.reload(cs)"
   ]
  },
  {
   "cell_type": "markdown",
   "id": "d68f1157-b886-4856-adbd-117abb6d65df",
   "metadata": {},
   "source": [
    "### 1- A partir de la información de cada año contenida en el dataset se debe informar, año tras año, el porcentaje de personas mayores a 6 años capaces e incapaces de leer y escribir."
   ]
  },
  {
   "cell_type": "code",
   "execution_count": 9,
   "id": "0c05b2d4-74a3-496e-b4ff-640072ffbe39",
   "metadata": {},
   "outputs": [
    {
     "name": "stdout",
     "output_type": "stream",
     "text": [
      "Año           % Alfabetos      % No Alfabetos\n",
      "---------------------------------------------\n",
      "2024                98.28                1.72\n",
      "2023                97.84                2.16\n"
     ]
    }
   ],
   "source": [
    "cs.cant_personas_alfabetizadas(data)"
   ]
  },
  {
   "cell_type": "markdown",
   "id": "bd69e082-19ed-474f-b5ad-23704e43483b",
   "metadata": {},
   "source": [
    "### 2- A partir de un año y trimestre elegido por el usuario informar el porcentaje de personas no nacidas en Argentina que hayan cursado un nivel universitario o superior"
   ]
  },
  {
   "cell_type": "code",
   "execution_count": 10,
   "id": "0a76eda1-b686-4425-9220-766fa224652c",
   "metadata": {},
   "outputs": [
    {
     "name": "stdout",
     "output_type": "stream",
     "text": [
      "El % de personas extranjeras que han cursado el nivel superior o universitario en el trimestre 3 del año 2024 es del: 5.92%\n"
     ]
    }
   ],
   "source": [
    "#Ingreso de datos por el usuario\n",
    "ano=input(\"Ingrese el año: \")\n",
    "trim=input(\"Ingrese el trimestre [1 a 4]: \")\n",
    "\n",
    "cs.porc_extranjero_universitario(ano,trim,data)"
   ]
  },
  {
   "cell_type": "markdown",
   "id": "40eb538c-c1d5-4dfc-863d-dabb0110b6bd",
   "metadata": {},
   "source": [
    "### 3- A partir de la información contenida en el dataset informar el año y trimestre donde hubo menor desocupación."
   ]
  },
  {
   "cell_type": "code",
   "execution_count": 11,
   "id": "79addb52-852f-4d74-a635-908c81ab514c",
   "metadata": {},
   "outputs": [
    {
     "name": "stdout",
     "output_type": "stream",
     "text": [
      "Valor mínimo de desocupación: 822050 en los siguientes años y trimestres:\n",
      "Año: 2023, Trimestre: 4\n"
     ]
    }
   ],
   "source": [
    "cs.info_menor_desocupacion(data)"
   ]
  },
  {
   "cell_type": "markdown",
   "id": "5a534895",
   "metadata": {},
   "source": [
    "### 4- Ranking de los 5 aglomerados con mayor porcentaje de hogares con dos o más ocupantes con estudios universitarios o superiores finalizados. Información obtenida a partir del par de archivos más recientes. "
   ]
  },
  {
   "cell_type": "code",
   "execution_count": 12,
   "id": "b64665b4",
   "metadata": {},
   "outputs": [],
   "source": [
    "# 1. Cuento cuántos universitarios hay por hogar y guardar pondera\n",
    "\n",
    "universitarios_por_hogar, pondera_por_hogar = cs.contar_universitarios_y_pondera_por_hogar(data)\n",
    "\n",
    "# 2. Filtro hogares con al menos 2 universitarios\n",
    "\n",
    "hogares_filtrados = cs.filtrar_hogares_con_min_universitarios(universitarios_por_hogar,pondera_por_hogar,min_universitarios=2)"
   ]
  },
  {
   "cell_type": "code",
   "execution_count": 13,
   "id": "a1d9781b",
   "metadata": {},
   "outputs": [],
   "source": [
    "# 3. Suma ponderada de todos los hogares\n",
    "\n",
    "total_hogares = cs.contar_hogares(pondera_por_hogar)\n",
    "\n",
    "# 4. Suma poderada de hogares con 2+ universitarios por aglomerado\n",
    "\n",
    "hogares_con_universitarios_min = cs.contar_hogares(hogares_filtrados)"
   ]
  },
  {
   "cell_type": "code",
   "execution_count": 14,
   "id": "0d21fb70",
   "metadata": {},
   "outputs": [
    {
     "name": "stdout",
     "output_type": "stream",
     "text": [
      "Procesando aglomerado: 32, Total: 5080948.0, Universitarios: 680128.0\n",
      "Procesando aglomerado: 33, Total: 16584842.0, Universitarios: 637504.0\n",
      "Procesando aglomerado: 22, Total: 272773.0, Universitarios: 10245.0\n",
      "Procesando aglomerado: 19, Total: 445718.0, Universitarios: 12076.0\n",
      "Procesando aglomerado: 13, Total: 2403670.0, Universitarios: 106021.0\n",
      "Procesando aglomerado: 36, Total: 287804.0, Universitarios: 17168.0\n",
      "Procesando aglomerado: 14, Total: 210530.0, Universitarios: 3962.0\n",
      "Procesando aglomerado: 15, Total: 331707.0, Universitarios: 9068.0\n",
      "Procesando aglomerado: 8, Total: 558033.0, Universitarios: 19448.0\n",
      "Procesando aglomerado: 9, Total: 332684.0, Universitarios: 9196.0\n",
      "Procesando aglomerado: 25, Total: 287912.0, Universitarios: 7315.0\n",
      "Procesando aglomerado: 91, Total: 229196.0, Universitarios: 5380.0\n",
      "Procesando aglomerado: 93, Total: 128419.0, Universitarios: 3795.0\n",
      "Procesando aglomerado: 34, Total: 1014559.0, Universitarios: 43914.0\n",
      "Procesando aglomerado: 38, Total: 288180.0, Universitarios: 8127.0\n",
      "Procesando aglomerado: 6, Total: 398458.0, Universitarios: 25326.0\n",
      "Procesando aglomerado: 30, Total: 209394.0, Universitarios: 10559.0\n",
      "Procesando aglomerado: 3, Total: 531908.0, Universitarios: 25909.0\n",
      "Procesando aglomerado: 12, Total: 514939.0, Universitarios: 26298.0\n",
      "Procesando aglomerado: 10, Total: 1405162.0, Universitarios: 96673.0\n",
      "Procesando aglomerado: 7, Total: 567634.0, Universitarios: 20624.0\n",
      "Procesando aglomerado: 17, Total: 459918.0, Universitarios: 30628.0\n",
      "Procesando aglomerado: 23, Total: 768348.0, Universitarios: 30426.0\n",
      "Procesando aglomerado: 5, Total: 769059.0, Universitarios: 31043.0\n",
      "Procesando aglomerado: 27, Total: 670502.0, Universitarios: 26043.0\n",
      "Procesando aglomerado: 29, Total: 1118299.0, Universitarios: 38124.0\n",
      "Procesando aglomerado: 4, Total: 2064224.0, Universitarios: 92116.0\n",
      "Procesando aglomerado: 31, Total: 267039.0, Universitarios: 7663.0\n",
      "Procesando aglomerado: 26, Total: 328220.0, Universitarios: 19295.0\n",
      "Procesando aglomerado: 20, Total: 185727.0, Universitarios: 5519.0\n",
      "Procesando aglomerado: 18, Total: 495524.0, Universitarios: 20603.0\n",
      "Procesando aglomerado: 2, Total: 1404146.0, Universitarios: 105378.0\n"
     ]
    }
   ],
   "source": [
    "# 5. Calculo porcentajes  y ordeno por porcentajes\n",
    "# También se imprime el nombre del aglomerado, el total de hogares y el total de hogares con al \n",
    "# menos 2 universitarios\n",
    "\n",
    "top_5_aglomerados =cs.obtener_top_n_porcentaje_hogares_universitarios(total_hogares, hogares_con_universitarios_min )"
   ]
  },
  {
   "cell_type": "code",
   "execution_count": 15,
   "id": "fe6d17f8",
   "metadata": {},
   "outputs": [
    {
     "name": "stdout",
     "output_type": "stream",
     "text": [
      "Ranking de los 5 aglomerados con mayor porcentaje de hogares con 2 o más universitarios:\n",
      "1. Aglomerado 32 - Ciudad Autónoma de Buenos Aires: 13.39%\n",
      "2. Aglomerado 2 - Gran La Plata: 7.50%\n",
      "3. Aglomerado 10 - Gran Mendoza: 6.88%\n",
      "4. Aglomerado 17 - Neuquén - Plottier: 6.66%\n",
      "5. Aglomerado 6 - Gran Paraná: 6.36%\n"
     ]
    }
   ],
   "source": [
    "# 7. Impresión del ranking de 5 aglomerados con mayor porcentaje de hogares con 2 o más universitarios\n",
    "cs.imprimir_ranking_aglomerados(top_5_aglomerados, cantidad=5)"
   ]
  },
  {
   "cell_type": "markdown",
   "id": "23685bbd",
   "metadata": {},
   "source": [
    "### 7- Informar para cada aglomerado el porcentaje de personas mayores que hayan cursado al menos en nivel universitario o superior.\n",
    "\n",
    "Consideramos como muestra total para el cálculo porcentual sólo a las personas mayores de edad, que son las que tienen la posibilidad real de poder alcanzarlo.\n"
   ]
  },
  {
   "cell_type": "code",
   "execution_count": 16,
   "id": "72e009ac",
   "metadata": {},
   "outputs": [
    {
     "name": "stdout",
     "output_type": "stream",
     "text": [
      "Aglomerado                               Porcentaje (%)\n",
      "-------------------------------------------------------\n",
      "32 - Ciudad Autónoma de Buenos Aires              62.99%\n",
      "2 - Gran La Plata                                 45.70%\n",
      "3 - Bahía Blanca - Cerri                          41.36%\n",
      "13 - Gran Córdoba                                 40.95%\n",
      "6 - Gran Paraná                                   40.19%\n",
      "4 - Gran Rosario                                  39.29%\n",
      "36 - Río Cuarto                                   39.25%\n",
      "12 - Corrientes                                   39.01%\n",
      "19 - Jujuy - Palpalá                              38.93%\n",
      "34 - Mar del Plata                                38.63%\n",
      "10 - Gran Mendoza                                 37.65%\n",
      "23 - Gran Salta                                   37.58%\n",
      "7 - Posadas                                       37.56%\n",
      "17 - Neuquén - Plottier                           36.09%\n",
      "25 - La Rioja                                     35.87%\n",
      "29 - Gran Tucumán - Tafí Viejo                    35.62%\n",
      "30 - Santa Rosa - Toay                            34.67%\n",
      "26 - Gran San Luis                                33.77%\n",
      "93 - Viedma - Carmen de Patagones                 33.76%\n",
      "5 - Gran Santa Fe                                 33.27%\n",
      "22 - Gran Catamarca                               32.56%\n",
      "9 - Comodoro Rivadavia - Rada Tilly               31.96%\n",
      "20 - Río Gallegos                                 31.79%\n",
      "31 - Ushuaia - Río Grande                         31.35%\n",
      "18 - Santiago del Estero - La Banda               31.22%\n",
      "27 - Gran San Juan                                30.87%\n",
      "38 - San Nicolás - Villa Constitución             30.45%\n",
      "33 - Partidos del GBA                             30.31%\n",
      "8 - Gran Resistencia                              28.97%\n",
      "15 - Formosa                                      27.41%\n",
      "91 - Rawson - Trelew                              26.64%\n",
      "14 - Concordia                                    24.51%\n"
     ]
    }
   ],
   "source": [
    "cs.info_porcentual_educacionsuperior_aglomerado(data)"
   ]
  },
  {
   "cell_type": "markdown",
   "id": "c468b8a1",
   "metadata": {},
   "source": [
    "### 9- Pedir al usuario que seleccione un aglomerado y a partir de la información contenida retornar una tabla que contenga la cantidad de personas mayores de edad según su nivel de estudios alcanzados.\n"
   ]
  },
  {
   "cell_type": "code",
   "execution_count": 17,
   "id": "bd32ba41",
   "metadata": {},
   "outputs": [
    {
     "name": "stdout",
     "output_type": "stream",
     "text": [
      "==============================================================================================================================================================================================================================================================================================================================================================\n",
      "Aglomerado     2 - Gran La Plata\n",
      "**************************************************************************************************************************************************************************************************************************************************************************************************************************************************************\n",
      "Año     Trimestre   Primario incompleto / Ed. especial      Primario completo                       Secundario incompleto                   Secundario completo                     Superior universitario incompleto       Superior universitario completo         Sin instrucción                         \n",
      "**************************************************************************************************************************************************************************************************************************************************************************************************************************************************************\n",
      "2024    2           30598                                   90199                                   89779                                   151156                                  152132                                  164455                                  6299                                    \n",
      "2024    3           32173                                   91074                                   79500                                   187241                                  137758                                  158791                                  586                                     \n",
      "2023    4           29398                                   79266                                   109675                                  142572                                  144374                                  167254                                  3807                                    \n",
      "2024    4           27064                                   68499                                   100700                                  167764                                  145816                                  183946                                  3495                                    \n"
     ]
    }
   ],
   "source": [
    "aglomerado = input(\"Ingrese el NÚMERO o NOMBRE COMPLETO de aglomerado: \")\n",
    "\n",
    "cs.tabla_nivel_educativo(data, aglomerado)"
   ]
  },
  {
   "cell_type": "markdown",
   "id": "0212403d",
   "metadata": {},
   "source": [
    "### 10- Pedir al usuario que seleccione dos aglomerados y a partir de la información contenida retornar una tabla que contenga el porcentaje de personas mayores de edad con secundario incompleto."
   ]
  },
  {
   "cell_type": "code",
   "execution_count": null,
   "id": "313aa9e2",
   "metadata": {},
   "outputs": [
    {
     "ename": "TypeError",
     "evalue": "imprimir_porcentaje_secundario_incompleto() takes 1 positional argument but 3 were given",
     "output_type": "error",
     "traceback": [
      "\u001b[31m---------------------------------------------------------------------------\u001b[39m",
      "\u001b[31mTypeError\u001b[39m                                 Traceback (most recent call last)",
      "\u001b[36mCell\u001b[39m\u001b[36m \u001b[39m\u001b[32mIn[18]\u001b[39m\u001b[32m, line 6\u001b[39m\n\u001b[32m      2\u001b[39m aglo_input2 = \u001b[38;5;28mint\u001b[39m(\u001b[38;5;28minput\u001b[39m(\u001b[33m\"\u001b[39m\u001b[33mIngrese otro aglomerado: \u001b[39m\u001b[33m\"\u001b[39m))\n\u001b[32m      4\u001b[39m tabla_porcentaje = cs.personas_secundario_incompleto_anio_trimestre(aglo_input1, aglo_input2, data)\n\u001b[32m----> \u001b[39m\u001b[32m6\u001b[39m \u001b[43mcs\u001b[49m\u001b[43m.\u001b[49m\u001b[43mimprimir_porcentaje_secundario_incompleto\u001b[49m\u001b[43m(\u001b[49m\u001b[43maglo_input1\u001b[49m\u001b[43m,\u001b[49m\u001b[43m \u001b[49m\u001b[43maglo_input2\u001b[49m\u001b[43m,\u001b[49m\u001b[43mtabla_porcentaje\u001b[49m\u001b[43m)\u001b[49m\n",
      "\u001b[31mTypeError\u001b[39m: imprimir_porcentaje_secundario_incompleto() takes 1 positional argument but 3 were given"
     ]
    }
   ],
   "source": [
    "\n",
    "aglo_input1 = int(input(\"Ingrese un aglomerado: \"))\n",
    "aglo_input2 = int(input(\"Ingrese otro aglomerado: \"))\n",
    "\n",
    "tabla_porcentaje = cs.personas_secundario_incompleto_anio_trimestre(aglo_input1, aglo_input2, data)\n",
    "\n",
    "cs.imprimir_porcentaje_secundario_incompleto(tabla_porcentaje)"
   ]
  }
 ],
 "metadata": {
  "kernelspec": {
   "display_name": ".venv",
   "language": "python",
   "name": "python3"
  },
  "language_info": {
   "codemirror_mode": {
    "name": "ipython",
    "version": 3
   },
   "file_extension": ".py",
   "mimetype": "text/x-python",
   "name": "python",
   "nbconvert_exporter": "python",
   "pygments_lexer": "ipython3",
   "version": "3.12.9"
  }
 },
 "nbformat": 4,
 "nbformat_minor": 5
}
