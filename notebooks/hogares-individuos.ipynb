{
 "cells": [
  {
   "cell_type": "markdown",
   "id": "31c08f8d",
   "metadata": {},
   "source": [
    "## Ajuste de ruta del proyecto en Notebook"
   ]
  },
  {
   "cell_type": "code",
   "execution_count": 5,
   "id": "820c8811",
   "metadata": {},
   "outputs": [],
   "source": [
    "import sys\n",
    "\n",
    "# Ajusto para que la reconozca la ruta del proyecto\n",
    "sys.path.append(\"..\") "
   ]
  },
  {
   "cell_type": "markdown",
   "id": "dc384e39",
   "metadata": {},
   "source": [
    "### 13- Solicitar un año al usuario y a partir de la información del último trimestre de dicho ejercicio informar la cantidad de personas que hayan cursado nivel universitario o superior y que vivan en una vivienda con CONDICION_DE_HABITABILIDAD insuficiente "
   ]
  },
  {
   "cell_type": "markdown",
   "id": "668d800c",
   "metadata": {},
   "source": [
    "Preparo archivos necesarios para el análisis"
   ]
  },
  {
   "cell_type": "code",
   "execution_count": 2,
   "id": "dee0bb42",
   "metadata": {},
   "outputs": [],
   "source": [
    "from src.utils.constants import INDIVIDUOS_PROCESSED_DIR, HOGARES_PROCESSED_DIR\n",
    "from src.utils.helpers import read_file_dic\n",
    "import src.consultas  as consult\n",
    "\n",
    "header_indiv,data_indiv=read_file_dic(INDIVIDUOS_PROCESSED_DIR)\n",
    "header_hog,data_hog=read_file_dic(HOGARES_PROCESSED_DIR)"
   ]
  },
  {
   "cell_type": "code",
   "execution_count": null,
   "id": "f489ec61",
   "metadata": {},
   "outputs": [],
   "source": [
    "anio = int(input(\"Ingrese el año a consultar: \"))\n",
    "\n",
    "consult.informe_personas_en_viviendas_insuficientes(data_indiv, data_hog, anio)"
   ]
  }
 ],
 "metadata": {
  "kernelspec": {
   "display_name": ".venv",
   "language": "python",
   "name": "python3"
  },
  "language_info": {
   "codemirror_mode": {
    "name": "ipython",
    "version": 3
   },
   "file_extension": ".py",
   "mimetype": "text/x-python",
   "name": "python",
   "nbconvert_exporter": "python",
   "pygments_lexer": "ipython3",
   "version": "3.12.9"
  }
 },
 "nbformat": 4,
 "nbformat_minor": 5
}
