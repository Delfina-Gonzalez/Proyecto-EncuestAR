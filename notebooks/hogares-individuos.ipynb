{
 "cells": [
  {
   "cell_type": "markdown",
   "id": "31c08f8d",
   "metadata": {},
   "source": [
    "## Ajuste de ruta del proyecto en Notebook"
   ]
  },
  {
   "cell_type": "code",
   "execution_count": 17,
   "id": "820c8811",
   "metadata": {},
   "outputs": [],
   "source": [
    "import sys\n",
    "\n",
    "# Ajusto  para que la reconozca la ruta del proyecto\n",
    "sys.path.append(\"..\") "
   ]
  },
  {
   "cell_type": "markdown",
   "id": "eb6ac3e3",
   "metadata": {},
   "source": [
    "# UNIFICO HOGARES Y INDIVIDUOS"
   ]
  },
  {
   "cell_type": "code",
   "execution_count": 18,
   "id": "03c85dfb",
   "metadata": {},
   "outputs": [
    {
     "name": "stdout",
     "output_type": "stream",
     "text": [
      "✅ Archivo guardado en: C:\\Users\\PC\\Desktop\\TP INTEGRADOR\\code\\data\\processed\\hogares_procesados.txt\n"
     ]
    }
   ],
   "source": [
    "from src.utils.constants import DATA_SOURCE_DIR,DATA_PROCESSED_DIR,FILENAME_HOGARES_PROCESSED\n",
    "from src.utils.helpers import process_file,save_to_file\n",
    "\n",
    "# Procesar y unificar  hogares\n",
    "encabezados,hogares = process_file(DATA_SOURCE_DIR, category=\"hogar\")\n",
    "save_to_file(DATA_PROCESSED_DIR,FILENAME_HOGARES_PROCESSED,encabezados,hogares)"
   ]
  },
  {
   "cell_type": "code",
   "execution_count": 19,
   "id": "3d42b62b",
   "metadata": {},
   "outputs": [
    {
     "name": "stdout",
     "output_type": "stream",
     "text": [
      "✅ Archivo guardado en: C:\\Users\\PC\\Desktop\\TP INTEGRADOR\\code\\data\\processed\\individuos_procesados.txt\n"
     ]
    }
   ],
   "source": [
    "from src.utils.constants import DATA_SOURCE_DIR,DATA_PROCESSED_DIR,FILENAME_INDIVIDUOS_PROCESSED\n",
    "from src.utils.helpers import  process_file, save_to_file\n",
    "\n",
    "# Procesar y unificar individuos\n",
    "encabezados,individual = process_file(DATA_SOURCE_DIR, category=\"individual\")\n",
    "save_to_file(DATA_PROCESSED_DIR,FILENAME_INDIVIDUOS_PROCESSED,encabezados,individual)"
   ]
  },
  {
   "cell_type": "markdown",
   "id": "97979882",
   "metadata": {},
   "source": [
    "# PROCESO HOGARES E INDIVIDUOS"
   ]
  },
  {
   "cell_type": "code",
   "execution_count": 20,
   "id": "1295d40d",
   "metadata": {},
   "outputs": [
    {
     "name": "stdout",
     "output_type": "stream",
     "text": [
      "📅 Período procesado: desde 4/2023 hasta 4/2023\n",
      "✅ Archivo guardado en: C:\\Users\\PC\\Desktop\\TP INTEGRADOR\\code\\data\\processed\\hogares_procesados.txt\n"
     ]
    }
   ],
   "source": [
    "# PROCESAR HOGARES\n",
    "from src.utils.constants import HOGARES_PROCESSED_DIR\n",
    "from src.utils.helpers import read_file_dic\n",
    "\n",
    "header,data=read_file_dic(HOGARES_PROCESSED_DIR)\n",
    "\n",
    "\n",
    "import src.procesamientos.hogares as hog\n",
    "\n",
    "fechamin, fechamax = hog.procesar_hogares(header, data)\n",
    "if fechamin is not None and fechamax is not None:\n",
    "    print(f\"📅 Período procesado: desde {fechamin[1]}/{fechamin[0]} hasta {fechamax[1]}/{fechamax[0]}\")\n",
    "else:   \n",
    "    print(\"No hay datos para procesar.\")\n",
    "\n",
    "save_to_file(DATA_PROCESSED_DIR,FILENAME_HOGARES_PROCESSED,header,data)"
   ]
  },
  {
   "cell_type": "code",
   "execution_count": 21,
   "id": "4842bff0",
   "metadata": {},
   "outputs": [
    {
     "name": "stdout",
     "output_type": "stream",
     "text": [
      "📅 Período procesado: desde 4/2023 hasta 4/2023\n",
      "✅ Archivo guardado en: C:\\Users\\PC\\Desktop\\TP INTEGRADOR\\code\\data\\processed\\individuos_procesados.txt\n"
     ]
    }
   ],
   "source": [
    "# PROCESAR INDIVIDUOS\n",
    "from src.utils.constants import INDIVIDUOS_PROCESSED_DIR\n",
    "from src.utils.helpers import read_file_dic\n",
    "\n",
    "header,data=read_file_dic(INDIVIDUOS_PROCESSED_DIR)\n",
    "\n",
    "import src.procesamientos.individuos as indiv\n",
    "\n",
    "fechamin,fechamax=indiv.add_extra_data(header,data)\n",
    "\n",
    "if fechamin is not None and fechamax is not None:\n",
    "    print(f\"📅 Período procesado: desde {fechamin[1]}/{fechamin[0]} hasta {fechamax[1]}/{fechamax[0]}\")\n",
    "else:   \n",
    "    print(\"No hay datos para procesar.\")\n",
    "\n",
    "save_to_file(DATA_PROCESSED_DIR,FILENAME_INDIVIDUOS_PROCESSED,header,data)"
   ]
  },
  {
   "cell_type": "markdown",
   "id": "668d800c",
   "metadata": {},
   "source": [
    "Preparo archivos necesarios para el análisis"
   ]
  },
  {
   "cell_type": "code",
   "execution_count": 22,
   "id": "dee0bb42",
   "metadata": {},
   "outputs": [],
   "source": [
    "from src.utils.constants import INDIVIDUOS_PROCESSED_DIR, HOGARES_PROCESSED_DIR\n",
    "from src.utils.helpers import read_file_dic\n",
    "import src.consultas.consultas  as cs\n",
    "\n",
    "header_indiv,data_indiv=read_file_dic(INDIVIDUOS_PROCESSED_DIR)\n",
    "header_hog,data_hog=read_file_dic(HOGARES_PROCESSED_DIR)"
   ]
  },
  {
   "cell_type": "markdown",
   "id": "85188dd6",
   "metadata": {},
   "source": [
    "### 12-  A partir de la información del último trimestre almacenado en el sistema se debe retornar para cada aglomerado el porcentaje de jubilados que vivan en una vivienda con CONDICION_DE_HABITABILIDAD insuficiente. "
   ]
  },
  {
   "cell_type": "code",
   "execution_count": 23,
   "id": "e6fef81d",
   "metadata": {},
   "outputs": [
    {
     "name": "stdout",
     "output_type": "stream",
     "text": [
      "---------------------------------------------\n",
      "Aglomerado      |  % Jubilados en Hab. Insuf.\n",
      "---------------------------------------------\n",
      "2               |                        0.69%\n",
      "3               |                        0.00%\n",
      "4               |                        0.00%\n",
      "5               |                        0.00%\n",
      "6               |                        0.00%\n",
      "7               |                        0.00%\n",
      "8               |                        1.16%\n",
      "9               |                        0.00%\n",
      "10              |                        0.47%\n",
      "12              |                        1.47%\n",
      "13              |                        0.00%\n",
      "14              |                        0.00%\n",
      "15              |                        0.00%\n",
      "17              |                        0.00%\n",
      "18              |                        0.00%\n",
      "19              |                        0.00%\n",
      "20              |                        0.00%\n",
      "22              |                        0.49%\n",
      "23              |                        0.00%\n",
      "25              |                        0.00%\n",
      "26              |                        0.91%\n",
      "27              |                        0.52%\n",
      "29              |                        0.00%\n",
      "30              |                        0.00%\n",
      "31              |                        0.00%\n",
      "32              |                        0.00%\n",
      "33              |                        0.48%\n",
      "34              |                        0.00%\n",
      "36              |                        0.00%\n",
      "38              |                        0.00%\n",
      "91              |                        0.00%\n",
      "93              |                        0.00%\n",
      "---------------------------------------------\n"
     ]
    }
   ],
   "source": [
    "cs.imprimir_datos_jubilados(cs.porcentaje_jubilados_habitabilidad_insuficiente(data_hog,data_indiv))"
   ]
  },
  {
   "cell_type": "markdown",
   "id": "dc384e39",
   "metadata": {},
   "source": [
    "### 13- Solicitar un año al usuario y a partir de la información del último trimestre de dicho ejercicio informar la cantidad de personas que hayan cursado nivel universitario o superior y que vivan en una vivienda con CONDICION_DE_HABITABILIDAD insuficiente "
   ]
  },
  {
   "cell_type": "code",
   "execution_count": 24,
   "id": "f489ec61",
   "metadata": {},
   "outputs": [
    {
     "name": "stdout",
     "output_type": "stream",
     "text": [
      "Trimestres disponibles en el archivo de individuos para el 2023: {4}\n",
      "Trimestres disponibles en el archivo de hogares para el 2023: {4}\n",
      "\n",
      "Cantidad de personas con estudios superiores/universitarios en viviendas insuficientes: 4344\n"
     ]
    }
   ],
   "source": [
    "try:\n",
    "    anio = int(input(\"Ingrese el año a consultar: \"))\n",
    "    cs.informe_universitarios_en_viviendas_insuficientes(data_indiv, data_hog, anio)\n",
    "except ValueError:\n",
    "    print(\"Ingreso incorrecto. Debes ingresar un número válido para el año.\")\n",
    "\n"
   ]
  }
 ],
 "metadata": {
  "kernelspec": {
   "display_name": "Python 3",
   "language": "python",
   "name": "python3"
  },
  "language_info": {
   "codemirror_mode": {
    "name": "ipython",
    "version": 3
   },
   "file_extension": ".py",
   "mimetype": "text/x-python",
   "name": "python",
   "nbconvert_exporter": "python",
   "pygments_lexer": "ipython3",
   "version": "3.12.9"
  }
 },
 "nbformat": 4,
 "nbformat_minor": 5
}
