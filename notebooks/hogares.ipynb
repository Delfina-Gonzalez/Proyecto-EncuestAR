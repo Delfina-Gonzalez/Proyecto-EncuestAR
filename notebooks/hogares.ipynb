{
 "cells": [
  {
   "cell_type": "markdown",
   "id": "6ee5e12e",
   "metadata": {},
   "source": [
    "# EPH - Hogares"
   ]
  },
  {
   "cell_type": "markdown",
   "id": "abcbe757",
   "metadata": {},
   "source": [
    "## Ajuste de ruta del proyecto en Notebook"
   ]
  },
  {
   "cell_type": "code",
   "execution_count": 1,
   "id": "400d215c",
   "metadata": {},
   "outputs": [],
   "source": [
    "import sys\n",
    "import csv\n",
    "from pathlib import Path\n",
    "\n",
    "# Ajusto para que la reconozca la ruta del proyecto\n",
    "sys.path.append(\"..\") \n",
    "\n",
    "#CONSTANTS\n",
    "from src.utils.constants import DATA_SOURCE_DIR,DATA_CLEAN_DIR,HOGARES_UNIFIED_DIR,FILENAME_HOGARES_UNIFIED,HOGARES_PROCESSED_DIR"
   ]
  },
  {
   "cell_type": "markdown",
   "id": "e6652082",
   "metadata": {},
   "source": [
    "## Unificación de los archivos Hogares"
   ]
  },
  {
   "cell_type": "code",
   "execution_count": 3,
   "id": "cac9c810",
   "metadata": {},
   "outputs": [
    {
     "name": "stdout",
     "output_type": "stream",
     "text": [
      "✅ Archivo TXT guardado en: C:\\Users\\PC\\Desktop\\TP INTEGRADOR\\code\\data\\clean\\hogares_unificado.txt\n"
     ]
    }
   ],
   "source": [
    "from src.utils.helpers import process_file,save_to_txt,read_file_dic\n",
    "\n",
    "# Procesar y guardar hogares\n",
    "encabezados,hogares = process_file(DATA_SOURCE_DIR, category=\"hogar\")\n",
    "save_to_txt(encabezados,hogares, DATA_CLEAN_DIR , FILENAME_HOGARES_UNIFIED)\n"
   ]
  },
  {
   "cell_type": "markdown",
   "id": "2aa4e9c9",
   "metadata": {},
   "source": [
    "## Procesamiento de los archivos"
   ]
  },
  {
   "cell_type": "code",
   "execution_count": 4,
   "id": "03224762",
   "metadata": {},
   "outputs": [],
   "source": [
    "import src.procesamientos.hogares as hog\n",
    "\n",
    "hog.procesar_hogares()"
   ]
  },
  {
   "cell_type": "markdown",
   "id": "128f946e",
   "metadata": {},
   "source": [
    "## Análisis de hogares"
   ]
  },
  {
   "cell_type": "code",
   "execution_count": null,
   "id": "7908fac2",
   "metadata": {},
   "outputs": [],
   "source": [
    "# Ruta original del archivo limpio\n",
    "data_hogares=HOGARES_PROCESSED_DIR"
   ]
  },
  {
   "cell_type": "markdown",
   "id": "962a3cae",
   "metadata": {},
   "source": [
    "Abro el archivo hogares procesado"
   ]
  },
  {
   "cell_type": "code",
   "execution_count": null,
   "id": "a583f2d5",
   "metadata": {},
   "outputs": [],
   "source": [
    "header,data = read_file_dic(data_hogares)"
   ]
  },
  {
   "cell_type": "markdown",
   "id": "b94f4fca",
   "metadata": {},
   "source": [
    "## 8- Informar las regiones en orden descendente según el porcentaje de inquilinos de cada una."
   ]
  },
  {
   "cell_type": "code",
   "execution_count": null,
   "id": "92a39f20",
   "metadata": {},
   "outputs": [
    {
     "ename": "AttributeError",
     "evalue": "module 'src.procesamientos.individuos' has no attribute 'ranking_inquilinos_por_region'",
     "output_type": "error",
     "traceback": [
      "\u001b[31m---------------------------------------------------------------------------\u001b[39m",
      "\u001b[31mAttributeError\u001b[39m                            Traceback (most recent call last)",
      "\u001b[36mCell\u001b[39m\u001b[36m \u001b[39m\u001b[32mIn[4]\u001b[39m\u001b[32m, line 1\u001b[39m\n\u001b[32m----> \u001b[39m\u001b[32m1\u001b[39m \u001b[43mhog\u001b[49m\u001b[43m.\u001b[49m\u001b[43mranking_inquilinos_por_region\u001b[49m(data)\n",
      "\u001b[31mAttributeError\u001b[39m: module 'src.procesamientos.individuos' has no attribute 'ranking_inquilinos_por_region'"
     ]
    }
   ],
   "source": [
    "hog.ranking_inquilinos_por_region(data)"
   ]
  }
 ],
 "metadata": {
  "kernelspec": {
   "display_name": "Python 3",
   "language": "python",
   "name": "python3"
  },
  "language_info": {
   "codemirror_mode": {
    "name": "ipython",
    "version": 3
   },
   "file_extension": ".py",
   "mimetype": "text/x-python",
   "name": "python",
   "nbconvert_exporter": "python",
   "pygments_lexer": "ipython3",
   "version": "3.12.9"
  }
 },
 "nbformat": 4,
 "nbformat_minor": 5
}
