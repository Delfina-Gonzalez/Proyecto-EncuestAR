{
 "cells": [
  {
   "cell_type": "markdown",
   "id": "6ee5e12e",
   "metadata": {},
   "source": [
    "# EPH - Hogares"
   ]
  },
  {
   "cell_type": "markdown",
   "id": "abcbe757",
   "metadata": {},
   "source": [
    "## Ajuste de ruta del proyecto en Notebook"
   ]
  },
  {
   "cell_type": "code",
   "execution_count": 1,
   "id": "400d215c",
   "metadata": {},
   "outputs": [],
   "source": [
    "import sys\n",
    "\n",
    "# Ajusto para que la reconozca la ruta del proyecto\n",
    "sys.path.append(\"..\") "
   ]
  },
  {
   "cell_type": "markdown",
   "id": "e6652082",
   "metadata": {},
   "source": [
    "## Unificación de los archivos Hogares"
   ]
  },
  {
   "cell_type": "code",
   "execution_count": 2,
   "id": "cac9c810",
   "metadata": {},
   "outputs": [
    {
     "name": "stdout",
     "output_type": "stream",
     "text": [
      "✅ Archivo guardado en: C:\\Users\\galle\\OneDrive\\Escritorio\\Python-Estudio\\code\\data\\processed\\hogares_procesados.txt\n"
     ]
    }
   ],
   "source": [
    "from src.utils.constants import DATA_SOURCE_DIR,DATA_PROCESSED_DIR,FILENAME_HOGARES_PROCESSED\n",
    "from src.utils.helpers import process_file,save_to_file\n",
    "\n",
    "# Procesar y guardar hogares\n",
    "encabezados,hogares = process_file(DATA_SOURCE_DIR, category=\"hogar\")\n",
    "save_to_file(DATA_PROCESSED_DIR,FILENAME_HOGARES_PROCESSED,encabezados,hogares)\n"
   ]
  },
  {
   "cell_type": "markdown",
   "id": "2aa4e9c9",
   "metadata": {},
   "source": [
    "## Procesamiento de los archivos"
   ]
  },
  {
   "cell_type": "markdown",
   "id": "53f22b85-623d-4d22-b2d6-f9dfa60bf350",
   "metadata": {},
   "source": [
    "Abro los archivos procesados"
   ]
  },
  {
   "cell_type": "code",
   "execution_count": 3,
   "id": "ff39f297-4457-451a-bacf-bcbe21eae9d2",
   "metadata": {},
   "outputs": [],
   "source": [
    "from src.utils.constants import HOGARES_PROCESSED_DIR\n",
    "from src.utils.helpers import read_file_dic\n",
    "\n",
    "header,data=read_file_dic(HOGARES_PROCESSED_DIR)"
   ]
  },
  {
   "cell_type": "markdown",
   "id": "d4b7f8fd-e595-44bf-96df-5dd4b85ee092",
   "metadata": {},
   "source": [
    "Proceso el archivo"
   ]
  },
  {
   "cell_type": "code",
   "execution_count": 4,
   "id": "03224762",
   "metadata": {},
   "outputs": [],
   "source": [
    "import src.procesamientos.hogares as hog\n",
    "\n",
    "hog.procesar_hogares(header,data)"
   ]
  },
  {
   "cell_type": "markdown",
   "id": "1f185c79-7fbf-4f0b-85ca-8c0189ea3358",
   "metadata": {},
   "source": [
    "Sobrescribo los datos procesados en el mismo archivo"
   ]
  },
  {
   "cell_type": "code",
   "execution_count": 5,
   "id": "b257a46d-caaf-420b-b7bf-c72e8fae7bda",
   "metadata": {},
   "outputs": [
    {
     "name": "stdout",
     "output_type": "stream",
     "text": [
      "✅ Archivo guardado en: C:\\Users\\galle\\OneDrive\\Escritorio\\Python-Estudio\\code\\data\\processed\\hogares_procesados.txt\n"
     ]
    }
   ],
   "source": [
    "save_to_file(DATA_PROCESSED_DIR,FILENAME_HOGARES_PROCESSED,header,data)"
   ]
  },
  {
   "cell_type": "markdown",
   "id": "128f946e",
   "metadata": {},
   "source": [
    "## Análisis de hogares"
   ]
  },
  {
   "cell_type": "markdown",
   "id": "962a3cae",
   "metadata": {},
   "source": [
    "Abro el archivo hogares procesado"
   ]
  },
  {
   "cell_type": "code",
   "execution_count": 6,
   "id": "a583f2d5",
   "metadata": {},
   "outputs": [],
   "source": [
    "header,data = read_file_dic(HOGARES_PROCESSED_DIR)"
   ]
  },
  {
   "cell_type": "markdown",
   "id": "bd3d847a",
   "metadata": {},
   "source": [
    "Importo funciones de consultas"
   ]
  },
  {
   "cell_type": "code",
   "execution_count": 7,
   "id": "41e637db",
   "metadata": {},
   "outputs": [],
   "source": [
    "import src.consultas.consultas as cs"
   ]
  },
  {
   "cell_type": "markdown",
   "id": "c8ee677d",
   "metadata": {},
   "source": [
    "## 5- Informar para cada aglomerado el porcentaje de viviendas ocupadas por sus propietarios. "
   ]
  },
  {
   "cell_type": "code",
   "execution_count": 8,
   "id": "ec0390e2",
   "metadata": {},
   "outputs": [
    {
     "name": "stdout",
     "output_type": "stream",
     "text": [
      "Puesto  Código  Aglomerado                            % Propietarios\n",
      "--------------------------------------------------------------------\n",
      "1       22      Gran Catamarca                                91.04%\n",
      "2       18      Santiago del Estero - La Banda                89.28%\n",
      "3       19      Jujuy - Palpalá                               88.73%\n",
      "4       8       Gran Resistencia                              86.69%\n",
      "5       15      Formosa                                       85.38%\n",
      "6       14      Concordia                                     84.22%\n",
      "7       33      Partidos del GBA                              80.77%\n",
      "8       38      San Nicolás - Villa Constitución              79.90%\n",
      "9       6       Gran Paraná                                   79.83%\n",
      "10      29      Gran Tucumán - Tafí Viejo                     79.37%\n",
      "11      23      Gran Salta                                    78.57%\n",
      "12      5       Gran Santa Fe                                 78.51%\n",
      "13      27      Gran San Juan                                 77.45%\n",
      "14      34      Mar del Plata                                 77.09%\n",
      "15      7       Posadas                                       76.64%\n",
      "16      12      Corrientes                                    76.26%\n",
      "17      25      La Rioja                                      76.21%\n",
      "18      91      Rawson - Trelew                               75.43%\n",
      "19      9       Comodoro Rivadavia - Rada Tilly               74.18%\n",
      "20      17      Neuquén - Plottier                            74.16%\n",
      "21      93      Viedma - Carmen de Patagones                  73.79%\n",
      "22      2       Gran La Plata                                 73.73%\n",
      "23      26      Gran San Luis                                 71.93%\n",
      "24      4       Gran Rosario                                  71.66%\n",
      "25      10      Gran Mendoza                                  69.94%\n",
      "26      3       Bahía Blanca - Cerri                          69.14%\n",
      "27      30      Santa Rosa - Toay                             67.48%\n",
      "28      36      Río Cuarto                                    65.29%\n",
      "29      31      Ushuaia - Río Grande                          61.74%\n",
      "30      13      Gran Córdoba                                  60.97%\n",
      "31      32      Ciudad Autónoma de Buenos Aires               58.49%\n",
      "32      20      Río Gallegos                                  57.10%\n"
     ]
    }
   ],
   "source": [
    "# Se muestra un ranking de los aglomerados por porcentaje de viviendas \n",
    "# ocupadas por sus propietarios\n",
    "\n",
    "cs.procesar_y_mostrar_porcentajes(data)\n"
   ]
  },
  {
   "cell_type": "markdown",
   "id": "f6fc710e",
   "metadata": {},
   "source": [
    "## 6- Informar el aglomerado con mayor cantidad de viviendas  con más de dos ocupantes y sin baño. Informar también la cantidad de ellas. "
   ]
  },
  {
   "cell_type": "code",
   "execution_count": 9,
   "id": "c095ead1",
   "metadata": {},
   "outputs": [
    {
     "name": "stdout",
     "output_type": "stream",
     "text": [
      "Aglomerado con mayor porcentaje de viviendas precarias (más de 2 ocupantes y sin baño):\n",
      "  Aglomerado 12 con 1894 viviendas (equivale al 0.74%)\n"
     ]
    }
   ],
   "source": [
    "#from funciones_hogares import aglomerado_con_mayor_porcentaje_viviendas_precarias\n",
    "\n",
    "aglo, cantidad, porcentaje = cs.aglomerado_con_mayor_porcentaje_viviendas_precarias(data)\n",
    "\n",
    "if aglo is not None:\n",
    "    print(\"Aglomerado con mayor porcentaje de viviendas precarias (más de 2 ocupantes y sin baño):\")\n",
    "    print(f\"  Aglomerado {aglo} con {cantidad} viviendas (equivale al {porcentaje:.2f}%)\")\n",
    "else:\n",
    "    print(\"No se encontraron viviendas que cumplan con las condiciones.\")\n"
   ]
  },
  {
   "cell_type": "markdown",
   "id": "b94f4fca",
   "metadata": {},
   "source": [
    "## 8- Informar las regiones en orden descendente según el porcentaje de inquilinos de cada una."
   ]
  },
  {
   "cell_type": "code",
   "execution_count": 10,
   "id": "92a39f20",
   "metadata": {},
   "outputs": [
    {
     "name": "stdout",
     "output_type": "stream",
     "text": [
      "Puesto  Región                          Porcentaje de Inquilinos (%)\n",
      "----------------------------------------------------------------------\n",
      "1       44 - Patagonia                          26.37%\n",
      "2       43 - Pampeana                           25.49%\n",
      "3       42 - Cuyo                               23.46%\n",
      "4       1 - Gran Buenos Aires                  21.87%\n",
      "5       41 - Noreste                            17.44%\n",
      "6       40 - Noroeste                           15.36%\n"
     ]
    }
   ],
   "source": [
    "cs.ranking_inquilinos_por_region(data)"
   ]
  },
  {
   "cell_type": "markdown",
   "id": "abc5c593",
   "metadata": {},
   "source": [
    "### 11- Pedir al usuario que seleccione un año, y busque en el último trimestre almacenado del mencionado año, el aglomerado con mayor porcentaje de viviendas de “Material precario” y el aglomerado con menor porcentaje de viviendas de “Material precario”."
   ]
  },
  {
   "cell_type": "code",
   "execution_count": 8,
   "id": "15061657",
   "metadata": {},
   "outputs": [
    {
     "name": "stdout",
     "output_type": "stream",
     "text": [
      "--------------------------------------------------\n",
      "El aglomerado con mayor porcentaje de vivientas de material precario es:  27 con 15.57\n",
      "El aglomerado con menor porcentaje de vivientas de material precario es:  3 con 0.0\n"
     ]
    }
   ],
   "source": [
    "# recibimos los aglomerados con mayor y menor porcentaje\n",
    "anio = input(\"Ingrese un anio: \")\n",
    "\n",
    "Aglo_mayor, Aglo_menor = cs.aglomerado_mayor_menor_vivienda_precario(anio, data)\n",
    "\n",
    "cs.mostrar_datos_porcentajes(Aglo_mayor, Aglo_menor)"
   ]
  }
 ],
 "metadata": {
  "kernelspec": {
   "display_name": "Python 3",
   "language": "python",
   "name": "python3"
  },
  "language_info": {
   "codemirror_mode": {
    "name": "ipython",
    "version": 3
   },
   "file_extension": ".py",
   "mimetype": "text/x-python",
   "name": "python",
   "nbconvert_exporter": "python",
   "pygments_lexer": "ipython3",
   "version": "3.12.9"
  }
 },
 "nbformat": 4,
 "nbformat_minor": 5
}
