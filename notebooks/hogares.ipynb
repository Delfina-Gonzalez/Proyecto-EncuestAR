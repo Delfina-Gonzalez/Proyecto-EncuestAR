{
 "cells": [
  {
   "cell_type": "markdown",
   "id": "6ee5e12e",
   "metadata": {},
   "source": [
    "# EPH - Hogares"
   ]
  },
  {
   "cell_type": "markdown",
   "id": "abcbe757",
   "metadata": {},
   "source": [
    "## Libererias"
   ]
  },
  {
   "cell_type": "code",
   "execution_count": 1,
   "id": "400d215c",
   "metadata": {},
   "outputs": [],
   "source": [
    "import sys\n",
    "import csv\n",
    "from pathlib import Path\n",
    "\n",
    "# Ajusto para que la reconozca la ruta del proyecto\n",
    "sys.path.append(\"..\") \n",
    "\n",
    "#CONSTANTS\n",
    "from src.utils.constants import PROJECT_ROOT, DATA_SOURCE_DIR,DATA_CLEAN_DIR,FILENAME_HOGARES_UNIFIED\n",
    "from src.utils.helpers import process_file,save_to_txt\n",
    "\n"
   ]
  },
  {
   "cell_type": "markdown",
   "id": "e6652082",
   "metadata": {},
   "source": [
    "## UNIFICAR ARCHIVOS"
   ]
  },
  {
   "cell_type": "code",
   "execution_count": 2,
   "id": "cac9c810",
   "metadata": {},
   "outputs": [
    {
     "name": "stdout",
     "output_type": "stream",
     "text": [
      "C:\\Users\\PC\\Documents\\1) Estudios y Programacion\\EncuestAR\\data\\raw\\usu_hogar_T324.txt\n",
      "usu_hogar_T324.txt\n",
      "usu_hogar_T324.txt\n",
      "C:\\Users\\PC\\Documents\\1) Estudios y Programacion\\EncuestAR\\data\\raw\\usu_individual_T324.txt\n",
      "✅ Archivo TXT guardado en: C:\\Users\\PC\\Documents\\1) Estudios y Programacion\\EncuestAR\\data\\clean\\hogares_unificado.txt\n"
     ]
    }
   ],
   "source": [
    "# Procesar y guardar individuos\n",
    "hogares = process_file(DATA_SOURCE_DIR, category=\"hogar\")\n",
    "save_to_txt(hogares, DATA_CLEAN_DIR , FILENAME_HOGARES_UNIFIED)"
   ]
  },
  {
   "cell_type": "markdown",
   "id": "2aa4e9c9",
   "metadata": {},
   "source": [
    "## PREPROCESAR ARCHIVOS"
   ]
  },
  {
   "cell_type": "code",
   "execution_count": null,
   "id": "adef8c0f",
   "metadata": {},
   "outputs": [
    {
     "name": "stdout",
     "output_type": "stream",
     "text": [
      "✅ Archivo procesado guardado en: ..\\data\\clean\\hogares_procesado.txt\n"
     ]
    }
   ],
   "source": [
    "from src.procesamientos.hogares import proceso_hogar_fila\n",
    "from src.utils.constants import PROJECT_ROOT, DATA_SOURCE_DIR,DATA_CLEAN_DIR,HOGARES_UNIFIED_DIR\n",
    "from src.utils.helpers import process_file,save_to_txt\n",
    "\n",
    "\n",
    "# Carpeta para guardar el archivo procesado\n",
    "ruta_salida = HOGARES_UNIFIED_DIR.parent\n",
    "archivo_salida = \n",
    "# Leer y procesar los datos\n",
    "filas_procesadas = []\n",
    "\n",
    "with open(ruta_archivo, mode='r', encoding='utf-8') as file_hogares:\n",
    "    csv_reader = csv.DictReader(file_hogares, delimiter=\";\")\n",
    "    header = csv_reader.fieldnames.copy()\n",
    "\n",
    "    # Agregar nuevas columnas al header\n",
    "    header.extend([\"TIPO_HOGAR\", \"MATERIAL_TECHUMBRE\", \"DENSIDAD_HOGAR\", \"CONDICION_DE_HABITABILIDAD\"])\n",
    "\n",
    "    for fila in csv_reader:\n",
    "        fila_procesada = proceso_hogar_fila(fila)\n",
    "        filas_procesadas.append(fila_procesada)\n",
    "\n",
    "# Guardar el archivo procesado en la misma carpeta\n",
    "with open(archivo_salida, mode='w', encoding='utf-8', newline='') as file_salida:\n",
    "    csv_writer = csv.DictWriter(file_salida, delimiter=\";\", fieldnames=header)\n",
    "    csv_writer.writeheader()\n",
    "    csv_writer.writerows(filas_procesadas)\n",
    "\n",
    "print(f\"✅ Archivo procesado guardado en: {archivo_salida}\")"
   ]
  },
  {
   "cell_type": "markdown",
   "id": "128f946e",
   "metadata": {},
   "source": [
    "## CONSULTAS"
   ]
  },
  {
   "cell_type": "code",
   "execution_count": null,
   "id": "7908fac2",
   "metadata": {},
   "outputs": [],
   "source": [
    "# Ruta original del archivo limpio\n",
    "ruta = \"../data/clean\"\n",
    "archivo = \"hogares_procesado.txt\"\n",
    "ruta_archivo = Path(ruta) / archivo\n",
    "\n"
   ]
  }
 ],
 "metadata": {
  "kernelspec": {
   "display_name": "Python 3",
   "language": "python",
   "name": "python3"
  },
  "language_info": {
   "codemirror_mode": {
    "name": "ipython",
    "version": 3
   },
   "file_extension": ".py",
   "mimetype": "text/x-python",
   "name": "python",
   "nbconvert_exporter": "python",
   "pygments_lexer": "ipython3",
   "version": "3.12.9"
  }
 },
 "nbformat": 4,
 "nbformat_minor": 5
}
