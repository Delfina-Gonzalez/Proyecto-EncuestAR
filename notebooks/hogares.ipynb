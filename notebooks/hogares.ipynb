{
 "cells": [
  {
   "cell_type": "markdown",
   "id": "6ee5e12e",
   "metadata": {},
   "source": [
    "# EPH - Hogares"
   ]
  },
  {
   "cell_type": "markdown",
   "id": "abcbe757",
   "metadata": {},
   "source": [
    "## Libererias"
   ]
  },
  {
   "cell_type": "code",
   "execution_count": 1,
   "id": "400d215c",
   "metadata": {},
   "outputs": [],
   "source": [
    "import sys\n",
    "import os\n",
    "import csv\n",
    "from pathlib import Path"
   ]
  },
  {
   "cell_type": "code",
   "execution_count": 2,
   "id": "228605f9",
   "metadata": {},
   "outputs": [
    {
     "name": "stdout",
     "output_type": "stream",
     "text": [
      "'src' path: c:\\Users\\PC\\Documents\\1) Estudios y Programacion\\EncuestAR\\src\n"
     ]
    }
   ],
   "source": [
    "# Ajusto para que la reconozca la ruta del proyecto\n",
    "project_path = os.path.abspath(os.path.join(\"..\"))  \n",
    "sys.path.append(project_path) \n",
    "# Verificación (debe mostrar la ruta a \"src/\")\n",
    "print(\"'src' path:\", os.path.join(project_path, \"src\"))"
   ]
  },
  {
   "cell_type": "markdown",
   "id": "e6652082",
   "metadata": {},
   "source": [
    "## UNIFICAR ARCHIVOS"
   ]
  },
  {
   "cell_type": "code",
   "execution_count": 3,
   "id": "cac9c810",
   "metadata": {},
   "outputs": [
    {
     "name": "stdout",
     "output_type": "stream",
     "text": [
      "✅ Archivo TXT guardado en: ../data/clean\\hogares_unificado.txt\n"
     ]
    }
   ],
   "source": [
    "from src.utils.helpers import process_file,save_to_txt\n",
    "# Ruta los archivos \n",
    "source_path = \"../data/raw\"\n",
    "destination_path = \"../data/clean\"\n",
    "\n",
    "\n",
    "# Procesar y guardar individuos\n",
    "hogares = process_file(source_path, category=\"hogar\")\n",
    "save_to_txt(hogares, destination_path, \"hogares_unificado.txt\")"
   ]
  },
  {
   "cell_type": "markdown",
   "id": "2aa4e9c9",
   "metadata": {},
   "source": [
    "## PREPROCESAR ARCHIVOS"
   ]
  },
  {
   "cell_type": "code",
   "execution_count": 4,
   "id": "adef8c0f",
   "metadata": {},
   "outputs": [
    {
     "name": "stdout",
     "output_type": "stream",
     "text": [
      "✅ Archivo procesado guardado en: ..\\data\\clean\\hogares_procesado.txt\n"
     ]
    }
   ],
   "source": [
    "from pathlib import Path\n",
    "import csv\n",
    "from src.procesamientos.hogares import proceso_hogar_fila\n",
    "\n",
    "# Ruta original del archivo limpio\n",
    "ruta = \"../data/clean\"\n",
    "archivo = \"hogares_unificado.txt\"\n",
    "ruta_archivo = Path(ruta) / archivo\n",
    "\n",
    "# Carpeta para guardar el archivo procesado\n",
    "ruta_salida = ruta_archivo.parent\n",
    "archivo_salida = ruta_salida / \"hogares_procesado.txt\"\n",
    "\n",
    "# Leer y procesar los datos\n",
    "filas_procesadas = []\n",
    "\n",
    "with open(ruta_archivo, mode='r', encoding='utf-8') as file_hogares:\n",
    "    csv_reader = csv.DictReader(file_hogares, delimiter=\";\")\n",
    "    header = csv_reader.fieldnames.copy()\n",
    "\n",
    "    # Agregar nuevas columnas al header\n",
    "    header.extend([\"TIPO_HOGAR\", \"MATERIAL_TECHUMBRE\", \"DENSIDAD_HOGAR\", \"CONDICION_DE_HABITABILIDAD\"])\n",
    "\n",
    "    for fila in csv_reader:\n",
    "        fila_procesada = proceso_hogar_fila(fila)\n",
    "        filas_procesadas.append(fila_procesada)\n",
    "\n",
    "# Guardar el archivo procesado en la misma carpeta\n",
    "with open(archivo_salida, mode='w', encoding='utf-8', newline='') as file_salida:\n",
    "    csv_writer = csv.DictWriter(file_salida, delimiter=\";\", fieldnames=header)\n",
    "    csv_writer.writeheader()\n",
    "    csv_writer.writerows(filas_procesadas)\n",
    "\n",
    "print(f\"✅ Archivo procesado guardado en: {archivo_salida}\")"
   ]
  },
  {
   "cell_type": "markdown",
   "id": "128f946e",
   "metadata": {},
   "source": [
    "## CONSULTAS"
   ]
  },
  {
   "cell_type": "code",
   "execution_count": null,
   "id": "7908fac2",
   "metadata": {},
   "outputs": [],
   "source": [
    "# Ruta original del archivo limpio\n",
    "ruta = \"../data/clean\"\n",
    "archivo = \"hogares_procesado.txt\"\n",
    "ruta_archivo = Path(ruta) / archivo\n",
    "\n"
   ]
  }
 ],
 "metadata": {
  "kernelspec": {
   "display_name": "Python 3",
   "language": "python",
   "name": "python3"
  },
  "language_info": {
   "codemirror_mode": {
    "name": "ipython",
    "version": 3
   },
   "file_extension": ".py",
   "mimetype": "text/x-python",
   "name": "python",
   "nbconvert_exporter": "python",
   "pygments_lexer": "ipython3",
   "version": "3.12.9"
  }
 },
 "nbformat": 4,
 "nbformat_minor": 5
}
