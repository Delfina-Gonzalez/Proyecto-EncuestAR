{
 "cells": [
  {
   "cell_type": "markdown",
   "id": "6ee5e12e",
   "metadata": {},
   "source": [
    "# EPH - Hogares"
   ]
  },
  {
   "cell_type": "markdown",
   "id": "abcbe757",
   "metadata": {},
   "source": [
    "## Libererias"
   ]
  },
  {
   "cell_type": "code",
   "execution_count": null,
   "id": "400d215c",
   "metadata": {},
   "outputs": [],
   "source": [
    "import sys\n",
    "import os\n",
    "import csv\n",
    "from pathlib import Path"
   ]
  },
  {
   "cell_type": "markdown",
   "id": "dca9ca8f",
   "metadata": {},
   "source": [
    "# Ajustar la ruta para que Python reconozca la carpeta \"src\"\n",
    "ruta_proyecto = os.path.abspath(os.path.join(\"..\"))  \n",
    "sys.path.append(ruta_proyecto) \n",
    "# Verificación (debe mostrar la ruta a \"src/\")\n",
    "print(\"Ruta de 'src':\", os.path.join(ruta_proyecto, \"src\"))"
   ]
  },
  {
   "cell_type": "markdown",
   "id": "e6652082",
   "metadata": {},
   "source": [
    "## UNIFICAR ARCHIVOS"
   ]
  },
  {
   "cell_type": "code",
   "execution_count": null,
   "id": "cac9c810",
   "metadata": {},
   "outputs": [],
   "source": [
    "from src.utils.helpers import procesar_archivos,guardar_en_txt\n",
    "# Ruta los archivos \n",
    "ruta = \"../data/raw\"\n",
    "ruta_destino = \"../data/clean\"\n",
    "\n",
    "\n",
    "# Procesar y guardar individuos\n",
    "hogares = procesar_archivos(ruta, tipo=\"hogar\")\n",
    "guardar_en_txt(hogares, ruta_destino, \"hogares_unificado.txt\")"
   ]
  },
  {
   "cell_type": "markdown",
   "id": "2aa4e9c9",
   "metadata": {},
   "source": [
    "## PREPROCESAR ARCHIVOS"
   ]
  },
  {
   "cell_type": "code",
   "execution_count": null,
   "id": "adef8c0f",
   "metadata": {},
   "outputs": [],
   "source": [
    "from pathlib import Path\n",
    "import csv\n",
    "from src.procesamientos.hogares import proceso_hogar_fila\n",
    "\n",
    "# Ruta original del archivo limpio\n",
    "ruta = \"../data/clean\"\n",
    "archivo = \"hogares_unificado.txt\"\n",
    "ruta_archivo = Path(ruta) / archivo\n",
    "\n",
    "# Carpeta para guardar el archivo procesado\n",
    "ruta_salida = ruta_archivo.parent\n",
    "archivo_salida = ruta_salida / \"hogares_procesado.csv\"\n",
    "\n",
    "# Leer y procesar los datos\n",
    "filas_procesadas = []\n",
    "\n",
    "with open(ruta_archivo, mode='r', encoding='utf-8') as file_hogares:\n",
    "    csv_reader = csv.DictReader(file_hogares, delimiter=\";\")\n",
    "    header = csv_reader.fieldnames.copy()\n",
    "\n",
    "    # Agregar nuevas columnas al header\n",
    "    header.extend([\"TIPO_HOGAR\", \"MATERIAL_TECHUMBRE\", \"DENSIDAD_HOGAR\", \"CONDICION_DE_HABITABILIDAD\"])\n",
    "\n",
    "    for fila in csv_reader:\n",
    "        fila_procesada = proceso_hogar_fila(fila)\n",
    "        filas_procesadas.append(fila_procesada)\n",
    "\n",
    "# Guardar el archivo procesado en la misma carpeta\n",
    "with open(archivo_salida, mode='w', encoding='utf-8', newline='') as file_salida:\n",
    "    csv_writer = csv.DictWriter(file_salida, delimiter=\";\", fieldnames=header)\n",
    "    csv_writer.writeheader()\n",
    "    csv_writer.writerows(filas_procesadas)\n",
    "\n",
    "print(f\"✅ Archivo procesado guardado en: {archivo_salida}\")"
   ]
  },
  {
   "cell_type": "markdown",
   "id": "128f946e",
   "metadata": {},
   "source": [
    "## CONSULTAS"
   ]
  },
  {
   "cell_type": "code",
   "execution_count": null,
   "id": "7908fac2",
   "metadata": {},
   "outputs": [],
   "source": []
  }
 ],
 "metadata": {
  "language_info": {
   "name": "python"
  }
 },
 "nbformat": 4,
 "nbformat_minor": 5
}
