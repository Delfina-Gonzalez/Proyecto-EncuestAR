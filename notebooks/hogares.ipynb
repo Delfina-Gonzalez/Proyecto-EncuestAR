{
 "cells": [
  {
   "cell_type": "markdown",
   "id": "6ee5e12e",
   "metadata": {},
   "source": [
    "# EPH - Hogares"
   ]
  },
  {
   "cell_type": "markdown",
   "id": "abcbe757",
   "metadata": {},
   "source": [
    "## Librerias"
   ]
  },
  {
   "cell_type": "code",
   "execution_count": 1,
   "id": "400d215c",
   "metadata": {},
   "outputs": [],
   "source": [
    "import sys\n",
    "import csv\n",
    "from pathlib import Path\n",
    "\n",
    "# Ajusto para que la reconozca la ruta del proyecto\n",
    "sys.path.append(\"..\") \n",
    "\n",
    "#CONSTANTS\n",
    "from src.utils.constants import DATA_SOURCE_DIR,DATA_CLEAN_DIR,HOGARES_UNIFIED_DIR,FILENAME_HOGARES_UNIFIED,HOGARES_PROCESSED_DIR"
   ]
  },
  {
   "cell_type": "markdown",
   "id": "e6652082",
   "metadata": {},
   "source": [
    "## UNIFICAR ARCHIVOS"
   ]
  },
  {
   "cell_type": "code",
   "execution_count": 2,
   "id": "cac9c810",
   "metadata": {},
   "outputs": [
    {
     "name": "stdout",
     "output_type": "stream",
     "text": [
      "C:\\Users\\PC\\Documents\\1) Estudios y Programacion\\EncuestAR\\data\\raw\\usu_hogar_T324.txt\n",
      "C:\\Users\\PC\\Documents\\1) Estudios y Programacion\\EncuestAR\\data\\raw\\usu_individual_T324.txt\n",
      "✅ Archivo TXT guardado en: C:\\Users\\PC\\Documents\\1) Estudios y Programacion\\EncuestAR\\data\\clean\\hogares_unificado.txt\n"
     ]
    }
   ],
   "source": [
    "from src.utils.helpers import process_file,save_to_txt\n",
    "\n",
    "# Procesar y guardar individuos\n",
    "hogares = process_file(DATA_SOURCE_DIR, category=\"hogar\")\n",
    "save_to_txt(hogares, DATA_CLEAN_DIR , FILENAME_HOGARES_UNIFIED)"
   ]
  },
  {
   "cell_type": "markdown",
   "id": "2aa4e9c9",
   "metadata": {},
   "source": [
    "## PREPROCESAR ARCHIVOS"
   ]
  },
  {
   "cell_type": "code",
   "execution_count": null,
   "id": "03224762",
   "metadata": {},
   "outputs": [],
   "source": [
    "from src.utils.helpers import read_file_dic\n",
    "from src.procesamientos.hogares import clasificar_hogar_hab,clasificar_hogar_techo,clasificar_hogar_densidad_hab,clasificar_hogar_habitabilidad\n",
    "\n",
    "import csv\n",
    "\n",
    "#Leo el archivo de hogares unificiado y me guardo el encabezado y las filas en una columna\n",
    "header,data=read_file_dic(HOGARES_UNIFIED_DIR)\n",
    "\n",
    "# Agrego las nuevas columnas al header\n",
    "header.extend([\"TIPO_HOGAR\", \"MATERIAL_TECHUMBRE\", \"DENSIDAD_HOGAR\", \"CONDICION_DE_HABITABILIDAD\"])\n",
    "\n",
    "#Creo una lista para guardar mis filas procesadas\n",
    "process_row = []\n",
    "\n",
    "#Recorro las fila y realizo los procesos \n",
    "for row in data:\n",
    "   # Clasifico el tipo de hogar según el número total de personas en Unipersonal,Nuclear o extendido\n",
    "   row['TIPO_HOGAR']=clasificar_hogar_hab(row['IX_TOT']) \n",
    "   \n",
    "   # Clasifico  según el tipo de material del techo en Material durable,precario,no aplica\n",
    "   row['MATERIAL_TECHUMBRE']=clasificar_hogar_techo(row['V4'])\n",
    "   \n",
    "   # Clasifico segun la densidad por hogar bajo,medio,alto\n",
    "   row['DENSIDAD_HOGAR']=clasificar_hogar_densidad_hab(row['IX_TOT'],row['IV2'])\n",
    "   \n",
    "   # Clasifico la condición de habitabilidad del hogar basado en varios atributos relacionados con la vivienda\n",
    "   row['CONDICION_DE_HABITABILIDAD']=clasificar_hogar_habitabilidad(row['IV6'],row['IV7'],row['IV8'],row['IV9'],row['IV10'],row['IV11'],row['MATERIAL_TECHUMBRE'],row['IV3'])\n",
    "   \n",
    "   #Agrego la fila procesada a la lista.\n",
    "   process_row.append(row)"
   ]
  },
  {
   "cell_type": "code",
   "execution_count": null,
   "id": "adef8c0f",
   "metadata": {},
   "outputs": [
    {
     "name": "stdout",
     "output_type": "stream",
     "text": [
      "✅ Archivo procesado guardado en: C:\\Users\\PC\\Documents\\1) Estudios y Programacion\\EncuestAR\\data\\processed\\hogares_procesados.txt\n"
     ]
    }
   ],
   "source": [
    "# Guardar el archivo procesado en la misma carpeta\n",
    "from src.utils.helpers import save_to_csv\n",
    "save_to_csv(HOGARES_PROCESSED_DIR,header,process_row, delimiter=\";\")"
   ]
  },
  {
   "cell_type": "markdown",
   "id": "128f946e",
   "metadata": {},
   "source": [
    "## CONSULTAS"
   ]
  },
  {
   "cell_type": "code",
   "execution_count": null,
   "id": "7908fac2",
   "metadata": {},
   "outputs": [],
   "source": [
    "# Ruta original del archivo limpio\n",
    "data_hogares=HOGARES_PROCESSED_DIR\n",
    "\n"
   ]
  }
 ],
 "metadata": {
  "kernelspec": {
   "display_name": "Python 3",
   "language": "python",
   "name": "python3"
  },
  "language_info": {
   "codemirror_mode": {
    "name": "ipython",
    "version": 3
   },
   "file_extension": ".py",
   "mimetype": "text/x-python",
   "name": "python",
   "nbconvert_exporter": "python",
   "pygments_lexer": "ipython3",
   "version": "3.12.9"
  }
 },
 "nbformat": 4,
 "nbformat_minor": 5
}
