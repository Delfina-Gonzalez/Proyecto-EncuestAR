{
<<<<<<< HEAD
   "cells": [
      {
         "cell_type": "markdown",
         "id": "6ee5e12e",
         "metadata": {},
         "source": [
            "# EPH - Hogares"
         ]
      },
      {
         "cell_type": "markdown",
         "id": "abcbe757",
         "metadata": {},
         "source": [
            "## Ajuste de ruta del proyecto en Notebook"
         ]
      },
      {
         "cell_type": "code",
         "execution_count": 1,
         "id": "400d215c",
         "metadata": {},
         "outputs": [],
         "source": [
            "import sys\n",
            "\n",
            "# Ajusto para que la reconozca la ruta del proyecto\n",
            "sys.path.append(\"..\") "
         ]
      },
      {
         "cell_type": "markdown",
         "id": "e6652082",
         "metadata": {},
         "source": [
            "## Unificación de los archivos Hogares"
         ]
      },
      {
         "cell_type": "code",
         "execution_count": 4,
         "id": "cac9c810",
         "metadata": {},
         "outputs": [
            {
               "name": "stdout",
               "output_type": "stream",
               "text": [
                  "✅ Archivo TXT guardado en: C:\\Users\\PC\\Desktop\\TP INTEGRADOR\\code\\data\\processed\\hogares_procesados.txt\n"
               ]
            }
         ],
         "source": [
            "from src.utils.constants import DATA_SOURCE_DIR,DATA_PROCESSED_DIR,FILENAME_HOGARES_PROCESSED,HOGARES_PROCESSED_DIR\n",
            "from src.utils.helpers import process_file,save_to_txt\n",
            "\n",
            "# Procesar y guardar hogares\n",
            "encabezados,hogares = process_file(DATA_SOURCE_DIR, category=\"hogar\")\n",
            "save_to_txt(encabezados,hogares, DATA_PROCESSED_DIR , FILENAME_HOGARES_PROCESSED)\n"
         ]
      },
      {
         "cell_type": "markdown",
         "id": "2aa4e9c9",
         "metadata": {},
         "source": [
            "## Procesamiento de los archivos"
         ]
      },
      {
         "cell_type": "code",
         "execution_count": 2,
         "id": "03224762",
         "metadata": {},
         "outputs": [],
         "source": [
            "import src.procesamientos.hogares as hog\n",
            "\n",
            "hog.procesar_hogares()"
         ]
      },
      {
         "cell_type": "markdown",
         "id": "128f946e",
         "metadata": {},
         "source": [
            "## Análisis de hogares"
         ]
      },
      {
         "cell_type": "markdown",
         "id": "962a3cae",
         "metadata": {},
         "source": [
            "Abro el archivo hogares procesado"
         ]
      },
      {
         "cell_type": "code",
         "execution_count": 4,
         "id": "a583f2d5",
         "metadata": {},
         "outputs": [],
         "source": [
            "from src.utils.helpers import read_file_dic\n",
            "from src.utils.constants import HOGARES_PROCESSED_DIR\n",
            "\n",
            "header,data = read_file_dic(HOGARES_PROCESSED_DIR)"
         ]
      },
      {
         "cell_type": "markdown",
         "id": "bd3d847a",
         "metadata": {},
         "source": [
            "Importo funciones de consultas"
         ]
      },
      {
         "cell_type": "code",
         "execution_count": 5,
         "id": "41e637db",
         "metadata": {},
         "outputs": [],
         "source": [
            "import src.consultas.consultas as cs"
         ]
      },
      {
         "cell_type": "markdown",
         "id": "c8ee677d",
         "metadata": {},
         "source": [
            "## 5- Informar para cada aglomerado el porcentaje de viviendas ocupadas por sus propietarios. "
         ]
      },
      {
         "cell_type": "code",
         "execution_count": 6,
         "id": "ec0390e2",
         "metadata": {},
         "outputs": [
            {
               "name": "stdout",
               "output_type": "stream",
               "text": [
                  "Puesto  Código  Aglomerado                            % Propietarios\n",
                  "--------------------------------------------------------------------\n",
                  "1       18      Santiago del Estero - La Banda                90.94%\n",
                  "2       22      Gran Catamarca                                89.23%\n",
                  "3       15      Formosa                                       88.39%\n",
                  "4       8       Gran Resistencia                              87.81%\n",
                  "5       19      Jujuy - Palpalá                               87.69%\n",
                  "6       14      Concordia                                     84.68%\n",
                  "7       33      Partidos del GBA                              82.95%\n",
                  "8       29      Gran Tucumán - Tafí Viejo                     82.55%\n",
                  "9       38      San Nicolás - Villa Constitución              81.45%\n",
                  "10      25      La Rioja                                      80.35%\n",
                  "11      27      Gran San Juan                                 80.12%\n",
                  "12      23      Gran Salta                                    79.68%\n",
                  "13      7       Posadas                                       78.66%\n",
                  "14      5       Gran Santa Fe                                 77.92%\n",
                  "15      12      Corrientes                                    76.96%\n",
                  "16      34      Mar del Plata                                 76.60%\n",
                  "17      4       Gran Rosario                                  76.31%\n",
                  "18      93      Viedma - Carmen de Patagones                  75.87%\n",
                  "19      2       Gran La Plata                                 75.85%\n",
                  "20      9       Comodoro Rivadavia - Rada Tilly               74.72%\n",
                  "21      91      Rawson - Trelew                               73.86%\n",
                  "22      26      Gran San Luis                                 73.84%\n",
                  "23      17      Neuquén - Plottier                            73.30%\n",
                  "24      10      Gran Mendoza                                  73.12%\n",
                  "25      6       Gran Paraná                                   71.47%\n",
                  "26      30      Santa Rosa - Toay                             71.04%\n",
                  "27      3       Bahía Blanca - Cerri                          69.81%\n",
                  "28      36      Río Cuarto                                    65.62%\n",
                  "29      13      Gran Córdoba                                  64.89%\n",
                  "30      20      Río Gallegos                                  61.80%\n",
                  "31      31      Ushuaia - Río Grande                          61.31%\n",
                  "32      32      Ciudad Autónoma de Buenos Aires               61.20%\n"
               ]
            }
         ],
         "source": [
            "# Se muestra un ranking de los aglomerados por porcentaje de viviendas \n",
            "# ocupadas por sus propietarios\n",
            "\n",
            "cs.procesar_y_mostrar_porcentajes(data)\n"
         ]
      },
      {
         "cell_type": "markdown",
         "id": "f6fc710e",
         "metadata": {},
         "source": [
            "## 6- Informar el aglomerado con mayor cantidad de viviendas  con más de dos ocupantes y sin baño. Informar también la cantidad de ellas. "
         ]
      },
      {
         "cell_type": "code",
         "execution_count": 7,
         "id": "c095ead1",
         "metadata": {},
         "outputs": [
            {
               "name": "stdout",
               "output_type": "stream",
               "text": [
                  "Aglomerado con mayor porcentaje de viviendas precarias (más de 2 ocupantes y sin baño):\n",
                  "  Aglomerado 18 con 25005 viviendas (equivale al 1.26%)\n"
               ]
            }
         ],
         "source": [
            "#from funciones_hogares import aglomerado_con_mayor_porcentaje_viviendas_precarias\n",
            "\n",
            "aglo, cantidad, porcentaje = cs.aglomerado_con_mayor_porcentaje_viviendas_precarias(data)\n",
            "\n",
            "if aglo is not None:\n",
            "    print(\"Aglomerado con mayor porcentaje de viviendas precarias (más de 2 ocupantes y sin baño):\")\n",
            "    print(f\"  Aglomerado {aglo} con {cantidad} viviendas (equivale al {porcentaje:.2f}%)\")\n",
            "else:\n",
            "    print(\"No se encontraron viviendas que cumplan con las condiciones.\")\n"
         ]
      },
      {
         "cell_type": "markdown",
         "id": "b94f4fca",
         "metadata": {},
         "source": [
            "## 8- Informar las regiones en orden descendente según el porcentaje de inquilinos de cada una."
         ]
      },
      {
         "cell_type": "code",
         "execution_count": 8,
         "id": "92a39f20",
         "metadata": {},
         "outputs": [
            {
               "name": "stdout",
               "output_type": "stream",
               "text": [
                  "Puesto  Región                          Porcentaje de Inquilinos (%)\n",
                  "----------------------------------------------------------------------\n",
                  "1       44 - Patagonia                          26.32%\n",
                  "2       43 - Pampeana                           24.05%\n",
                  "3       42 - Cuyo                               21.27%\n",
                  "4       1 - Gran Buenos Aires                  19.79%\n",
                  "5       41 - Noreste                            15.90%\n",
                  "6       40 - Noroeste                           13.93%\n"
               ]
            }
         ],
         "source": [
            "cs.ranking_inquilinos_por_region(data)"
         ]
      }
   ],
   "metadata": {
      "kernelspec": {
         "display_name": ".venv",
         "language": "python",
         "name": "python3"
      },
      "language_info": {
         "codemirror_mode": {
            "name": "ipython",
            "version": 3
         },
         "file_extension": ".py",
         "mimetype": "text/x-python",
         "name": "python",
         "nbconvert_exporter": "python",
         "pygments_lexer": "ipython3",
         "version": "3.12.9"
      }
=======
 "cells": [
  {
   "cell_type": "markdown",
   "id": "6ee5e12e",
   "metadata": {},
   "source": [
    "# EPH - Hogares"
   ]
  },
  {
   "cell_type": "markdown",
   "id": "abcbe757",
   "metadata": {},
   "source": [
    "## Ajuste de ruta del proyecto en Notebook"
   ]
  },
  {
   "cell_type": "code",
   "execution_count": null,
   "id": "400d215c",
   "metadata": {},
   "outputs": [],
   "source": [
    "import sys\n",
    "\n",
    "# Ajusto para que la reconozca la ruta del proyecto\n",
    "sys.path.append(\"..\") "
   ]
  },
  {
   "cell_type": "markdown",
   "id": "e6652082",
   "metadata": {},
   "source": [
    "## Unificación de los archivos Hogares"
   ]
  },
  {
   "cell_type": "code",
   "execution_count": null,
   "id": "cac9c810",
   "metadata": {},
   "outputs": [],
   "source": [
    "from src.utils.constants import DATA_SOURCE_DIR,DATA_PROCESSED_DIR,FILENAME_HOGARES_PROCESSED\n",
    "from src.utils.helpers import process_file,save_to_file\n",
    "\n",
    "# Procesar y guardar hogares\n",
    "encabezados,hogares = process_file(DATA_SOURCE_DIR, category=\"hogar\")\n",
    "save_to_file(DATA_PROCESSED_DIR,FILENAME_HOGARES_PROCESSED,encabezados,hogares)\n"
   ]
  },
  {
   "cell_type": "markdown",
   "id": "2aa4e9c9",
   "metadata": {},
   "source": [
    "## Procesamiento de los archivos"
   ]
  },
  {
   "cell_type": "markdown",
   "id": "53f22b85-623d-4d22-b2d6-f9dfa60bf350",
   "metadata": {},
   "source": [
    "Abro los archivos procesados"
   ]
  },
  {
   "cell_type": "code",
   "execution_count": null,
   "id": "ff39f297-4457-451a-bacf-bcbe21eae9d2",
   "metadata": {},
   "outputs": [],
   "source": [
    "from src.utils.constants import HOGARES_PROCESSED_DIR\n",
    "from src.utils.helpers import read_file_dic\n",
    "\n",
    "header,data=read_file_dic(HOGARES_PROCESSED_DIR)"
   ]
  },
  {
   "cell_type": "markdown",
   "id": "d4b7f8fd-e595-44bf-96df-5dd4b85ee092",
   "metadata": {},
   "source": [
    "Proceso el archivo"
   ]
  },
  {
   "cell_type": "code",
   "execution_count": null,
   "id": "03224762",
   "metadata": {},
   "outputs": [],
   "source": [
    "import src.procesamientos.hogares as hog\n",
    "\n",
    "hog.procesar_hogares(header,data)"
   ]
  },
  {
   "cell_type": "markdown",
   "id": "1f185c79-7fbf-4f0b-85ca-8c0189ea3358",
   "metadata": {},
   "source": [
    "Sobrescribo los datos procesados en el mismo archivo"
   ]
  },
  {
   "cell_type": "code",
   "execution_count": null,
   "id": "b257a46d-caaf-420b-b7bf-c72e8fae7bda",
   "metadata": {},
   "outputs": [],
   "source": [
    "save_to_file(DATA_PROCESSED_DIR,FILENAME_HOGARES_PROCESSED,header,data)"
   ]
  },
  {
   "cell_type": "markdown",
   "id": "128f946e",
   "metadata": {},
   "source": [
    "## Análisis de hogares"
   ]
  },
  {
   "cell_type": "markdown",
   "id": "962a3cae",
   "metadata": {},
   "source": [
    "Abro el archivo hogares procesado"
   ]
  },
  {
   "cell_type": "code",
   "execution_count": null,
   "id": "a583f2d5",
   "metadata": {},
   "outputs": [],
   "source": [
    "header,data = read_file_dic(HOGARES_PROCESSED_DIR)"
   ]
  },
  {
   "cell_type": "markdown",
   "id": "bd3d847a",
   "metadata": {},
   "source": [
    "Importo funciones de consultas"
   ]
  },
  {
   "cell_type": "code",
   "execution_count": null,
   "id": "41e637db",
   "metadata": {},
   "outputs": [],
   "source": [
    "import src.consultas.consultas as cs"
   ]
  },
  {
   "cell_type": "markdown",
   "id": "c8ee677d",
   "metadata": {},
   "source": [
    "## 5- Informar para cada aglomerado el porcentaje de viviendas ocupadas por sus propietarios. "
   ]
  },
  {
   "cell_type": "code",
   "execution_count": null,
   "id": "ec0390e2",
   "metadata": {},
   "outputs": [],
   "source": [
    "# Se muestra un ranking de los aglomerados por porcentaje de viviendas \n",
    "# ocupadas por sus propietarios\n",
    "\n",
    "cs.procesar_y_mostrar_porcentajes(data)\n"
   ]
  },
  {
   "cell_type": "markdown",
   "id": "f6fc710e",
   "metadata": {},
   "source": [
    "## 6- Informar el aglomerado con mayor cantidad de viviendas  con más de dos ocupantes y sin baño. Informar también la cantidad de ellas. "
   ]
  },
  {
   "cell_type": "code",
   "execution_count": null,
   "id": "c095ead1",
   "metadata": {},
   "outputs": [],
   "source": [
    "#from funciones_hogares import aglomerado_con_mayor_porcentaje_viviendas_precarias\n",
    "\n",
    "aglo, cantidad, porcentaje = cs.aglomerado_con_mayor_porcentaje_viviendas_precarias(data)\n",
    "\n",
    "if aglo is not None:\n",
    "    print(\"Aglomerado con mayor porcentaje de viviendas precarias (más de 2 ocupantes y sin baño):\")\n",
    "    print(f\"  Aglomerado {aglo} con {cantidad} viviendas (equivale al {porcentaje:.2f}%)\")\n",
    "else:\n",
    "    print(\"No se encontraron viviendas que cumplan con las condiciones.\")\n"
   ]
  },
  {
   "cell_type": "markdown",
   "id": "b94f4fca",
   "metadata": {},
   "source": [
    "## 8- Informar las regiones en orden descendente según el porcentaje de inquilinos de cada una."
   ]
  },
  {
   "cell_type": "code",
   "execution_count": null,
   "id": "92a39f20",
   "metadata": {},
   "outputs": [],
   "source": [
    "cs.ranking_inquilinos_por_region(data)"
   ]
  },
  {
   "cell_type": "code",
   "execution_count": null,
   "id": "38c416a7-4bb9-4a89-b864-6f573063545e",
   "metadata": {},
   "outputs": [],
   "source": []
  }
 ],
 "metadata": {
  "kernelspec": {
   "display_name": "Python 3 (ipykernel)",
   "language": "python",
   "name": "python3"
  },
  "language_info": {
   "codemirror_mode": {
    "name": "ipython",
    "version": 3
>>>>>>> 641066cb6d733f0aa361a0094036dcbb6392a1dd
   },
   "file_extension": ".py",
   "mimetype": "text/x-python",
   "name": "python",
   "nbconvert_exporter": "python",
   "pygments_lexer": "ipython3",
   "version": "3.12.9"
  }
 },
 "nbformat": 4,
 "nbformat_minor": 5
}
