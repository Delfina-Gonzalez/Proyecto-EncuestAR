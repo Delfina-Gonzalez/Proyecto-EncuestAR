{
   "cells": [
      {
         "cell_type": "markdown",
         "id": "6ee5e12e",
         "metadata": {},
         "source": [
            "# EPH - Hogares"
         ]
      },
      {
         "cell_type": "markdown",
         "id": "abcbe757",
         "metadata": {},
         "source": [
            "## Ajuste de ruta del proyecto en Notebook"
         ]
      },
      {
         "cell_type": "code",
         "execution_count": 2,
         "id": "400d215c",
         "metadata": {},
         "outputs": [],
         "source": [
            "import sys\n",
            "\n",
            "# Ajusto para que la reconozca la ruta del proyecto\n",
            "sys.path.append(\"..\") "
         ]
      },
      {
         "cell_type": "markdown",
         "id": "e6652082",
         "metadata": {},
         "source": [
            "## Unificación de los archivos Hogares"
         ]
      },
      {
         "cell_type": "code",
         "execution_count": 3,
         "id": "cac9c810",
         "metadata": {},
         "outputs": [
            {
               "name": "stdout",
               "output_type": "stream",
               "text": [
                  "✅ Archivo TXT guardado en: C:\\Users\\Usuario\\Documents\\CDO 2025\\Taller de Lenguaje\\Práctica\\Proyecto\\grupo18\\code\\data\\clean\\hogares_unificado.txt\n"
               ]
            }
         ],
         "source": [
            "from src.utils.constants import DATA_SOURCE_DIR,DATA_CLEAN_DIR,FILENAME_HOGARES_UNIFIED,HOGARES_PROCESSED_DIR\n",
            "from src.utils.helpers import process_file,save_to_txt\n",
            "\n",
            "# Procesar y guardar hogares\n",
            "encabezados,hogares = process_file(DATA_SOURCE_DIR, category=\"hogar\")\n",
            "save_to_txt(encabezados,hogares, DATA_CLEAN_DIR , FILENAME_HOGARES_UNIFIED)\n"
         ]
      },
      {
         "cell_type": "markdown",
         "id": "2aa4e9c9",
         "metadata": {},
         "source": [
            "## Procesamiento de los archivos"
         ]
      },
      {
         "cell_type": "code",
         "execution_count": 3,
         "id": "03224762",
         "metadata": {},
         "outputs": [],
         "source": [
            "import src.procesamientos.hogares as hog\n",
            "\n",
            "hog.procesar_hogares()"
         ]
      },
      {
         "cell_type": "markdown",
         "id": "128f946e",
         "metadata": {},
         "source": [
            "## Análisis de hogares"
         ]
      },
      {
         "cell_type": "markdown",
         "id": "962a3cae",
         "metadata": {},
         "source": [
            "Abro el archivo hogares procesado"
         ]
      },
      {
         "cell_type": "code",
         "execution_count": 4,
         "id": "a583f2d5",
         "metadata": {},
         "outputs": [],
         "source": [
            "from src.utils.helpers import read_file_dic\n",
            "\n",
            "header,data = read_file_dic(HOGARES_PROCESSED_DIR)"
         ]
      },
      {
         "cell_type": "markdown",
         "id": "bd3d847a",
         "metadata": {},
         "source": [
            "Importo funciones de consultas"
         ]
      },
      {
         "cell_type": "code",
         "execution_count": 6,
         "id": "41e637db",
         "metadata": {},
         "outputs": [],
         "source": [
            "import src.consultas.consultas as cs"
         ]
      },
      {
         "cell_type": "markdown",
         "id": "c8ee677d",
         "metadata": {},
         "source": [
            "## 5- Informar para cada aglomerado el porcentaje de viviendas ocupadas por sus propietarios. "
         ]
      },
      {
         "cell_type": "code",
         "execution_count": null,
         "id": "ec0390e2",
         "metadata": {},
         "outputs": [],
         "source": [
            "# Se muestra un ranking de los aglomerados por porcentaje de viviendas \n",
            "# ocupadas por sus propietarios\n",
            "\n",
            "cs.procesar_y_mostrar_porcentajes(data)\n"
         ]
      },
      {
         "cell_type": "markdown",
         "id": "f6fc710e",
         "metadata": {},
         "source": [
            "## 6- Informar el aglomerado con mayor cantidad de viviendas  con más de dos ocupantes y sin baño. Informar también la cantidad de ellas. "
         ]
      },
      {
         "cell_type": "code",
         "execution_count": null,
         "id": "c095ead1",
         "metadata": {},
         "outputs": [],
         "source": [
            "#from funciones_hogares import aglomerado_con_mayor_porcentaje_viviendas_precarias\n",
            "\n",
            "aglo, cantidad, porcentaje = cs.aglomerado_con_mayor_porcentaje_viviendas_precarias(data)\n",
            "\n",
            "if aglo is not None:\n",
            "    print(\"Aglomerado con mayor porcentaje de viviendas precarias (más de 2 ocupantes y sin baño):\")\n",
            "    print(f\"  Aglomerado {aglo} con {cantidad} viviendas (equivale al {porcentaje:.2f}%)\")\n",
            "else:\n",
            "    print(\"No se encontraron viviendas que cumplan con las condiciones.\")\n"
         ]
      },
      {
         "cell_type": "markdown",
         "id": "b94f4fca",
         "metadata": {},
         "source": [
            "## 8- Informar las regiones en orden descendente según el porcentaje de inquilinos de cada una."
         ]
      },
      {
         "cell_type": "code",
         "execution_count": null,
         "id": "92a39f20",
         "metadata": {},
         "outputs": [
            {
               "name": "stdout",
               "output_type": "stream",
               "text": [
                  "Puesto  Región                          Porcentaje de Inquilinos (%)\n",
                  "----------------------------------------------------------------------\n",
                  "1       44 - Patagonia                          26.74%\n",
                  "2       43 - Pampeana                           24.82%\n",
                  "3       42 - Cuyo                               23.63%\n",
                  "4       1 - Gran Buenos Aires                  20.91%\n",
                  "5       41 - Noreste                            17.50%\n",
                  "6       40 - Noroeste                           15.23%\n"
               ]
            }
         ],
         "source": [
            "cs.ranking_inquilinos_por_region(data)"
         ]
      }
   ],
   "metadata": {
      "kernelspec": {
         "display_name": ".venv",
         "language": "python",
         "name": "python3"
      },
      "language_info": {
         "codemirror_mode": {
            "name": "ipython",
            "version": 3
         },
         "file_extension": ".py",
         "mimetype": "text/x-python",
         "name": "python",
         "nbconvert_exporter": "python",
         "pygments_lexer": "ipython3",
         "version": "3.12.9"
      }
   },
   "nbformat": 4,
   "nbformat_minor": 5
}
