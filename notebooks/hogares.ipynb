{
 "cells": [
  {
   "cell_type": "markdown",
   "id": "6ee5e12e",
   "metadata": {},
   "source": [
    "# EPH - Hogares"
   ]
  },
  {
   "cell_type": "markdown",
   "id": "abcbe757",
   "metadata": {},
   "source": [
    "## Ajuste de ruta del proyecto en Notebook"
   ]
  },
  {
   "cell_type": "code",
   "execution_count": 1,
   "id": "400d215c",
   "metadata": {},
   "outputs": [],
   "source": [
    "import sys\n",
    "\n",
    "# Ajusto para que la reconozca la ruta del proyecto\n",
    "sys.path.append(\"..\") "
   ]
  },
  {
   "cell_type": "markdown",
   "id": "e6652082",
   "metadata": {},
   "source": [
    "## Unificación de los archivos Hogares"
   ]
  },
  {
   "cell_type": "code",
   "execution_count": null,
   "id": "cac9c810",
   "metadata": {},
   "outputs": [],
   "source": [
    "from src.utils.constants import DATA_SOURCE_DIR,DATA_PROCESSED_DIR,FILENAME_HOGARES_PROCESSED\n",
    "from src.utils.helpers import process_file,save_to_file\n",
    "\n",
    "# Procesar y guardar hogares\n",
    "encabezados,hogares = process_file(DATA_SOURCE_DIR, category=\"hogar\")\n",
    "save_to_file(DATA_PROCESSED_DIR,FILENAME_HOGARES_PROCESSED,encabezados,hogares)\n"
   ]
  },
  {
   "cell_type": "markdown",
   "id": "2aa4e9c9",
   "metadata": {},
   "source": [
    "## Procesamiento de los archivos"
   ]
  },
  {
   "cell_type": "markdown",
   "id": "53f22b85-623d-4d22-b2d6-f9dfa60bf350",
   "metadata": {},
   "source": [
    "Abro los archivos procesados"
   ]
  },
  {
   "cell_type": "code",
   "execution_count": 3,
   "id": "ff39f297-4457-451a-bacf-bcbe21eae9d2",
   "metadata": {},
   "outputs": [],
   "source": [
    "from src.utils.constants import HOGARES_PROCESSED_DIR\n",
    "from src.utils.helpers import read_file_dic\n",
    "\n",
    "header,data=read_file_dic(HOGARES_PROCESSED_DIR)"
   ]
  },
  {
   "cell_type": "markdown",
   "id": "d4b7f8fd-e595-44bf-96df-5dd4b85ee092",
   "metadata": {},
   "source": [
    "Proceso el archivo"
   ]
  },
  {
   "cell_type": "code",
   "execution_count": null,
   "id": "03224762",
   "metadata": {},
   "outputs": [],
   "source": [
    "import src.procesamientos.hogares as hog\n",
    "\n",
    "fechamin, fechamax = hog.procesar_hogares(header, data)\n",
    "if fechamin is not None and fechamax is not None:\n",
    "    print(f\"📅 Período procesado: desde {fechamin[1]}/{fechamin[0]} hasta {fechamax[1]}/{fechamax[0]}\")\n",
    "else:   \n",
    "    print(\"No hay datos para procesar.\")\n"
   ]
  },
  {
   "cell_type": "markdown",
   "id": "1f185c79-7fbf-4f0b-85ca-8c0189ea3358",
   "metadata": {},
   "source": [
    "Sobrescribo los datos procesados en el mismo archivo"
   ]
  },
  {
   "cell_type": "code",
   "execution_count": null,
   "id": "b257a46d-caaf-420b-b7bf-c72e8fae7bda",
   "metadata": {},
   "outputs": [],
   "source": [
    "save_to_file(DATA_PROCESSED_DIR,FILENAME_HOGARES_PROCESSED,header,data)"
   ]
  },
  {
   "cell_type": "markdown",
   "id": "128f946e",
   "metadata": {},
   "source": [
    "## Análisis de hogares"
   ]
  },
  {
   "cell_type": "markdown",
   "id": "962a3cae",
   "metadata": {},
   "source": [
    "Abro el archivo hogares procesado"
   ]
  },
  {
   "cell_type": "code",
   "execution_count": 6,
   "id": "a583f2d5",
   "metadata": {},
   "outputs": [],
   "source": [
    "header,data = read_file_dic(HOGARES_PROCESSED_DIR)"
   ]
  },
  {
   "cell_type": "markdown",
   "id": "bd3d847a",
   "metadata": {},
   "source": [
    "Importo funciones de consultas"
   ]
  },
  {
   "cell_type": "code",
   "execution_count": 7,
   "id": "41e637db",
   "metadata": {},
   "outputs": [],
   "source": [
    "import src.consultas.consultas as cs"
   ]
  },
  {
   "cell_type": "markdown",
   "id": "c8ee677d",
   "metadata": {},
   "source": [
    "## 5- Informar para cada aglomerado el porcentaje de viviendas ocupadas por sus propietarios. "
   ]
  },
  {
   "cell_type": "code",
   "execution_count": null,
   "id": "ec0390e2",
   "metadata": {},
   "outputs": [],
   "source": [
    "resultado = cs.procesar_y_mostrar_porcentajes(data)\n",
    "\n",
    "cs.imprimir_tabla_ranking(resultado)\n"
   ]
  },
  {
   "cell_type": "markdown",
   "id": "f6fc710e",
   "metadata": {},
   "source": [
    "## 6- Informar el aglomerado con mayor cantidad de viviendas  con más de dos ocupantes y sin baño. Informar también la cantidad de ellas. "
   ]
  },
  {
   "cell_type": "code",
   "execution_count": null,
   "id": "c095ead1",
   "metadata": {},
   "outputs": [],
   "source": [
    "aglo, cantidad = cs.aglomerado_con_mayor_cantidad_viviendas_precarias(data)"
   ]
  },
  {
   "cell_type": "markdown",
   "id": "b94f4fca",
   "metadata": {},
   "source": [
    "## 8- Informar las regiones en orden descendente según el porcentaje de inquilinos de cada una."
   ]
  },
  {
   "cell_type": "code",
   "execution_count": 14,
   "id": "92a39f20",
   "metadata": {},
   "outputs": [
    {
     "name": "stdout",
     "output_type": "stream",
     "text": [
      "Puesto  Región                          Porcentaje de Inquilinos (%)\n",
      "----------------------------------------------------------------------\n",
      "1       44 - Patagonia                          27.03%\n",
      "2       43 - Pampeana                           25.34%\n",
      "3       42 - Cuyo                               23.15%\n",
      "4       1 - Gran Buenos Aires                  20.42%\n",
      "5       41 - Noreste                            16.65%\n",
      "6       40 - Noroeste                           14.48%\n",
      "Puesto  Región                          Porcentaje de Inquilinos (%)\n",
      "----------------------------------------------------------------------\n"
     ]
    },
    {
     "ename": "TypeError",
     "evalue": "'NoneType' object is not iterable",
     "output_type": "error",
     "traceback": [
      "\u001b[31m---------------------------------------------------------------------------\u001b[39m",
      "\u001b[31mTypeError\u001b[39m                                 Traceback (most recent call last)",
      "\u001b[36mCell\u001b[39m\u001b[36m \u001b[39m\u001b[32mIn[14]\u001b[39m\u001b[32m, line 3\u001b[39m\n\u001b[32m      1\u001b[39m ranking = cs.ranking_inquilinos_por_region(data)\n\u001b[32m----> \u001b[39m\u001b[32m3\u001b[39m \u001b[43mcs\u001b[49m\u001b[43m.\u001b[49m\u001b[43mimprimir_ranking_inquilinos_por_region\u001b[49m\u001b[43m(\u001b[49m\u001b[43mranking\u001b[49m\u001b[43m)\u001b[49m\n",
      "\u001b[36mFile \u001b[39m\u001b[32mc:\\Users\\MONSO\\code\\notebooks\\..\\src\\consultas\\consultas.py:539\u001b[39m, in \u001b[36mimprimir_ranking_inquilinos_por_region\u001b[39m\u001b[34m(ranking)\u001b[39m\n\u001b[32m    536\u001b[39m \u001b[38;5;28mprint\u001b[39m(\u001b[33m\"\u001b[39m\u001b[33m-\u001b[39m\u001b[33m\"\u001b[39m * \u001b[32m70\u001b[39m)\n\u001b[32m    538\u001b[39m \u001b[38;5;66;03m# Imprimir el ranking\u001b[39;00m\n\u001b[32m--> \u001b[39m\u001b[32m539\u001b[39m \u001b[38;5;28;01mfor\u001b[39;00m i, (region, porcentaje) \u001b[38;5;129;01min\u001b[39;00m \u001b[38;5;28;43menumerate\u001b[39;49m\u001b[43m(\u001b[49m\u001b[43mranking\u001b[49m\u001b[43m,\u001b[49m\u001b[43m \u001b[49m\u001b[43mstart\u001b[49m\u001b[43m=\u001b[49m\u001b[32;43m1\u001b[39;49m\u001b[43m)\u001b[49m:\n\u001b[32m    540\u001b[39m     nombre_reg = REGIONES_NOMBRES.get(\u001b[38;5;28mint\u001b[39m(region))\n\u001b[32m    541\u001b[39m     \u001b[38;5;28mprint\u001b[39m(\u001b[33mf\u001b[39m\u001b[33m\"\u001b[39m\u001b[38;5;132;01m{\u001b[39;00mi\u001b[38;5;132;01m:\u001b[39;00m\u001b[33m<8\u001b[39m\u001b[38;5;132;01m}\u001b[39;00m\u001b[38;5;132;01m{\u001b[39;00mregion\u001b[38;5;132;01m}\u001b[39;00m\u001b[33m - \u001b[39m\u001b[38;5;132;01m{\u001b[39;00mnombre_reg\u001b[38;5;132;01m:\u001b[39;00m\u001b[33m<30\u001b[39m\u001b[38;5;132;01m}\u001b[39;00m\u001b[38;5;132;01m{\u001b[39;00mporcentaje\u001b[38;5;132;01m:\u001b[39;00m\u001b[33m>10.2f\u001b[39m\u001b[38;5;132;01m}\u001b[39;00m\u001b[33m%\u001b[39m\u001b[33m\"\u001b[39m)\n",
      "\u001b[31mTypeError\u001b[39m: 'NoneType' object is not iterable"
     ]
    }
   ],
   "source": [
    "ranking = cs.ranking_inquilinos_por_region(data)\n",
    "\n",
    "cs.imprimir_ranking_inquilinos_por_region(ranking)"
   ]
  },
  {
   "cell_type": "markdown",
   "id": "abc5c593",
   "metadata": {},
   "source": [
    "### 11- Pedir al usuario que seleccione un año, y busque en el último trimestre almacenado del mencionado año, el aglomerado con mayor porcentaje de viviendas de “Material precario” y el aglomerado con menor porcentaje de viviendas de “Material precario”."
   ]
  },
  {
   "cell_type": "code",
   "execution_count": null,
   "id": "15061657",
   "metadata": {},
   "outputs": [],
   "source": [
    "# recibimos los aglomerados con mayor y menor porcentaje\n",
    "anio = input(\"Ingrese un año: \")\n",
    "\n",
    "Aglo_mayor, Aglo_menor = cs.aglomerado_mayor_menor_vivienda_precario(anio, data)\n",
    "\n",
    "cs.mostrar_datos_porcentajes(Aglo_mayor, Aglo_menor)"
   ]
  }
 ],
 "metadata": {
  "kernelspec": {
   "display_name": "Python 3",
   "language": "python",
   "name": "python3"
  },
  "language_info": {
   "codemirror_mode": {
    "name": "ipython",
    "version": 3
   },
   "file_extension": ".py",
   "mimetype": "text/x-python",
   "name": "python",
   "nbconvert_exporter": "python",
   "pygments_lexer": "ipython3",
   "version": "3.12.9"
  }
 },
 "nbformat": 4,
 "nbformat_minor": 5
}
