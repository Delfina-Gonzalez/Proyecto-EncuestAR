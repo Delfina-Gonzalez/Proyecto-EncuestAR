{
 "cells": [
  {
   "cell_type": "markdown",
   "id": "6ee5e12e",
   "metadata": {},
   "source": [
    "# EPH - Hogares"
   ]
  },
  {
   "cell_type": "markdown",
   "id": "abcbe757",
   "metadata": {},
   "source": [
    "## Ajuste de ruta del proyecto en Notebook"
   ]
  },
  {
   "cell_type": "code",
   "execution_count": null,
   "id": "400d215c",
   "metadata": {},
   "outputs": [],
   "source": [
    "import sys\n",
    "\n",
    "# Ajusto para que la reconozca la ruta del proyecto\n",
    "sys.path.append(\"..\") "
   ]
  },
  {
   "cell_type": "markdown",
   "id": "e6652082",
   "metadata": {},
   "source": [
    "## Unificación de los archivos Hogares"
   ]
  },
  {
   "cell_type": "code",
   "execution_count": null,
   "id": "cac9c810",
   "metadata": {},
   "outputs": [],
   "source": [
    "from src.utils.constants import DATA_SOURCE_DIR,DATA_PROCESSED_DIR,FILENAME_HOGARES_PROCESSED\n",
    "from src.utils.helpers import process_file,save_to_file\n",
    "\n",
    "# Procesar y guardar hogares\n",
    "encabezados,hogares = process_file(DATA_SOURCE_DIR, category=\"hogar\")\n",
    "save_to_file(DATA_PROCESSED_DIR,FILENAME_HOGARES_PROCESSED,encabezados,hogares)\n"
   ]
  },
  {
   "cell_type": "markdown",
   "id": "2aa4e9c9",
   "metadata": {},
   "source": [
    "## Procesamiento de los archivos"
   ]
  },
  {
   "cell_type": "markdown",
   "id": "53f22b85-623d-4d22-b2d6-f9dfa60bf350",
   "metadata": {},
   "source": [
    "Abro los archivos procesados"
   ]
  },
  {
   "cell_type": "code",
   "execution_count": null,
   "id": "ff39f297-4457-451a-bacf-bcbe21eae9d2",
   "metadata": {},
   "outputs": [],
   "source": [
    "from src.utils.constants import HOGARES_PROCESSED_DIR\n",
    "from src.utils.helpers import read_file_dic\n",
    "\n",
    "header,data=read_file_dic(HOGARES_PROCESSED_DIR)"
   ]
  },
  {
   "cell_type": "markdown",
   "id": "d4b7f8fd-e595-44bf-96df-5dd4b85ee092",
   "metadata": {},
   "source": [
    "Proceso el archivo"
   ]
  },
  {
   "cell_type": "code",
   "execution_count": null,
   "id": "03224762",
   "metadata": {},
   "outputs": [],
   "source": [
    "import src.procesamientos.hogares as hog\n",
    "\n",
    "hog.procesar_hogares(header,data)"
   ]
  },
  {
   "cell_type": "markdown",
   "id": "1f185c79-7fbf-4f0b-85ca-8c0189ea3358",
   "metadata": {},
   "source": [
    "Sobrescribo los datos procesados en el mismo archivo"
   ]
  },
  {
   "cell_type": "code",
   "execution_count": null,
   "id": "b257a46d-caaf-420b-b7bf-c72e8fae7bda",
   "metadata": {},
   "outputs": [],
   "source": [
    "save_to_file(DATA_PROCESSED_DIR,FILENAME_HOGARES_PROCESSED,header,data)"
   ]
  },
  {
   "cell_type": "markdown",
   "id": "128f946e",
   "metadata": {},
   "source": [
    "## Análisis de hogares"
   ]
  },
  {
   "cell_type": "markdown",
   "id": "962a3cae",
   "metadata": {},
   "source": [
    "Abro el archivo hogares procesado"
   ]
  },
  {
   "cell_type": "code",
   "execution_count": null,
   "id": "a583f2d5",
   "metadata": {},
   "outputs": [],
   "source": [
    "header,data = read_file_dic(HOGARES_PROCESSED_DIR)"
   ]
  },
  {
   "cell_type": "markdown",
   "id": "bd3d847a",
   "metadata": {},
   "source": [
    "Importo funciones de consultas"
   ]
  },
  {
   "cell_type": "code",
   "execution_count": null,
   "id": "41e637db",
   "metadata": {},
   "outputs": [],
   "source": [
    "import src.consultas.consultas as cs"
   ]
  },
  {
   "cell_type": "markdown",
   "id": "c8ee677d",
   "metadata": {},
   "source": [
    "## 5- Informar para cada aglomerado el porcentaje de viviendas ocupadas por sus propietarios. "
   ]
  },
  {
   "cell_type": "code",
   "execution_count": null,
   "id": "ec0390e2",
   "metadata": {},
   "outputs": [],
   "source": [
    "# Se muestra un ranking de los aglomerados por porcentaje de viviendas \n",
    "# ocupadas por sus propietarios\n",
    "\n",
    "cs.procesar_y_mostrar_porcentajes(data)\n"
   ]
  },
  {
   "cell_type": "markdown",
   "id": "f6fc710e",
   "metadata": {},
   "source": [
    "## 6- Informar el aglomerado con mayor cantidad de viviendas  con más de dos ocupantes y sin baño. Informar también la cantidad de ellas. "
   ]
  },
  {
   "cell_type": "code",
   "execution_count": null,
   "id": "c095ead1",
   "metadata": {},
   "outputs": [],
   "source": [
    "#from funciones_hogares import aglomerado_con_mayor_porcentaje_viviendas_precarias\n",
    "\n",
    "aglo, cantidad, porcentaje = cs.aglomerado_con_mayor_porcentaje_viviendas_precarias(data)\n",
    "\n",
    "if aglo is not None:\n",
    "    print(\"Aglomerado con mayor porcentaje de viviendas precarias (más de 2 ocupantes y sin baño):\")\n",
    "    print(f\"  Aglomerado {aglo} con {cantidad} viviendas (equivale al {porcentaje:.2f}%)\")\n",
    "else:\n",
    "    print(\"No se encontraron viviendas que cumplan con las condiciones.\")\n"
   ]
  },
  {
   "cell_type": "markdown",
   "id": "b94f4fca",
   "metadata": {},
   "source": [
    "## 8- Informar las regiones en orden descendente según el porcentaje de inquilinos de cada una."
   ]
  },
  {
   "cell_type": "code",
   "execution_count": null,
   "id": "92a39f20",
   "metadata": {},
   "outputs": [],
   "source": [
    "cs.ranking_inquilinos_por_region(data)"
   ]
  },
  {
   "cell_type": "code",
   "execution_count": null,
   "id": "38c416a7-4bb9-4a89-b864-6f573063545e",
   "metadata": {},
   "outputs": [],
   "source": []
  }
 ],
 "metadata": {
  "kernelspec": {
   "display_name": "Python 3 (ipykernel)",
   "language": "python",
   "name": "python3"
  },
  "language_info": {
   "codemirror_mode": {
    "name": "ipython",
    "version": 3
   },
   "file_extension": ".py",
   "mimetype": "text/x-python",
   "name": "python",
   "nbconvert_exporter": "python",
   "pygments_lexer": "ipython3",
   "version": "3.12.9"
  }
 },
 "nbformat": 4,
 "nbformat_minor": 5
}
